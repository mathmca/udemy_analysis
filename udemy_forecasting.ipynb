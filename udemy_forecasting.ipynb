{
  "cells": [
    {
      "cell_type": "markdown",
      "metadata": {
        "id": "view-in-github",
        "colab_type": "text"
      },
      "source": [
        "<a href=\"https://colab.research.google.com/github/mathmca/udemy_portfolio/blob/main/udemy_forecasting.ipynb\" target=\"_parent\"><img src=\"https://colab.research.google.com/assets/colab-badge.svg\" alt=\"Open In Colab\"/></a>"
      ]
    },
    {
      "cell_type": "markdown",
      "metadata": {
        "id": "_zvVQHPOr2h2"
      },
      "source": [
        "# Udemy Price Strategy"
      ]
    },
    {
      "cell_type": "markdown",
      "metadata": {
        "id": "b18dhjlasCa8"
      },
      "source": [
        "We are making three hypothesis to select our data of interest. They are:\n",
        "1. There are Price Makers: Those who have a lot of comments, followers and reviews (The assumption is: Having more comments, reviews and followers they might offer a higher price; if they are in this position they know how to adjust their price)\n",
        "2. There are Price Takers: Those who are new to the plataform, do not have (or have a lower amount) comments, feedbacks, followers. We are assuming that they do not have power to choose the fair price, mainly based on market conditions.\n",
        "3. The new content creator will choose the avarege price, the most commun price or below of him to catch a piece of the market\n",
        "**To choose a fair price, the content creator need to study the market and their competitors, losing time that could be used to improve their content **\n",
        "\n",
        "Thus, we are going to focus on these targets: ***The avarage market***\n"
      ]
    },
    {
      "cell_type": "markdown",
      "metadata": {
        "id": "YnaGlnhBUUYx"
      },
      "source": [
        "## Getting the data"
      ]
    },
    {
      "cell_type": "code",
      "execution_count": 8,
      "metadata": {
        "colab": {
          "base_uri": "https://localhost:8080/"
        },
        "id": "EeXzAItcN0A_",
        "outputId": "8ff4b123-69f2-403d-82b4-2d80fc3d19d1"
      },
      "outputs": [
        {
          "output_type": "stream",
          "name": "stdout",
          "text": [
            "Looking in indexes: https://pypi.org/simple, https://us-python.pkg.dev/colab-wheels/public/simple/\n",
            "Requirement already satisfied: kaggle in /usr/local/lib/python3.7/dist-packages (1.5.12)\n",
            "Requirement already satisfied: requests in /usr/local/lib/python3.7/dist-packages (from kaggle) (2.23.0)\n",
            "Requirement already satisfied: python-dateutil in /usr/local/lib/python3.7/dist-packages (from kaggle) (2.8.2)\n",
            "Requirement already satisfied: certifi in /usr/local/lib/python3.7/dist-packages (from kaggle) (2022.6.15)\n",
            "Requirement already satisfied: tqdm in /usr/local/lib/python3.7/dist-packages (from kaggle) (4.64.1)\n",
            "Requirement already satisfied: urllib3 in /usr/local/lib/python3.7/dist-packages (from kaggle) (1.24.3)\n",
            "Requirement already satisfied: python-slugify in /usr/local/lib/python3.7/dist-packages (from kaggle) (6.1.2)\n",
            "Requirement already satisfied: six>=1.10 in /usr/local/lib/python3.7/dist-packages (from kaggle) (1.15.0)\n",
            "Requirement already satisfied: text-unidecode>=1.3 in /usr/local/lib/python3.7/dist-packages (from python-slugify->kaggle) (1.3)\n",
            "Requirement already satisfied: idna<3,>=2.5 in /usr/local/lib/python3.7/dist-packages (from requests->kaggle) (2.10)\n",
            "Requirement already satisfied: chardet<4,>=3.0.2 in /usr/local/lib/python3.7/dist-packages (from requests->kaggle) (3.0.4)\n"
          ]
        }
      ],
      "source": [
        "! pip install kaggle"
      ]
    },
    {
      "cell_type": "code",
      "execution_count": 9,
      "metadata": {
        "colab": {
          "base_uri": "https://localhost:8080/"
        },
        "id": "mbdEAQ0FSbCi",
        "outputId": "16405899-e1df-435a-b9fb-40668b9adc57"
      },
      "outputs": [
        {
          "output_type": "stream",
          "name": "stdout",
          "text": [
            "mkdir: cannot create directory ‘/root/.kaggle’: File exists\n"
          ]
        }
      ],
      "source": [
        "! mkdir ~/.kaggle"
      ]
    },
    {
      "cell_type": "code",
      "execution_count": 10,
      "metadata": {
        "id": "d_ASHb0_Shi6"
      },
      "outputs": [],
      "source": [
        "! cp kaggle.json ~/.kaggle/"
      ]
    },
    {
      "cell_type": "code",
      "execution_count": 11,
      "metadata": {
        "id": "ZpidfRZ9SnKX"
      },
      "outputs": [],
      "source": [
        "! chmod 600 ~/.kaggle/kaggle.json"
      ]
    },
    {
      "cell_type": "code",
      "execution_count": 12,
      "metadata": {
        "colab": {
          "base_uri": "https://localhost:8080/"
        },
        "id": "YKamsbRyS4v8",
        "outputId": "94321943-d41e-4f5b-de62-6adc194483a6"
      },
      "outputs": [
        {
          "output_type": "stream",
          "name": "stdout",
          "text": [
            "Downloading udemy-courses.zip to /content\n",
            "\r  0% 0.00/200k [00:00<?, ?B/s]\n",
            "\r100% 200k/200k [00:00<00:00, 73.5MB/s]\n"
          ]
        }
      ],
      "source": [
        "! kaggle datasets download -d andrewmvd/udemy-courses"
      ]
    },
    {
      "cell_type": "code",
      "execution_count": 45,
      "metadata": {
        "id": "CdZT970qTvHH"
      },
      "outputs": [],
      "source": [
        "from zipfile import ZipFile\n",
        "%matplotlib inline\n",
        "import matplotlib.pyplot as plt\n",
        "import plotly.express as px\n",
        "import os\n",
        "import pandas as pd\n",
        "import numpy as np\n",
        "from sklearn.model_selection import train_test_split\n",
        "from sklearn.model_selection import RandomizedSearchCV\n",
        "from sklearn.model_selection import cross_val_score\n",
        "from sklearn.impute import SimpleImputer\n",
        "from sklearn.preprocessing import OneHotEncoder\n",
        "from sklearn.preprocessing import StandardScaler\n",
        "from sklearn.preprocessing import LabelBinarizer\n",
        "from sklearn.preprocessing import PolynomialFeatures\n",
        "from sklearn.base import BaseEstimator, TransformerMixin\n",
        "from sklearn.pipeline import Pipeline\n",
        "from sklearn.compose import ColumnTransformer\n",
        "from sklearn.decomposition import PCA\n",
        "from sklearn.linear_model import LinearRegression\n",
        "from sklearn.tree import DecisionTreeRegressor\n",
        "from sklearn.ensemble import RandomForestRegressor\n",
        "from sklearn.svm import SVR\n",
        "from sklearn.metrics import mean_squared_error, mean_absolute_error, r2_score\n",
        "from sklearn.neighbors import KNeighborsRegressor\n",
        "from scipy import stats\n",
        "\n",
        "\n",
        "class data_saveload():\n",
        "  def __init__(self, data_path: str, ArchName: str, filename: str):\n",
        "    self.data_path = data_path\n",
        "    self.filename = filename\n",
        "    self.ArchName = ArchName\n",
        "  def savedata(self):\n",
        "    os.makedirs(self.data_path, exist_ok=True)\n",
        "    if self.ArchName.endswith('.zip'):\n",
        "      zip_path = os.path.join(os.getcwd(), self.ArchName)\n",
        "      with ZipFile(zip_path, 'r') as zip:\n",
        "        zip.printdir()\n",
        "        zip.extractall(path=self.data_path)\n",
        "        print('Finished!')\n",
        "    else:\n",
        "      os.path.join(data_path, self.filename)\n",
        "  def loadata(self):\n",
        "    arch = os.path.join(self.data_path, self.filename)\n",
        "    return pd.read_csv(arch)\n",
        "  def load_save(self):\n",
        "    self.savedata()\n",
        "    return self.loadata()\n",
        "\n",
        "data_path = os.path.join(os.getcwd(), \"database\")"
      ]
    },
    {
      "cell_type": "code",
      "execution_count": 14,
      "metadata": {
        "colab": {
          "base_uri": "https://localhost:8080/"
        },
        "id": "lkNysc45cQdI",
        "outputId": "a1e9f46d-18bf-498c-8a5b-d7e8ccf76c8e"
      },
      "outputs": [
        {
          "output_type": "stream",
          "name": "stdout",
          "text": [
            "File Name                                             Modified             Size\n",
            "udemy_courses.csv                              2020-05-17 00:01:44       693946\n",
            "Finished!\n"
          ]
        }
      ],
      "source": [
        "df_original = data_saveload(data_path=data_path, ArchName='udemy-courses.zip', filename='udemy_courses.csv')\n",
        "df = df_original.load_save()"
      ]
    },
    {
      "cell_type": "markdown",
      "metadata": {
        "id": "pv_RQOi-XQFe"
      },
      "source": [
        "## Data Overview"
      ]
    },
    {
      "cell_type": "markdown",
      "source": [
        "There is a problem with \"is_paid\". Even if \"is_paid==False(or True)\", they have a price (or not). Therefore it is worthless and problematic. Then, I droped it"
      ],
      "metadata": {
        "id": "wXACINJLnmE9"
      }
    },
    {
      "cell_type": "code",
      "execution_count": 15,
      "metadata": {
        "id": "VltjpaeZe2D5"
      },
      "outputs": [],
      "source": [
        "# Dropping irrelevant columns\n",
        "\n",
        "df.drop(labels=['course_id', 'course_title', 'url', 'published_timestamp', 'is_paid'], inplace=True, axis=1)"
      ]
    },
    {
      "cell_type": "code",
      "execution_count": 16,
      "metadata": {
        "colab": {
          "base_uri": "https://localhost:8080/",
          "height": 424
        },
        "id": "d0oWIffRe3ys",
        "outputId": "e5736fe9-d1df-41de-8f5c-574c965470b1"
      },
      "outputs": [
        {
          "output_type": "execute_result",
          "data": {
            "text/plain": [
              "      price  num_subscribers  num_reviews  num_lectures               level  \\\n",
              "0       200             2147           23            51          All Levels   \n",
              "1        75             2792          923           274          All Levels   \n",
              "2        45             2174           74            51  Intermediate Level   \n",
              "3        95             2451           11            36          All Levels   \n",
              "4       200             1276           45            26  Intermediate Level   \n",
              "...     ...              ...          ...           ...                 ...   \n",
              "3673    100             1040           14            21          All Levels   \n",
              "3674     25              306            3            42      Beginner Level   \n",
              "3675     40              513          169            48          All Levels   \n",
              "3676     50              300           31            38          All Levels   \n",
              "3677     45              901           36            20      Beginner Level   \n",
              "\n",
              "      content_duration           subject  \n",
              "0                  1.5  Business Finance  \n",
              "1                 39.0  Business Finance  \n",
              "2                  2.5  Business Finance  \n",
              "3                  3.0  Business Finance  \n",
              "4                  2.0  Business Finance  \n",
              "...                ...               ...  \n",
              "3673               2.0   Web Development  \n",
              "3674               3.5   Web Development  \n",
              "3675               3.5   Web Development  \n",
              "3676               3.0   Web Development  \n",
              "3677               2.0   Web Development  \n",
              "\n",
              "[3678 rows x 7 columns]"
            ],
            "text/html": [
              "\n",
              "  <div id=\"df-dd3ccd92-d3d0-447c-9258-a30cd374973c\">\n",
              "    <div class=\"colab-df-container\">\n",
              "      <div>\n",
              "<style scoped>\n",
              "    .dataframe tbody tr th:only-of-type {\n",
              "        vertical-align: middle;\n",
              "    }\n",
              "\n",
              "    .dataframe tbody tr th {\n",
              "        vertical-align: top;\n",
              "    }\n",
              "\n",
              "    .dataframe thead th {\n",
              "        text-align: right;\n",
              "    }\n",
              "</style>\n",
              "<table border=\"1\" class=\"dataframe\">\n",
              "  <thead>\n",
              "    <tr style=\"text-align: right;\">\n",
              "      <th></th>\n",
              "      <th>price</th>\n",
              "      <th>num_subscribers</th>\n",
              "      <th>num_reviews</th>\n",
              "      <th>num_lectures</th>\n",
              "      <th>level</th>\n",
              "      <th>content_duration</th>\n",
              "      <th>subject</th>\n",
              "    </tr>\n",
              "  </thead>\n",
              "  <tbody>\n",
              "    <tr>\n",
              "      <th>0</th>\n",
              "      <td>200</td>\n",
              "      <td>2147</td>\n",
              "      <td>23</td>\n",
              "      <td>51</td>\n",
              "      <td>All Levels</td>\n",
              "      <td>1.5</td>\n",
              "      <td>Business Finance</td>\n",
              "    </tr>\n",
              "    <tr>\n",
              "      <th>1</th>\n",
              "      <td>75</td>\n",
              "      <td>2792</td>\n",
              "      <td>923</td>\n",
              "      <td>274</td>\n",
              "      <td>All Levels</td>\n",
              "      <td>39.0</td>\n",
              "      <td>Business Finance</td>\n",
              "    </tr>\n",
              "    <tr>\n",
              "      <th>2</th>\n",
              "      <td>45</td>\n",
              "      <td>2174</td>\n",
              "      <td>74</td>\n",
              "      <td>51</td>\n",
              "      <td>Intermediate Level</td>\n",
              "      <td>2.5</td>\n",
              "      <td>Business Finance</td>\n",
              "    </tr>\n",
              "    <tr>\n",
              "      <th>3</th>\n",
              "      <td>95</td>\n",
              "      <td>2451</td>\n",
              "      <td>11</td>\n",
              "      <td>36</td>\n",
              "      <td>All Levels</td>\n",
              "      <td>3.0</td>\n",
              "      <td>Business Finance</td>\n",
              "    </tr>\n",
              "    <tr>\n",
              "      <th>4</th>\n",
              "      <td>200</td>\n",
              "      <td>1276</td>\n",
              "      <td>45</td>\n",
              "      <td>26</td>\n",
              "      <td>Intermediate Level</td>\n",
              "      <td>2.0</td>\n",
              "      <td>Business Finance</td>\n",
              "    </tr>\n",
              "    <tr>\n",
              "      <th>...</th>\n",
              "      <td>...</td>\n",
              "      <td>...</td>\n",
              "      <td>...</td>\n",
              "      <td>...</td>\n",
              "      <td>...</td>\n",
              "      <td>...</td>\n",
              "      <td>...</td>\n",
              "    </tr>\n",
              "    <tr>\n",
              "      <th>3673</th>\n",
              "      <td>100</td>\n",
              "      <td>1040</td>\n",
              "      <td>14</td>\n",
              "      <td>21</td>\n",
              "      <td>All Levels</td>\n",
              "      <td>2.0</td>\n",
              "      <td>Web Development</td>\n",
              "    </tr>\n",
              "    <tr>\n",
              "      <th>3674</th>\n",
              "      <td>25</td>\n",
              "      <td>306</td>\n",
              "      <td>3</td>\n",
              "      <td>42</td>\n",
              "      <td>Beginner Level</td>\n",
              "      <td>3.5</td>\n",
              "      <td>Web Development</td>\n",
              "    </tr>\n",
              "    <tr>\n",
              "      <th>3675</th>\n",
              "      <td>40</td>\n",
              "      <td>513</td>\n",
              "      <td>169</td>\n",
              "      <td>48</td>\n",
              "      <td>All Levels</td>\n",
              "      <td>3.5</td>\n",
              "      <td>Web Development</td>\n",
              "    </tr>\n",
              "    <tr>\n",
              "      <th>3676</th>\n",
              "      <td>50</td>\n",
              "      <td>300</td>\n",
              "      <td>31</td>\n",
              "      <td>38</td>\n",
              "      <td>All Levels</td>\n",
              "      <td>3.0</td>\n",
              "      <td>Web Development</td>\n",
              "    </tr>\n",
              "    <tr>\n",
              "      <th>3677</th>\n",
              "      <td>45</td>\n",
              "      <td>901</td>\n",
              "      <td>36</td>\n",
              "      <td>20</td>\n",
              "      <td>Beginner Level</td>\n",
              "      <td>2.0</td>\n",
              "      <td>Web Development</td>\n",
              "    </tr>\n",
              "  </tbody>\n",
              "</table>\n",
              "<p>3678 rows × 7 columns</p>\n",
              "</div>\n",
              "      <button class=\"colab-df-convert\" onclick=\"convertToInteractive('df-dd3ccd92-d3d0-447c-9258-a30cd374973c')\"\n",
              "              title=\"Convert this dataframe to an interactive table.\"\n",
              "              style=\"display:none;\">\n",
              "        \n",
              "  <svg xmlns=\"http://www.w3.org/2000/svg\" height=\"24px\"viewBox=\"0 0 24 24\"\n",
              "       width=\"24px\">\n",
              "    <path d=\"M0 0h24v24H0V0z\" fill=\"none\"/>\n",
              "    <path d=\"M18.56 5.44l.94 2.06.94-2.06 2.06-.94-2.06-.94-.94-2.06-.94 2.06-2.06.94zm-11 1L8.5 8.5l.94-2.06 2.06-.94-2.06-.94L8.5 2.5l-.94 2.06-2.06.94zm10 10l.94 2.06.94-2.06 2.06-.94-2.06-.94-.94-2.06-.94 2.06-2.06.94z\"/><path d=\"M17.41 7.96l-1.37-1.37c-.4-.4-.92-.59-1.43-.59-.52 0-1.04.2-1.43.59L10.3 9.45l-7.72 7.72c-.78.78-.78 2.05 0 2.83L4 21.41c.39.39.9.59 1.41.59.51 0 1.02-.2 1.41-.59l7.78-7.78 2.81-2.81c.8-.78.8-2.07 0-2.86zM5.41 20L4 18.59l7.72-7.72 1.47 1.35L5.41 20z\"/>\n",
              "  </svg>\n",
              "      </button>\n",
              "      \n",
              "  <style>\n",
              "    .colab-df-container {\n",
              "      display:flex;\n",
              "      flex-wrap:wrap;\n",
              "      gap: 12px;\n",
              "    }\n",
              "\n",
              "    .colab-df-convert {\n",
              "      background-color: #E8F0FE;\n",
              "      border: none;\n",
              "      border-radius: 50%;\n",
              "      cursor: pointer;\n",
              "      display: none;\n",
              "      fill: #1967D2;\n",
              "      height: 32px;\n",
              "      padding: 0 0 0 0;\n",
              "      width: 32px;\n",
              "    }\n",
              "\n",
              "    .colab-df-convert:hover {\n",
              "      background-color: #E2EBFA;\n",
              "      box-shadow: 0px 1px 2px rgba(60, 64, 67, 0.3), 0px 1px 3px 1px rgba(60, 64, 67, 0.15);\n",
              "      fill: #174EA6;\n",
              "    }\n",
              "\n",
              "    [theme=dark] .colab-df-convert {\n",
              "      background-color: #3B4455;\n",
              "      fill: #D2E3FC;\n",
              "    }\n",
              "\n",
              "    [theme=dark] .colab-df-convert:hover {\n",
              "      background-color: #434B5C;\n",
              "      box-shadow: 0px 1px 3px 1px rgba(0, 0, 0, 0.15);\n",
              "      filter: drop-shadow(0px 1px 2px rgba(0, 0, 0, 0.3));\n",
              "      fill: #FFFFFF;\n",
              "    }\n",
              "  </style>\n",
              "\n",
              "      <script>\n",
              "        const buttonEl =\n",
              "          document.querySelector('#df-dd3ccd92-d3d0-447c-9258-a30cd374973c button.colab-df-convert');\n",
              "        buttonEl.style.display =\n",
              "          google.colab.kernel.accessAllowed ? 'block' : 'none';\n",
              "\n",
              "        async function convertToInteractive(key) {\n",
              "          const element = document.querySelector('#df-dd3ccd92-d3d0-447c-9258-a30cd374973c');\n",
              "          const dataTable =\n",
              "            await google.colab.kernel.invokeFunction('convertToInteractive',\n",
              "                                                     [key], {});\n",
              "          if (!dataTable) return;\n",
              "\n",
              "          const docLinkHtml = 'Like what you see? Visit the ' +\n",
              "            '<a target=\"_blank\" href=https://colab.research.google.com/notebooks/data_table.ipynb>data table notebook</a>'\n",
              "            + ' to learn more about interactive tables.';\n",
              "          element.innerHTML = '';\n",
              "          dataTable['output_type'] = 'display_data';\n",
              "          await google.colab.output.renderOutput(dataTable, element);\n",
              "          const docLink = document.createElement('div');\n",
              "          docLink.innerHTML = docLinkHtml;\n",
              "          element.appendChild(docLink);\n",
              "        }\n",
              "      </script>\n",
              "    </div>\n",
              "  </div>\n",
              "  "
            ]
          },
          "metadata": {},
          "execution_count": 16
        }
      ],
      "source": [
        "df"
      ]
    },
    {
      "cell_type": "code",
      "execution_count": 17,
      "metadata": {
        "colab": {
          "base_uri": "https://localhost:8080/"
        },
        "id": "sfzlPDRqOG3X",
        "outputId": "934a3e22-f3f9-4b66-93ff-8bfa5cd80707"
      },
      "outputs": [
        {
          "output_type": "stream",
          "name": "stdout",
          "text": [
            "<class 'pandas.core.frame.DataFrame'>\n",
            "RangeIndex: 3678 entries, 0 to 3677\n",
            "Data columns (total 7 columns):\n",
            " #   Column            Non-Null Count  Dtype  \n",
            "---  ------            --------------  -----  \n",
            " 0   price             3678 non-null   int64  \n",
            " 1   num_subscribers   3678 non-null   int64  \n",
            " 2   num_reviews       3678 non-null   int64  \n",
            " 3   num_lectures      3678 non-null   int64  \n",
            " 4   level             3678 non-null   object \n",
            " 5   content_duration  3678 non-null   float64\n",
            " 6   subject           3678 non-null   object \n",
            "dtypes: float64(1), int64(4), object(2)\n",
            "memory usage: 201.3+ KB\n"
          ]
        }
      ],
      "source": [
        "df.info()"
      ]
    },
    {
      "cell_type": "markdown",
      "source": [
        "We observe a huge deviation present in all features"
      ],
      "metadata": {
        "id": "4qEUTr3AoICU"
      }
    },
    {
      "cell_type": "code",
      "execution_count": 18,
      "metadata": {
        "colab": {
          "base_uri": "https://localhost:8080/",
          "height": 300
        },
        "id": "Qc0Trk4AXgwt",
        "outputId": "bebfe188-bd75-4a44-a65e-20fac1f90762"
      },
      "outputs": [
        {
          "output_type": "execute_result",
          "data": {
            "text/plain": [
              "             price  num_subscribers   num_reviews  num_lectures  \\\n",
              "count  3678.000000      3678.000000   3678.000000   3678.000000   \n",
              "mean     66.049483      3197.150625    156.259108     40.108755   \n",
              "std      61.005755      9504.117010    935.452044     50.383346   \n",
              "min       0.000000         0.000000      0.000000      0.000000   \n",
              "25%      20.000000       111.000000      4.000000     15.000000   \n",
              "50%      45.000000       911.500000     18.000000     25.000000   \n",
              "75%      95.000000      2546.000000     67.000000     45.750000   \n",
              "max     200.000000    268923.000000  27445.000000    779.000000   \n",
              "\n",
              "       content_duration  \n",
              "count       3678.000000  \n",
              "mean           4.094517  \n",
              "std            6.053840  \n",
              "min            0.000000  \n",
              "25%            1.000000  \n",
              "50%            2.000000  \n",
              "75%            4.500000  \n",
              "max           78.500000  "
            ],
            "text/html": [
              "\n",
              "  <div id=\"df-cc1a8cba-72e8-45db-88d6-24f3010edb6e\">\n",
              "    <div class=\"colab-df-container\">\n",
              "      <div>\n",
              "<style scoped>\n",
              "    .dataframe tbody tr th:only-of-type {\n",
              "        vertical-align: middle;\n",
              "    }\n",
              "\n",
              "    .dataframe tbody tr th {\n",
              "        vertical-align: top;\n",
              "    }\n",
              "\n",
              "    .dataframe thead th {\n",
              "        text-align: right;\n",
              "    }\n",
              "</style>\n",
              "<table border=\"1\" class=\"dataframe\">\n",
              "  <thead>\n",
              "    <tr style=\"text-align: right;\">\n",
              "      <th></th>\n",
              "      <th>price</th>\n",
              "      <th>num_subscribers</th>\n",
              "      <th>num_reviews</th>\n",
              "      <th>num_lectures</th>\n",
              "      <th>content_duration</th>\n",
              "    </tr>\n",
              "  </thead>\n",
              "  <tbody>\n",
              "    <tr>\n",
              "      <th>count</th>\n",
              "      <td>3678.000000</td>\n",
              "      <td>3678.000000</td>\n",
              "      <td>3678.000000</td>\n",
              "      <td>3678.000000</td>\n",
              "      <td>3678.000000</td>\n",
              "    </tr>\n",
              "    <tr>\n",
              "      <th>mean</th>\n",
              "      <td>66.049483</td>\n",
              "      <td>3197.150625</td>\n",
              "      <td>156.259108</td>\n",
              "      <td>40.108755</td>\n",
              "      <td>4.094517</td>\n",
              "    </tr>\n",
              "    <tr>\n",
              "      <th>std</th>\n",
              "      <td>61.005755</td>\n",
              "      <td>9504.117010</td>\n",
              "      <td>935.452044</td>\n",
              "      <td>50.383346</td>\n",
              "      <td>6.053840</td>\n",
              "    </tr>\n",
              "    <tr>\n",
              "      <th>min</th>\n",
              "      <td>0.000000</td>\n",
              "      <td>0.000000</td>\n",
              "      <td>0.000000</td>\n",
              "      <td>0.000000</td>\n",
              "      <td>0.000000</td>\n",
              "    </tr>\n",
              "    <tr>\n",
              "      <th>25%</th>\n",
              "      <td>20.000000</td>\n",
              "      <td>111.000000</td>\n",
              "      <td>4.000000</td>\n",
              "      <td>15.000000</td>\n",
              "      <td>1.000000</td>\n",
              "    </tr>\n",
              "    <tr>\n",
              "      <th>50%</th>\n",
              "      <td>45.000000</td>\n",
              "      <td>911.500000</td>\n",
              "      <td>18.000000</td>\n",
              "      <td>25.000000</td>\n",
              "      <td>2.000000</td>\n",
              "    </tr>\n",
              "    <tr>\n",
              "      <th>75%</th>\n",
              "      <td>95.000000</td>\n",
              "      <td>2546.000000</td>\n",
              "      <td>67.000000</td>\n",
              "      <td>45.750000</td>\n",
              "      <td>4.500000</td>\n",
              "    </tr>\n",
              "    <tr>\n",
              "      <th>max</th>\n",
              "      <td>200.000000</td>\n",
              "      <td>268923.000000</td>\n",
              "      <td>27445.000000</td>\n",
              "      <td>779.000000</td>\n",
              "      <td>78.500000</td>\n",
              "    </tr>\n",
              "  </tbody>\n",
              "</table>\n",
              "</div>\n",
              "      <button class=\"colab-df-convert\" onclick=\"convertToInteractive('df-cc1a8cba-72e8-45db-88d6-24f3010edb6e')\"\n",
              "              title=\"Convert this dataframe to an interactive table.\"\n",
              "              style=\"display:none;\">\n",
              "        \n",
              "  <svg xmlns=\"http://www.w3.org/2000/svg\" height=\"24px\"viewBox=\"0 0 24 24\"\n",
              "       width=\"24px\">\n",
              "    <path d=\"M0 0h24v24H0V0z\" fill=\"none\"/>\n",
              "    <path d=\"M18.56 5.44l.94 2.06.94-2.06 2.06-.94-2.06-.94-.94-2.06-.94 2.06-2.06.94zm-11 1L8.5 8.5l.94-2.06 2.06-.94-2.06-.94L8.5 2.5l-.94 2.06-2.06.94zm10 10l.94 2.06.94-2.06 2.06-.94-2.06-.94-.94-2.06-.94 2.06-2.06.94z\"/><path d=\"M17.41 7.96l-1.37-1.37c-.4-.4-.92-.59-1.43-.59-.52 0-1.04.2-1.43.59L10.3 9.45l-7.72 7.72c-.78.78-.78 2.05 0 2.83L4 21.41c.39.39.9.59 1.41.59.51 0 1.02-.2 1.41-.59l7.78-7.78 2.81-2.81c.8-.78.8-2.07 0-2.86zM5.41 20L4 18.59l7.72-7.72 1.47 1.35L5.41 20z\"/>\n",
              "  </svg>\n",
              "      </button>\n",
              "      \n",
              "  <style>\n",
              "    .colab-df-container {\n",
              "      display:flex;\n",
              "      flex-wrap:wrap;\n",
              "      gap: 12px;\n",
              "    }\n",
              "\n",
              "    .colab-df-convert {\n",
              "      background-color: #E8F0FE;\n",
              "      border: none;\n",
              "      border-radius: 50%;\n",
              "      cursor: pointer;\n",
              "      display: none;\n",
              "      fill: #1967D2;\n",
              "      height: 32px;\n",
              "      padding: 0 0 0 0;\n",
              "      width: 32px;\n",
              "    }\n",
              "\n",
              "    .colab-df-convert:hover {\n",
              "      background-color: #E2EBFA;\n",
              "      box-shadow: 0px 1px 2px rgba(60, 64, 67, 0.3), 0px 1px 3px 1px rgba(60, 64, 67, 0.15);\n",
              "      fill: #174EA6;\n",
              "    }\n",
              "\n",
              "    [theme=dark] .colab-df-convert {\n",
              "      background-color: #3B4455;\n",
              "      fill: #D2E3FC;\n",
              "    }\n",
              "\n",
              "    [theme=dark] .colab-df-convert:hover {\n",
              "      background-color: #434B5C;\n",
              "      box-shadow: 0px 1px 3px 1px rgba(0, 0, 0, 0.15);\n",
              "      filter: drop-shadow(0px 1px 2px rgba(0, 0, 0, 0.3));\n",
              "      fill: #FFFFFF;\n",
              "    }\n",
              "  </style>\n",
              "\n",
              "      <script>\n",
              "        const buttonEl =\n",
              "          document.querySelector('#df-cc1a8cba-72e8-45db-88d6-24f3010edb6e button.colab-df-convert');\n",
              "        buttonEl.style.display =\n",
              "          google.colab.kernel.accessAllowed ? 'block' : 'none';\n",
              "\n",
              "        async function convertToInteractive(key) {\n",
              "          const element = document.querySelector('#df-cc1a8cba-72e8-45db-88d6-24f3010edb6e');\n",
              "          const dataTable =\n",
              "            await google.colab.kernel.invokeFunction('convertToInteractive',\n",
              "                                                     [key], {});\n",
              "          if (!dataTable) return;\n",
              "\n",
              "          const docLinkHtml = 'Like what you see? Visit the ' +\n",
              "            '<a target=\"_blank\" href=https://colab.research.google.com/notebooks/data_table.ipynb>data table notebook</a>'\n",
              "            + ' to learn more about interactive tables.';\n",
              "          element.innerHTML = '';\n",
              "          dataTable['output_type'] = 'display_data';\n",
              "          await google.colab.output.renderOutput(dataTable, element);\n",
              "          const docLink = document.createElement('div');\n",
              "          docLink.innerHTML = docLinkHtml;\n",
              "          element.appendChild(docLink);\n",
              "        }\n",
              "      </script>\n",
              "    </div>\n",
              "  </div>\n",
              "  "
            ]
          },
          "metadata": {},
          "execution_count": 18
        }
      ],
      "source": [
        "df.describe()"
      ]
    },
    {
      "cell_type": "code",
      "execution_count": 19,
      "metadata": {
        "colab": {
          "base_uri": "https://localhost:8080/"
        },
        "id": "mMXTO1vYEEpQ",
        "outputId": "d68d9fab-53d1-434c-c950-97b2767d7bd2"
      },
      "outputs": [
        {
          "output_type": "stream",
          "name": "stdout",
          "text": [
            "False    3669\n",
            "True        9\n",
            "dtype: int64\n"
          ]
        }
      ],
      "source": [
        "# Looking for duplicated values\n",
        "print(df.duplicated().value_counts())\n",
        "df.drop_duplicates(inplace=True)"
      ]
    },
    {
      "cell_type": "code",
      "execution_count": 20,
      "metadata": {
        "colab": {
          "base_uri": "https://localhost:8080/"
        },
        "id": "gsh3q7xhLS51",
        "outputId": "ca00b59a-5d5c-4a4e-f940-4f27f1597bef"
      },
      "outputs": [
        {
          "output_type": "stream",
          "name": "stdout",
          "text": [
            "['All Levels' 'Intermediate Level' 'Beginner Level' 'Expert Level'] ['Business Finance' 'Graphic Design' 'Musical Instruments'\n",
            " 'Web Development'] \n",
            "-----------\n",
            "price               0\n",
            "num_subscribers     0\n",
            "num_reviews         0\n",
            "num_lectures        0\n",
            "level               0\n",
            "content_duration    0\n",
            "subject             0\n",
            "dtype: int64\n"
          ]
        }
      ],
      "source": [
        "print(df.level.unique(), df.subject.unique(), '\\n-----------') # For dummy selection\n",
        "print(df.isnull().sum()) # Looking for missing values (None)"
      ]
    },
    {
      "cell_type": "markdown",
      "source": [
        "As we can see we have a really variable price distribution. We are going to delete all of the prices above 60 (Price makers) and equal to zero (is not paid), keeping the eyes on the avarage (Price takers).\n",
        "\n",
        "---\n",
        "We have long tail distributions in all of others distributions. They are all assymetric (right-skewed)."
      ],
      "metadata": {
        "id": "QuTSC94Aoq0s"
      }
    },
    {
      "cell_type": "code",
      "execution_count": 21,
      "metadata": {
        "colab": {
          "base_uri": "https://localhost:8080/",
          "height": 607
        },
        "id": "_LV1Rf-MXq64",
        "outputId": "1d03aaaa-6922-4607-9ffb-446ce3f78b60"
      },
      "outputs": [
        {
          "output_type": "display_data",
          "data": {
            "text/plain": [
              "<Figure size 1080x720 with 6 Axes>"
            ],
            "image/png": "[encoded data removed]"
          },
          "metadata": {
            "needs_background": "light"
          }
        }
      ],
      "source": [
        "df.hist(bins=30, figsize=(15, 10))\n",
        "plt.show()"
      ]
    },
    {
      "cell_type": "markdown",
      "source": [
        "It seems that \"num_lectures\" is the highest linear influence on the price. It is reasonable if they approach a large number of subjects."
      ],
      "metadata": {
        "id": "tqc3zPUOrCXq"
      }
    },
    {
      "cell_type": "code",
      "execution_count": 22,
      "metadata": {
        "colab": {
          "base_uri": "https://localhost:8080/",
          "height": 206
        },
        "id": "O-I4Bcr5XzKi",
        "outputId": "ec97be34-a033-4748-eab4-90378ccd76c0"
      },
      "outputs": [
        {
          "output_type": "execute_result",
          "data": {
            "text/plain": [
              "                     price  num_subscribers  num_reviews  num_lectures  \\\n",
              "price             1.000000         0.050327     0.113522      0.329800   \n",
              "num_subscribers   0.050327         1.000000     0.651062      0.158209   \n",
              "num_reviews       0.113522         0.651062     1.000000      0.242975   \n",
              "num_lectures      0.329800         0.158209     0.242975      1.000000   \n",
              "content_duration  0.293093         0.162027     0.228815      0.801601   \n",
              "\n",
              "                  content_duration  \n",
              "price                     0.293093  \n",
              "num_subscribers           0.162027  \n",
              "num_reviews               0.228815  \n",
              "num_lectures              0.801601  \n",
              "content_duration          1.000000  "
            ],
            "text/html": [
              "\n",
              "  <div id=\"df-dcdc6ec2-bfff-414d-8c54-1279cbcd2ab4\">\n",
              "    <div class=\"colab-df-container\">\n",
              "      <div>\n",
              "<style scoped>\n",
              "    .dataframe tbody tr th:only-of-type {\n",
              "        vertical-align: middle;\n",
              "    }\n",
              "\n",
              "    .dataframe tbody tr th {\n",
              "        vertical-align: top;\n",
              "    }\n",
              "\n",
              "    .dataframe thead th {\n",
              "        text-align: right;\n",
              "    }\n",
              "</style>\n",
              "<table border=\"1\" class=\"dataframe\">\n",
              "  <thead>\n",
              "    <tr style=\"text-align: right;\">\n",
              "      <th></th>\n",
              "      <th>price</th>\n",
              "      <th>num_subscribers</th>\n",
              "      <th>num_reviews</th>\n",
              "      <th>num_lectures</th>\n",
              "      <th>content_duration</th>\n",
              "    </tr>\n",
              "  </thead>\n",
              "  <tbody>\n",
              "    <tr>\n",
              "      <th>price</th>\n",
              "      <td>1.000000</td>\n",
              "      <td>0.050327</td>\n",
              "      <td>0.113522</td>\n",
              "      <td>0.329800</td>\n",
              "      <td>0.293093</td>\n",
              "    </tr>\n",
              "    <tr>\n",
              "      <th>num_subscribers</th>\n",
              "      <td>0.050327</td>\n",
              "      <td>1.000000</td>\n",
              "      <td>0.651062</td>\n",
              "      <td>0.158209</td>\n",
              "      <td>0.162027</td>\n",
              "    </tr>\n",
              "    <tr>\n",
              "      <th>num_reviews</th>\n",
              "      <td>0.113522</td>\n",
              "      <td>0.651062</td>\n",
              "      <td>1.000000</td>\n",
              "      <td>0.242975</td>\n",
              "      <td>0.228815</td>\n",
              "    </tr>\n",
              "    <tr>\n",
              "      <th>num_lectures</th>\n",
              "      <td>0.329800</td>\n",
              "      <td>0.158209</td>\n",
              "      <td>0.242975</td>\n",
              "      <td>1.000000</td>\n",
              "      <td>0.801601</td>\n",
              "    </tr>\n",
              "    <tr>\n",
              "      <th>content_duration</th>\n",
              "      <td>0.293093</td>\n",
              "      <td>0.162027</td>\n",
              "      <td>0.228815</td>\n",
              "      <td>0.801601</td>\n",
              "      <td>1.000000</td>\n",
              "    </tr>\n",
              "  </tbody>\n",
              "</table>\n",
              "</div>\n",
              "      <button class=\"colab-df-convert\" onclick=\"convertToInteractive('df-dcdc6ec2-bfff-414d-8c54-1279cbcd2ab4')\"\n",
              "              title=\"Convert this dataframe to an interactive table.\"\n",
              "              style=\"display:none;\">\n",
              "        \n",
              "  <svg xmlns=\"http://www.w3.org/2000/svg\" height=\"24px\"viewBox=\"0 0 24 24\"\n",
              "       width=\"24px\">\n",
              "    <path d=\"M0 0h24v24H0V0z\" fill=\"none\"/>\n",
              "    <path d=\"M18.56 5.44l.94 2.06.94-2.06 2.06-.94-2.06-.94-.94-2.06-.94 2.06-2.06.94zm-11 1L8.5 8.5l.94-2.06 2.06-.94-2.06-.94L8.5 2.5l-.94 2.06-2.06.94zm10 10l.94 2.06.94-2.06 2.06-.94-2.06-.94-.94-2.06-.94 2.06-2.06.94z\"/><path d=\"M17.41 7.96l-1.37-1.37c-.4-.4-.92-.59-1.43-.59-.52 0-1.04.2-1.43.59L10.3 9.45l-7.72 7.72c-.78.78-.78 2.05 0 2.83L4 21.41c.39.39.9.59 1.41.59.51 0 1.02-.2 1.41-.59l7.78-7.78 2.81-2.81c.8-.78.8-2.07 0-2.86zM5.41 20L4 18.59l7.72-7.72 1.47 1.35L5.41 20z\"/>\n",
              "  </svg>\n",
              "      </button>\n",
              "      \n",
              "  <style>\n",
              "    .colab-df-container {\n",
              "      display:flex;\n",
              "      flex-wrap:wrap;\n",
              "      gap: 12px;\n",
              "    }\n",
              "\n",
              "    .colab-df-convert {\n",
              "      background-color: #E8F0FE;\n",
              "      border: none;\n",
              "      border-radius: 50%;\n",
              "      cursor: pointer;\n",
              "      display: none;\n",
              "      fill: #1967D2;\n",
              "      height: 32px;\n",
              "      padding: 0 0 0 0;\n",
              "      width: 32px;\n",
              "    }\n",
              "\n",
              "    .colab-df-convert:hover {\n",
              "      background-color: #E2EBFA;\n",
              "      box-shadow: 0px 1px 2px rgba(60, 64, 67, 0.3), 0px 1px 3px 1px rgba(60, 64, 67, 0.15);\n",
              "      fill: #174EA6;\n",
              "    }\n",
              "\n",
              "    [theme=dark] .colab-df-convert {\n",
              "      background-color: #3B4455;\n",
              "      fill: #D2E3FC;\n",
              "    }\n",
              "\n",
              "    [theme=dark] .colab-df-convert:hover {\n",
              "      background-color: #434B5C;\n",
              "      box-shadow: 0px 1px 3px 1px rgba(0, 0, 0, 0.15);\n",
              "      filter: drop-shadow(0px 1px 2px rgba(0, 0, 0, 0.3));\n",
              "      fill: #FFFFFF;\n",
              "    }\n",
              "  </style>\n",
              "\n",
              "      <script>\n",
              "        const buttonEl =\n",
              "          document.querySelector('#df-dcdc6ec2-bfff-414d-8c54-1279cbcd2ab4 button.colab-df-convert');\n",
              "        buttonEl.style.display =\n",
              "          google.colab.kernel.accessAllowed ? 'block' : 'none';\n",
              "\n",
              "        async function convertToInteractive(key) {\n",
              "          const element = document.querySelector('#df-dcdc6ec2-bfff-414d-8c54-1279cbcd2ab4');\n",
              "          const dataTable =\n",
              "            await google.colab.kernel.invokeFunction('convertToInteractive',\n",
              "                                                     [key], {});\n",
              "          if (!dataTable) return;\n",
              "\n",
              "          const docLinkHtml = 'Like what you see? Visit the ' +\n",
              "            '<a target=\"_blank\" href=https://colab.research.google.com/notebooks/data_table.ipynb>data table notebook</a>'\n",
              "            + ' to learn more about interactive tables.';\n",
              "          element.innerHTML = '';\n",
              "          dataTable['output_type'] = 'display_data';\n",
              "          await google.colab.output.renderOutput(dataTable, element);\n",
              "          const docLink = document.createElement('div');\n",
              "          docLink.innerHTML = docLinkHtml;\n",
              "          element.appendChild(docLink);\n",
              "        }\n",
              "      </script>\n",
              "    </div>\n",
              "  </div>\n",
              "  "
            ]
          },
          "metadata": {},
          "execution_count": 22
        }
      ],
      "source": [
        "df.corr()"
      ]
    },
    {
      "cell_type": "markdown",
      "source": [
        "The hypotesis (1 and 2) are correct altough the presence of some outliers. We can see this below with the Scatter Matrix plot."
      ],
      "metadata": {
        "id": "_cEVB313jH_R"
      }
    },
    {
      "cell_type": "code",
      "execution_count": 23,
      "metadata": {
        "colab": {
          "base_uri": "https://localhost:8080/",
          "height": 917
        },
        "id": "cb1TkMNQXVlg",
        "outputId": "86d71ff9-0d89-471b-e8bb-e0820bf3d2be"
      },
      "outputs": [
        {
          "output_type": "display_data",
          "data": {
            "text/html": [
              "<html>\n",
              "<head><meta charset=\"utf-8\" /></head>\n",
              "<body>\n",
              "    <div>            <script src=\"https://cdnjs.cloudflare.com/ajax/libs/mathjax/2.7.5/MathJax.js?config=TeX-AMS-MML_SVG\"></script><script type=\"text/javascript\">if (window.MathJax) {MathJax.Hub.Config({SVG: {font: \"STIX-Web\"}});}</script>                <script type=\"text/javascript\">window.PlotlyConfig = {MathJaxConfig: 'local'};</script>\n",
              "        <script src=\"https://cdn.plot.ly/plotly-2.8.3.min.js\"></script>                <div id=\"4d050040-da8d-489b-8aa1-af1de8946814\" class=\"plotly-graph-div\" style=\"height:900px; width:100%;\"></div>            <script type=\"text/javascript\">                                    window.PLOTLYENV=window.PLOTLYENV || {};                                    if (document.getElementById(\"4d050040-da8d-489b-8aa1-af1de8946814\")) {                    Plotly.newPlot(                        \"4d050040-da8d-489b-8aa1-af1de8946814\",                        [{\"dimensions\":[{\"axis\":{\"matches\":true},\"label\":\"price\",\"values\":[200,75,45,95,200,150,65,95,195,200,200,200,30,195,200,75,20,200,50,95,200,200,75,50,45,150,200,175,150,140,95,200,45,200,200,195,195,200,195,195,195,195,195,115,200,150,95,200,190,150,200,95,125,30,200,60,200,145,20,200,105,60,155,200,185,150,180,125,200,185,125,95,200,20,60,200,200,120,150,25,200,160,20,95,50,200,20,200,195,200,20,20,95,150,40,0,20,100,75,20,40,20,25,0,50,200,0,195,0,20,150,95,0,20,150,20,25,150,50,0,50,180,50,100,25,200,20,90,0,20,35,50,100,50,20,200,200,60,150,20,105,20,150,0,100,60,200,200,20,30,95,95,60,20,20,200,125,200,200,35,200,200,120,195,125,200,25,200,20,195,20,50,200,120,200,200,45,50,80,0,200,20,50,200,120,145,195,200,45,20,200,75,20,0,20,20,150,20,200,45,60,20,20,50,50,50,0,50,60,0,60,40,45,0,200,95,20,50,200,95,40,20,20,200,20,20,60,75,20,20,20,200,20,20,20,30,95,50,65,95,50,95,50,105,120,40,35,20,0,0,50,20,200,0,125,35,20,75,50,30,50,100,150,20,200,95,200,95,30,25,125,35,30,50,200,35,25,50,20,20,20,20,125,0,20,20,60,60,0,50,0,0,60,60,115,25,120,0,150,0,50,0,35,20,200,20,20,80,70,50,20,75,90,40,30,200,20,75,25,20,20,50,20,20,25,20,50,200,200,60,180,50,200,30,50,40,50,20,150,95,0,20,200,20,60,195,0,0,0,45,100,20,20,200,0,0,180,75,25,50,0,95,40,100,145,30,50,20,20,20,95,90,20,75,0,50,20,145,100,60,45,200,200,150,200,25,20,25,125,50,20,20,200,150,200,20,160,200,30,20,40,50,200,200,100,50,20,50,200,50,30,20,20,25,45,200,50,40,25,20,60,20,20,20,20,0,20,40,30,30,35,20,0,0,30,200,50,190,95,35,30,195,60,195,200,0,20,20,20,50,50,80,25,20,20,20,50,50,20,50,95,100,40,40,50,55,0,20,95,200,55,50,25,20,20,50,95,40,55,50,50,20,20,0,125,50,50,120,200,20,0,0,95,0,20,165,200,25,195,200,20,0,20,40,95,195,95,20,35,195,200,105,20,30,20,20,20,30,20,20,40,105,20,100,20,200,95,180,100,150,50,200,60,20,25,95,20,200,50,50,20,20,50,0,50,75,50,50,75,20,195,50,55,20,50,100,40,40,30,50,190,195,50,40,100,20,20,200,60,0,95,0,20,50,25,95,50,50,50,20,20,20,55,20,20,20,200,20,0,50,40,20,20,20,200,100,20,25,80,20,95,70,20,25,40,20,20,45,20,20,25,20,20,50,20,200,20,20,150,20,195,20,0,200,0,50,95,50,0,200,60,50,30,200,20,25,20,200,145,30,45,40,20,20,145,30,50,200,95,45,45,95,95,200,180,50,100,40,50,20,50,50,20,20,0,40,30,60,200,0,130,35,95,20,90,50,35,20,145,40,150,20,20,20,20,20,35,180,50,40,0,20,125,20,0,50,75,95,50,95,80,195,25,200,50,20,95,40,50,20,50,25,25,30,200,50,20,20,40,0,50,30,50,50,0,50,0,30,35,25,20,60,50,20,20,40,20,45,100,50,90,0,100,20,20,50,0,40,20,200,40,30,195,95,0,0,20,50,20,20,50,50,200,0,50,40,20,20,0,20,20,95,40,50,85,0,20,25,50,20,35,20,100,50,75,60,200,145,60,20,50,200,200,60,20,20,140,120,200,50,170,50,200,150,150,60,20,50,20,200,20,20,100,45,50,0,50,50,0,50,25,150,0,0,25,50,0,0,50,0,20,0,25,20,50,25,0,125,200,120,20,50,195,20,60,20,50,20,50,95,150,20,20,50,20,50,50,40,30,50,0,35,0,20,20,30,150,75,50,100,20,0,90,20,0,25,20,50,60,20,90,20,20,50,200,100,160,20,20,25,50,60,60,150,20,20,25,200,30,50,20,200,0,20,20,0,20,75,30,20,20,20,145,200,30,20,30,25,45,35,20,20,20,20,20,95,20,35,30,35,50,60,30,20,20,20,20,50,0,25,20,180,95,20,20,20,200,0,30,20,50,50,50,20,50,20,95,100,20,20,20,0,45,200,40,30,50,20,20,40,20,50,50,0,20,50,50,20,35,20,95,20,35,40,110,20,20,95,135,50,30,70,200,20,40,195,50,50,115,20,20,50,0,25,50,150,20,20,200,35,40,50,20,20,45,25,20,50,50,35,30,170,20,20,30,30,20,35,195,150,0,20,0,85,75,45,25,20,80,200,150,20,85,20,45,25,30,200,115,30,45,130,140,30,20,140,20,85,20,20,25,40,20,100,175,40,20,25,20,195,200,20,50,50,35,25,20,30,30,55,200,20,30,125,25,35,0,20,20,85,25,0,70,100,50,75,0,0,0,0,0,0,25,20,195,45,65,20,95,30,0,40,50,40,200,195,200,50,20,25,195,200,200,0,100,20,200,115,200,200,50,150,20,50,20,50,35,40,20,20,35,180,50,40,50,95,40,40,50,20,200,20,20,25,20,200,20,50,65,50,50,195,20,0,20,30,50,20,20,40,100,85,90,25,55,40,0,35,20,25,180,20,50,20,20,25,50,20,150,95,150,20,200,200,180,65,25,20,200,195,0,0,0,200,150,200,200,95,75,30,200,150,95,200,150,195,20,30,20,50,20,25,20,50,150,30,25,20,30,25,20,20,20,20,20,0,0,0,0,185,20,100,50,30,200,25,20,20,20,200,200,20,150,150,200,45,45,30,80,0,60,0,0,190,20,95,200,75,45,120,20,95,25,0,30,40,0,0,50,0,20,100,40,0,105,30,25,40,95,95,95,0,40,20,20,20,70,50,30,20,200,65,200,20,40,0,75,50,0,50,20,30,70,20,20,20,80,200,125,50,20,20,20,50,45,20,40,20,20,45,0,100,20,60,25,150,70,30,20,30,100,135,80,60,30,30,20,0,200,20,80,195,0,20,200,20,50,25,35,95,0,30,0,0,200,145,95,40,20,100,165,30,30,100,100,0,25,120,135,35,20,20,70,0,145,25,195,0,0,20,50,30,30,30,135,75,140,20,20,95,20,0,0,25,95,50,70,20,90,45,100,50,95,30,85,20,75,195,20,45,20,20,55,20,115,20,20,20,50,150,25,45,20,35,20,185,20,20,30,20,20,95,20,25,200,100,30,55,20,200,95,0,95,20,0,25,20,20,20,40,20,20,20,20,40,20,35,20,20,20,20,20,65,195,30,65,200,50,90,195,95,100,50,20,155,20,45,90,45,20,75,40,20,40,40,30,30,150,20,100,20,150,20,20,20,50,20,20,50,20,85,20,30,20,40,200,200,200,200,180,195,20,25,20,50,20,25,20,20,20,20,20,100,20,95,35,200,25,25,50,55,30,20,20,70,20,20,40,20,20,20,30,80,50,25,20,45,30,20,30,20,20,25,180,20,75,95,195,175,100,35,125,90,195,20,135,20,100,20,20,20,30,60,20,20,20,40,50,20,25,200,25,35,20,30,20,50,20,20,50,30,50,20,20,20,50,100,50,45,20,25,20,20,20,20,35,150,20,40,20,100,20,125,20,100,35,50,150,50,20,35,195,55,20,50,30,30,25,35,95,40,40,20,50,20,30,200,195,200,100,50,200,20,20,35,165,20,100,20,20,50,105,200,35,100,120,20,0,95,65,20,30,20,20,50,20,45,20,35,20,40,20,30,25,55,100,25,20,50,20,20,20,50,40,95,80,20,200,100,150,195,105,25,195,20,50,20,30,20,95,20,40,50,50,20,35,50,20,30,85,25,20,35,0,30,20,35,20,20,120,20,20,25,65,20,20,45,100,20,20,40,40,20,20,20,20,25,50,25,20,200,35,20,20,85,40,25,195,35,0,20,195,200,75,40,20,20,20,195,25,25,20,35,20,20,30,20,25,20,20,20,40,20,20,30,20,20,20,20,20,0,20,150,30,0,0,50,80,50,25,40,20,70,30,0,20,40,0,35,20,30,45,40,95,50,20,55,50,20,20,40,35,45,20,50,30,20,100,50,50,95,50,50,50,95,80,100,20,0,50,120,80,40,50,50,100,50,100,75,50,20,55,40,40,75,0,40,45,40,30,50,60,40,70,0,40,200,115,50,55,50,45,35,50,20,0,40,40,40,100,20,65,60,40,40,0,50,20,0,40,0,40,70,0,120,30,175,75,20,35,50,120,70,50,0,200,85,150,20,35,0,50,20,45,95,0,50,20,200,50,50,0,0,40,70,200,85,0,25,20,20,40,40,95,45,100,50,50,20,35,0,50,0,70,120,50,45,50,30,30,40,0,60,50,50,150,65,50,25,0,0,40,20,20,50,200,25,55,0,50,0,200,200,50,145,50,200,50,200,50,200,200,150,45,45,200,75,50,35,200,50,50,100,50,50,60,0,40,60,55,45,40,50,70,95,0,40,95,95,45,145,50,20,75,200,200,50,20,50,50,25,50,40,75,30,95,75,25,100,60,115,95,50,100,55,20,45,200,75,50,65,65,30,20,20,0,25,20,40,50,35,30,50,20,0,20,20,85,30,125,70,75,50,0,150,45,20,45,45,40,40,75,25,40,20,0,20,20,0,60,30,40,75,30,95,20,50,50,50,25,35,20,60,195,50,50,40,65,20,50,30,95,35,50,30,20,50,95,35,75,50,25,100,55,25,20,30,0,20,20,25,20,50,50,50,35,50,50,20,20,50,20,70,50,20,50,35,20,20,50,195,95,20,40,65,45,50,20,40,20,75,20,20,20,50,100,80,40,50,20,30,40,20,50,50,50,25,50,20,0,35,90,20,0,20,25,0,40,75,35,85,55,40,45,20,25,70,50,30,50,20,50,50,50,20,100,100,50,85,200,50,20,50,50,55,35,65,195,50,95,20,40,35,0,20,40,40,20,20,40,35,35,50,20,40,50,100,95,50,20,20,20,40,25,25,50,50,40,50,35,50,25,30,50,50,50,30,20,50,50,50,40,20,20,100,40,20,25,20,25,20,20,50,95,50,20,105,50,20,40,20,50,50,20,35,20,30,60,20,50,25,50,20,35,50,115,35,50,50,20,50,20,20,20,80,45,50,25,50,60,40,35,195,40,45,50,40,20,40,50,45,50,175,45,50,40,55,20,40,40,20,20,35,40,50,20,20,35,20,40,30,50,20,35,40,20,40,180,35,80,40,40,0,50,35,20,20,50,20,20,20,75,50,95,20,60,20,20,60,40,20,25,50,40,50,40,30,95,40,35,30,20,50,30,50,20,40,20,40,30,95,20,20,20,20,20,135,135,25,25,130,20,125,20,20,20,35,20,40,20,40,85,0,20,35,25,50,45,40,20,20,0,0,0,0,20,170,85,100,50,60,50,40,20,95,20,0,200,25,30,20,20,95,40,40,20,40,50,195,30,35,40,20,25,25,20,0,45,20,40,40,50,30,180,20,200,20,50,20,50,50,50,50,55,50,20,50,20,50,20,75,50,50,60,20,40,50,150,200,40,195,25,200,20,95,40,20,20,40,50,100,40,200,200,190,120,110,165,60,65,200,150,85,60,200,195,195,100,20,195,60,95,150,100,20,20,120,20,175,60,70,20,50,100,100,100,75,80,75,195,150,125,145,50,100,20,115,75,20,50,200,135,95,200,150,195,200,80,150,120,195,65,20,20,200,25,200,50,200,80,150,195,100,60,50,0,0,0,0,100,0,20,30,20,40,50,75,20,65,20,0,200,195,0,20,50,20,40,40,0,20,50,50,120,195,95,50,0,50,50,0,200,200,150,200,100,50,60,95,30,30,150,200,20,50,200,195,195,195,95,55,195,200,100,20,35,60,200,20,195,195,195,195,40,195,175,40,95,115,50,0,0,200,20,200,0,20,195,0,85,200,20,150,195,95,150,95,95,50,75,195,20,95,50,30,195,20,100,200,100,35,20,150,25,75,40,20,95,140,50,0,70,100,30,25,150,115,190,85,200,195,100,120,50,200,100,200,200,200,195,195,50,40,200,30,50,150,100,100,0,0,50,60,0,30,45,0,25,0,0,20,200,100,50,40,20,50,20,30,200,200,40,35,20,30,45,25,20,200,200,100,50,200,195,195,30,200,200,20,200,35,100,75,20,30,60,20,40,40,100,100,20,20,45,195,180,200,50,200,20,0,25,50,0,0,20,20,120,20,20,20,25,35,150,200,20,50,20,95,20,100,20,50,100,100,60,165,195,195,65,100,50,50,35,195,195,35,200,40,145,20,50,70,50,100,200,75,20,0,25,0,0,60,20,115,0,125,0,195,50,95,80,20,75,100,195,20,50,30,200,70,95,0,40,25,200,35,0,20,50,100,40,20,20,50,0,60,65,25,125,35,40,95,95,35,20,45,65,20,25,50,50,20,20,115,50,40,20,20,30,95,20,30,50,20,195,20,20,95,120,50,100,200,195,150,75,200,200,115,20,125,150,40,20,65,40,75,170,20,125,45,200,195,0,200,0,20,20,50,0,100,35,35,195,20,50,95,40,25,20,75,20,50,200,200,80,125,20,20,60,30,20,20,55,200,195,75,35,50,20,0,60,120,25,75,40,0,45,0,20,0,30,100,175,95,40,20,20,50,185,20,50,45,200,200,100,20,0,100,40,40,20,50,65,35,95,25,95,20,20,75,110,30,145,95,200,50,50,100,20,25,50,195,50,20,20,100,200,70,20,20,200,200,145,100,20,195,200,150,100,140,40,20,0,150,200,50,20,40,20,95,50,0,0,95,45,40,50,200,40,100,200,50,35,200,45,100,75,95,75,195,95,75,20,40,95,20,80,20,100,150,120,200,75,195,170,150,20,75,20,90,50,110,50,75,50,145,100,20,20,20,85,50,115,200,45,55,30,55,20,20,50,25,145,40,0,20,0,0,20,100,0,0,20,75,140,40,95,200,95,150,100,105,20,200,95,150,95,20,50,200,20,75,20,75,40,20,20,35,110,100,195,200,150,195,70,75,150,60,50,195,20,100,20,25,80,100,200,90,175,50,120,95,195,25,50,30,40,35,40,20,50,35,0,0,20,195,60,195,195,40,200,90,75,195,195,30,195,30,50,100,40,30,120,50,50,20,85,50,110,145,200,50,190,110,190,145,200,100,195,30,55,50,35,95,50,45,30,45,150,0,50,40,150,50,190,160,195,150,150,140,200,75,200,200,0,0,195,125,0,100,145,145,0,0,35,200,175,175,75,195,80,195,110,140,180,120,190,150,0,0,20,195,20,30,35,175,95,50,50,40,0,20,30,120,0,85,20,200,60,40,35,145,200,200,120,20,0,35,20,0,0,0,75,0,100,0,60,0,30,35,60,45,65,55,0,0,20,0,55,30,0,30,20,0,0,0,50,0,200,0,0,0,0,95,0,0,195,95,0,125,0,0,175,85,75,20,0,0,165,35,80,50,0,100,80,0,20,20,145,100,85,195,30,25,200,50,0,200,0,20,25,0,50,0,55,0,200,30,95,20,20,200,30,25,35,0,30,120,0,60,0,20,200,60,100,0,0,0,0,75,20,100,195,45,75,35,95,100,25,195,95,50,20,195,200,50,90,90,120,200,195,120,50,55,85,55,195,20,40,50,0,85,20,25,40,20,45,95,0,0,0,25,125,50,80,45,25,0,200,50,45,0,150,0,45,50,200,200,40,0,65,45,35,195,95,20,200,20,40,50,200,40,60,0,0,0,30,0,200,145,50,200,40,0,20,95,50,50,20,40,50,20,35,20,35,25,195,100,200,200,25,100,50,150,100,195,20,75,95,30,75,40,35,40,65,0,0,0,100,0,50,30,20,0,20,200,95,85,20,55,25,50,50,85,0,120,20,40,0,125,50,75,50,200,0,100,40,120,50,0,50,20,20,200,20,0,20,0,125,95,105,100,20,50,20,40,25,0,95,195,20,200,30,150,60,200,20,195,50,200,20,40,50,50,95,95,100,50,35,95,35,60,65,200,20,200,20,20,20,20,20,200,200,50,20,20,30,25,50,20,85,20,75,20,40,50,20,50,20,85,65,50,0,0,20,55,40,50,145,95,200,40,95,100,95,50,30,120,20,20,45,20,25,0,30,150,40,90,0,20,20,30,200,0,75,95,50,185,20,40,25,0,200,125,200,35,45,20,20,25,20,100,30,150,45,0,40,30,0,50,20,20,150,100,25,40,50,45]},{\"axis\":{\"matches\":true},\"label\":\"num_subscribers\",\"values\":[2147,2792,2174,2451,1276,9221,1540,2917,5172,827,4284,1380,3607,4061,294,2276,4919,2666,5354,8095,809,2295,10149,1916,2507,5786,5334,4005,2877,1026,1165,1843,8797,1030,1041,7884,16900,11441,22257,8575,24481,3811,4991,7489,20195,10042,367,10603,1197,2893,1580,10605,2996,6219,1113,8314,5572,1433,936,658,8121,4187,9445,3255,7941,1680,10100,5050,2310,5528,6451,12394,1793,3223,16385,1487,2951,2697,3979,3190,1406,4252,11958,7743,2134,1214,3870,2146,484,1057,1754,1239,2493,2602,2000,1514,1361,61,1513,1374,2103,1480,2516,50855,1971,837,17160,1723,6811,2060,2318,2153,19339,3177,1535,1027,307,2096,1315,29167,1056,2212,2946,271,3771,3143,1951,4022,11724,2283,1181,1852,4661,989,5841,1087,611,1922,9015,661,1077,6050,3523,56659,1444,2900,1437,453,2437,5057,6092,4530,6967,727,1560,1047,1045,3050,2988,2623,1924,3804,4133,1420,1120,668,4086,1033,832,677,3125,1081,1645,3348,939,2115,2230,2053,1793,3775,521,2222,1097,2506,975,1398,1096,1703,1446,2736,2000,853,3094,4077,4117,1369,1224,3870,897,1311,1338,1589,1189,701,1105,123,5874,354,727,3465,54,627,650,965,1113,739,1201,2474,494,1580,617,2235,2293,1094,1449,3251,607,1218,1132,656,3339,1271,1574,1393,1029,843,1730,1182,1160,1730,1260,871,1566,2987,973,2177,1772,1850,1780,4607,12,13,2,2571,8,7,217,22,131,5,116,27,912,1964,1033,913,2092,2240,4601,2953,1091,1459,4855,4034,57,26,14,49,11,9,91,44,106,2079,135,31,217,611,5007,1168,4653,3035,454,325,228,562,577,10540,912,2955,190,1736,1135,2101,1048,1740,1749,1187,1263,115,43,55,18,14,47,134,153,47,42,120,68,844,2045,1168,2342,2268,967,1185,631,968,1132,114,204,1548,409,1169,249,690,1340,274,4863,1923,224,721,51,1276,2768,1735,8985,1119,2591,1046,2239,1882,5931,4931,3056,1303,2924,1405,1121,1776,1643,801,951,1278,1184,1115,1086,3730,810,2338,3403,4695,17847,2692,6374,2305,589,22,2490,2715,1506,2197,338,1076,2769,1531,1136,2187,1609,2895,1023,1988,1053,4497,2379,993,10338,1423,3555,567,1085,7159,11517,1,10,41,8,43,23,9,25,7,12,1,29,17,132,126,32,480,27,167,131,927,37,19,43,751,49,45,1685,4269,124,811,956,126,26,91,30,226,52,89,267,4770,265,2046,605,472,388,98,1888,0,0,0,0,0,0,0,0,0,0,0,495,375,1730,283,136,23,683,618,188,911,512,769,302,149,72,33,13,79,139,2247,17,45,33,54,1498,2317,5077,65576,1202,22344,2189,431,1199,5685,1512,1806,668,3757,828,111,39,613,57,246,83,62,31,367,3,3,2,3,1,1,2,1,2,1,1,0,731,66,51,507,9,375,80,152,37,194,1184,638,64,44,814,211,768,29,156,2144,376,214,406,394,438,56,58,1047,166,605,38,46,217,78,35,80,1941,1367,1519,2025,1213,1092,5099,869,59,10670,1741,19614,4,1,4,4,8,8,11,18,16,6,4,1,210,4,273,237,368,86,204,570,225,37,36,218,50,148,74,260,299,4,65,101,92,76,14,18,21,18,21,49,168,16,2,336,20,28,11,11,360,1189,9995,100,3426,592,1222,1532,5768,343,540,2031,7,4,21,29,50,1,5,6,16,70,110,7,1186,632,1237,513,4103,1489,547,353,507,1079,3667,2222,9,225,13,373,306,14,51,13,1318,347,274,9,359,6024,315,280,401,701,57,205,62,114,789,446,17,16,117,147,7,247,143,621,6,5,2674,227,4480,1329,5144,2635,1750,3360,3425,2688,1095,1680,2046,1699,1071,1037,223,653,230,2281,4702,366,521,252,1101,223,135,23,112,2122,152,267,155,87,2146,154,4248,517,2638,2914,6050,16,3917,1122,4158,1252,5108,2981,1223,7750,564,2075,45,44,308,55,718,206,18,86,294,27,375,94,2080,3137,155,1732,3372,2185,1008,256,1173,1352,49,124,105,117,6533,7,30,91,28,83,623,1625,0,0,1,0,0,0,0,0,0,737,554,807,779,1777,841,56,1909,775,1255,1193,1309,623,276,314,1942,885,226,461,152,1017,1074,440,978,36,74,78,10,39,37,2166,78,21,1086,7,168,2801,12217,6185,477,1334,5407,9483,1032,8236,2383,3283,2650,1551,545,663,3519,825,70,357,853,397,74,1254,89,38,18,103,7,104,42,507,241,226,50,100,99,99,1192,209,5529,81,1924,646,520,1440,452,178,21,12,209,505,16,25,229,6,1,10,1,34,0,0,0,0,0,0,0,0,0,0,0,459,266,104,1509,212,462,90,153,1055,157,103,1067,58,74,338,27,76,27,68,112,72,335,22,41,1,16,3,4,2,12,10,12,5,1,2,9,42,110,420,206,164,69,28,90,13,31,13,2119,136,797,503,1150,1403,916,627,168,2554,120,750,217,106,397,44,30,95,55,94,578,393,116,1888,412,40,222,831,485,232,135,61,61,874,22,5597,261,83,152,176,8,327,264,15,104,71,26,11,1294,32,313,635,1311,288,97,53,1102,57,694,137,12,18,170,119,2058,35,40,13,4,71,6,1,5,1,4,10,6,2,2,2,2,6,2,206,313,193,66,270,139,77,225,23,4876,244,1278,31,8,40,9,45,13,4,20,9,29,6,7,859,5983,1673,1284,394,689,649,187,1798,465,813,326,26,26,28,122,149,205,11,3,108,8,9,16,11,12,11,2,9,15,7,27,5,3,5,5,132,112,285,91,32,2740,59,16,22,15,1059,187,0,0,0,1089,743,1362,405,1168,16,3840,7183,483,172,256,1542,64,384,3014,454,312,315,609,207,399,1175,543,1634,1013,319,1125,2481,1006,1044,1240,504,15,358,80,133,207,426,45,1280,142,188,718,293,93,894,353,829,1195,335,500,159,739,87,185,741,576,1046,486,52,106,38,32,171,79,397,85,1696,201,1235,137,384,103,379,1573,150,48,781,952,612,1819,551,788,408,944,323,101,984,89,129,249,75,2252,462,1720,390,4297,1076,9367,8901,4235,14440,12340,2027,381,69,21,15276,26742,5326,36288,15500,7282,10875,8196,1360,6858,18303,1789,293,662,1279,1080,120,1085,447,372,721,736,114,331,0,0,0,0,0,0,0,0,217,334,817,637,2358,3721,1148,2489,1782,6975,9464,2044,5787,25277,6944,6028,5104,2476,3000,185,418,431,23,126,3329,720,800,1477,1552,1076,1016,919,1224,774,715,1768,2555,426,3108,276,390,6754,5086,1146,47811,1564,739,1029,2665,1079,1440,1401,2634,1046,505,827,8786,253,1933,1504,1332,1150,1056,1350,1586,821,56,1150,1557,246,3103,1090,1235,946,1500,1452,24,3,20,33,97,8,4,10,2,5,1,3,311,447,616,797,549,274,709,3812,1373,441,201,661,300,211,65,43,44,33,20,37,190,129,123,38,3251,2091,1002,806,389,1031,500,68,651,341,867,142,1825,24687,2266,5175,3512,797,2745,2361,1530,1873,1338,1479,38,934,50,27,6429,422,410,15,115,272,280,354,44044,1367,1754,2067,5301,4294,1679,327,740,1348,1249,1275,3117,896,4208,3903,1710,1606,4776,23229,1456,1534,2199,1202,2004,778,502,1526,1468,798,2044,1310,1145,326,2228,2420,387,421,987,324,319,1087,270,124,371,1098,107,507,646,1738,2354,238,165,1080,489,706,507,770,1028,545,690,2911,734,4353,521,3481,711,1123,12103,1418,3390,53851,3,1,3,1,2,1,1,2,1,0,0,3,25,1,108,13,11,37,7,1,1,6,18,1905,3360,941,4927,2087,2938,2911,1797,3192,1538,5072,1086,213,135,164,290,183,35,86,96,353,33,172,155,27,2,7,18,4,139,18,5,167,311,13,34,1522,6039,4449,6428,24857,2873,5840,1011,6215,33205,1452,1343,41,314,239,507,228,21,92,91,33,177,668,92,8,22,3,2,2,1,2,11,9,9,1,1,6,1,4,1,2,4,4,1,1,1,1,0,885,2863,915,3525,2035,2267,1197,1043,1356,1657,655,1282,35,220,481,1013,593,679,2346,140,528,297,228,1207,5,4,36,3,3,1,2,13,1,1,5,3,970,342,106,229,437,500,725,142,317,50,115,780,0,0,0,0,0,343,0,0,384,677,1110,858,1359,9847,2416,1524,11893,3381,1270,1753,3618,2489,4080,1602,7,8,7,57,91,11,6,5,5,6,34,7,5471,3599,4961,3377,1323,2599,6612,1675,5850,2325,1276,1000,86,11,42,28,5,74,27,13,27,1433,110,15,19,87,802,14,1132,347,219,30,130,509,342,87,259,72,363,23,78,99,14,282,113,66,52,116,623,827,5000,793,972,2427,3131,5950,4550,2081,785,2424,57,50,262,45,272,10,12,43,165,83,17,34,293,113,72,155,48,1447,86,13,15,28,62,125,33,51,361,50,4,134,36,32,30,22,452,67,1081,189,775,88,598,145,445,237,1005,485,238,1116,105,23,82,13,19,105,94,5,98,5,6,5,91,3,121,105,17,380,494,518,214,11,33,9,817,286,774,41,30,837,11,254,40,84,23,32,4529,823,1472,1327,924,898,1039,1474,1167,1589,219,835,747,1337,530,1297,295,2084,515,1026,414,198,250,180,128,709,117,305,153,81,85,73,178,122,402,119,605,476,707,438,1199,966,877,1504,1064,117,1229,922,662,1732,326,1284,1029,886,1213,1605,2673,1987,1052,1548,257,1818,543,95,321,408,43,239,584,144,297,1137,86,98,2566,55,537,595,659,186,460,252,87,1720,390,2618,390,496,341,97,1249,861,973,868,193,9193,5830,1224,101154,407,3481,124,2002,14495,746,920,362,927,953,469,450,600,1018,181,8240,582,1235,380,1842,3137,4967,2154,936,1224,1030,14922,2788,2686,1594,1018,1194,270,3325,172,834,382,452,5543,153,1582,560,111,1060,452,2346,103,833,2358,1814,2543,3042,809,9351,811,1424,193,65,59,545,668,100,5769,293,492,500,346,353,1174,1513,6292,6853,475,776,1337,701,1350,1141,1203,5188,0,462,75499,21701,3157,32935,10869,5316,4192,8857,10435,8113,7178,2102,1329,1220,3206,482,2498,478,1788,1249,1976,567,2045,1204,1227,47652,1638,568,3013,2795,491,1018,2164,2415,2285,1268,2026,2164,969,1987,1319,4560,1593,6565,4133,1541,14560,7140,1495,1200,1674,54,940,1152,2558,850,3937,6271,4557,5292,4982,4733,3371,1409,26504,3141,1449,2692,3312,2015,2015,7,228,65,1094,60,83,122,106,55,77,92,29,8217,1305,916,2357,1951,1284,769,3122,1269,1618,89,66,630,249,198,84,58,186,21,431,53,2610,26,32,1631,12,12,236,7,11,11,12,135,5,57,7,73,35,30,32,39,90,37,42,276,88,10,11,29,7,9,8,8,8,17,2,4,8,122,5,11,36,111,888,53,65,38,18,22,211,10,12,17,11,8,7,6,2,5,14,11,11,57,377,273,406,556,115,420,32,26,116,425,736,68,104,189,738,365,146,383,92,291,61,288,78,594,489,13,103,231,44,261,114,45,3167,105,85,335,4452,332,287,1876,113,158,480,228,42,10,103,75,66,61,184,24,205,19,120,232,148,10,72,172,10,25,1,13,69,10,25,21,5,418,113,78,51,58,56,162,2577,62,42,28,261,44,4,98,19,197,58,21,92,239,5,173,10,12,54,28,238,512,177,61,21,115,510,147,9,5,7,4,4,4,2,3,3,3,1,1,1,9,44,13,17,118,5,11,113,36,10,12,78,31,205,213,33,284,8,98,119,45,297,137,112,28,79,333,48,41,209,119,139,41,95,184,8,376,37,169,20,89,98,265,196,292,14,16,114,185,42,57,17,70,245,76,44,80,68,54,80,85,57,12,11,42,20,41,5,119,22,20,17,82,79,21,29,31,156,12,74,353,137,59,47,71,21,36,8,375,215,80,31,56,18,57,59,6,4,4,3,7,2,3,3,1,3,3,3,164,28,47,15,151,14,16,19,14,40,41,9,46,75,19,22,17,26,2,13,1,14,6,31,1,1,1,0,0,0,0,0,0,0,0,0,31,237,120,384,3160,455,82,136,63,64,28,27,0,970,991,61,1,1981,245,38,255,62,186,62,13,25,17,36,349,85,24,26,19,30,45,305,26,75,32,70,200,478,73,33,59,192,57,81,2995,181,589,48,81,225,438,152,244,248,111,52,10,10,9,7,7,1,6,4,6,3,5,5,43285,47886,2577,8777,23764,3541,2669,1966,4090,2578,24978,3133,15276,12458,1087,14074,26800,9425,2780,35267,2607,1502,9359,14842,6082,12366,4720,7057,16829,4872,5809,13439,733,14813,6601,2804,9421,9668,2760,9831,486,11170,9384,9067,10247,10610,6162,1802,4783,2097,17714,9554,1129,22213,2412,18324,1696,7169,12893,4708,1050,7852,1683,119,1735,3699,10103,7380,3903,4892,2786,15064,22623,952,3415,7827,9773,13457,1399,4028,1371,12953,5125,25864,5211,8234,2687,5143,1827,5026,1301,23412,8691,3119,10150,14026,2214,21147,19909,1385,10780,604,1772,3357,796,4123,2697,997,713,4259,98867,1849,1645,64128,2160,7660,2025,1548,2472,13535,5795,2643,3704,1678,960,1811,4123,26697,5921,3011,8768,1673,16158,4057,6851,2234,9607,4689,9375,4848,84897,12838,24861,9762,11262,1270,17895,11285,1040,23572,3801,12068,5559,1838,2104,15187,10606,6497,11536,16282,949,1995,6636,7146,1703,12815,44,502,627,851,29990,10179,563,2320,2353,13210,1004,3015,8693,8711,9945,18143,13882,57422,10179,18101,2789,1437,10864,14254,6134,7867,8594,1892,3960,10518,10008,1023,3392,7213,4183,25854,6153,4010,5022,5547,2532,2362,7741,1658,3324,7184,4442,7196,2371,8496,1346,14103,3295,4375,12021,26673,69186,11384,2390,7059,3179,1870,18170,6073,5335,8755,4144,6420,1741,9881,3252,5089,5962,5181,3493,417,1599,15134,2596,1783,12974,785,4115,13242,1154,16212,16409,1337,1469,2660,421,31070,1737,11492,5439,8059,12105,3877,2919,2409,2083,2076,2918,842,7130,5549,155,1697,2526,2342,21730,1117,2401,3887,1156,1385,10890,1126,3652,1723,3759,1653,5387,4563,3757,4193,3694,1905,2875,613,633,1515,900,2382,32260,3249,1274,72932,120291,387,2227,2652,2520,3150,4011,6937,4839,2346,897,9381,7090,2204,1212,5328,5715,2074,12328,4537,5117,3854,1902,37141,1649,3012,6890,4628,17113,244,1472,31499,3539,1415,2965,655,18777,1591,1925,16926,13406,5739,16731,1613,268923,1780,7438,21087,1157,912,2039,16527,1000,26541,467,947,9832,2184,2853,16590,1626,9056,8320,4106,5324,5603,4183,301,3883,236,1758,1266,920,5004,880,342,205,527,1517,130,1018,4830,402,755,1087,170,1054,245,353,464,298,2238,1764,3380,1030,1406,4732,1724,1618,5056,1562,1547,2626,11167,466,1355,5065,1763,6413,5398,7017,6510,1898,3299,817,1798,3688,1611,11574,2547,2063,22355,8577,10674,783,12781,5484,7884,15724,3106,6293,8711,8067,9332,3271,1367,5077,6508,4687,11758,300,3784,1209,1428,716,12563,1518,1241,380,395,1169,1114,5738,6648,1605,4848,4743,1520,3601,4033,17071,13708,430,2643,1731,1313,775,2243,2749,2012,1080,3831,2071,2755,1216,2314,8770,1764,2837,1655,2721,1152,15493,1562,9786,1904,3357,2200,5456,2134,4675,1433,1734,3461,4076,567,1723,1282,2052,1874,1119,1023,3697,21682,1975,553,2650,2964,1624,1640,1627,1815,1011,2430,5318,7018,1634,3590,4030,4020,2635,7211,1496,4447,1410,6628,1908,1248,4587,2351,3898,3185,557,408,1703,17554,7368,676,3632,10576,11643,13960,5085,1130,14606,2971,2814,1355,2335,161029,2051,1069,1439,1948,841,937,583,577,9364,5052,694,511,937,1611,103,670,1606,260,122,877,1215,3323,11892,15106,975,5263,596,7517,21653,9028,7375,5177,6548,28125,9349,14260,7720,2142,12873,12882,12368,8625,2641,1052,13920,7416,1822,1010,1425,7014,7785,4407,602,1712,1894,3258,7449,538,1271,1407,2311,1002,2565,210,1186,1421,958,1550,1309,251,723,11026,1318,3894,12293,1447,487,9110,1519,948,2023,1858,2244,3619,22999,2743,1229,3701,710,6588,7331,4463,1873,1388,1292,1147,1109,2002,876,1186,973,379,2177,1063,1309,7489,9103,3169,7501,1967,28694,909,4820,24575,9109,18818,1121,14551,5800,4867,1006,4616,8968,7062,3073,2706,1702,3420,7130,918,1520,461,116,207,333,305,644,415,926,3118,4290,959,55332,2273,17784,25799,2865,346,4957,4128,29348,32696,3503,2354,586,1949,1825,2296,550,578,7706,1339,6760,1096,7407,5811,2145,11832,5279,5332,5151,73783,51257,28880,17334,33677,19210,2215,1322,3485,2185,2494,2091,1777,2573,228,59639,1705,1950,10945,2606,17671,2273,27801,17297,40070,6527,121584,17802,114512,33788,21245,7905,869,293,36322,2760,522,1628,12336,6437,2797,333,59361,79612,8964,43977,13010,58208,9132,21998,50815,4138,20652,6412,2464,6474,2388,1494,1463,1057,1049,109,2073,1116,1125,802,4409,686,1154,885,2437,716,1867,91,586,601,81,1018,1448,1296,1299,1769,20073,601,2281,83737,20890,48650,1945,18496,1193,4905,1699,11812,746,189,1419,1237,1703,1849,5397,4410,1554,4499,1993,424,3782,1551,954,7304,15462,6958,964,3571,2421,21689,5542,7922,7055,767,3766,70773,2497,799,41478,867,2097,5533,534,197,533,1036,4503,8592,183,903,1236,305,1544,1020,325,3227,659,2528,550,1032,1142,1766,912,1305,653,3411,11533,3397,7865,715,988,4405,1936,11666,361,30531,88,55,494,1294,976,1586,1550,1209,850,5421,255,707,6856,1007,12952,2299,19,1736,2195,47062,4569,3655,15715,578,1747,197,4198,540,942,2470,478,2558,2178,860,2888,3026,2164,10874,1935,1871,7789,10394,17759,4714,3209,14118,11847,11339,1156,1534,1102,783,627,891,7484,876,1235,1143,450,1442,426,2814,4645,13130,3933,2197,1318,1553,2007,1540,1655,12201,1284,869,396,7142,1414,9833,604,685,549,1220,1588,8371,2570,6117,5368,2225,2086,1732,6751,5228,1477,1626,4529,3254,2267,17463,23669,5301,1033,6909,4040,546,2459,1284,1122,13016,1098,481,376,898,1393,434,394,263,1061,1312,764,289,4001,5097,3193,11011,3492,3559,2784,5495,2912,9687,3444,12629,1659,1305,651,1926,396,1062,578,4735,4306,10917,1701,11080,636,1478,362,8337,702,2698,177,714,1062,1552,102,613,2152,1063,3142,1566,2306,633,2859,299,1002,631,1386,2355,6742,1853,252,1302,1658,15092,165,4333,976,1276,1476,5351,2402,6402,223,654,1262,253,1780,1266,2389,1468,838,2649,6000,1839,10689,7449,4157,3388,1343,3399,2510,1537,6134,9355,1024,325,166,203,1134,216,25,1096,770,424,755,652,4797,2783,8462,5129,5272,2784,3086,6008,16486,2076,1353,3770,722,1404,1688,214,788,1128,608,359,1532,791,395,322,151,208,385,666,237,240,5014,3033,458,1779,334,222,422,227,50,194,458,61,314,586,770,735,1299,791,426,796,1316,8415,1085,817,1275,1526,10110,1832,945,1272,442,6315,1322,557,540,327,358,803,1557,1942,279,34,1420,1812,2472,1525,2650,2753,2985,2360,948,392,944,73110,878,1454,7318,555,496,436,382,1040,306,513,300,901]},{\"axis\":{\"matches\":true},\"label\":\"num_reviews\",\"values\":[23,923,74,11,45,138,178,148,34,14,93,42,21,52,19,106,79,115,24,249,3,84,83,38,333,518,373,237,103,25,21,171,449,11,12,118,2476,1118,2697,809,2347,278,137,1190,1113,594,42,872,11,65,12,71,200,23,11,83,123,169,6,2,689,600,497,340,713,158,985,461,162,506,237,218,18,240,273,16,232,331,40,244,71,225,370,340,55,69,53,212,57,15,100,5,276,402,30,66,1,18,31,19,15,25,12,2698,13,9,620,38,151,17,19,14,794,8,16,29,8,48,48,1463,1,194,6,48,10,11,30,35,649,54,1,3,187,9,16,14,4,149,65,4,110,140,46,4397,101,424,96,42,12,142,25,13,16,11,43,9,2,86,21,158,351,267,15,70,6,12,31,10,34,45,54,6,25,352,7,59,102,234,265,138,67,9,252,21,23,15,24,59,23,3,31,45,2,281,54,17,42,12,22,36,139,26,12,12,3,16,207,32,64,161,4,15,107,0,6,28,12,6,16,26,44,3,9,8,29,10,55,30,33,17,4,23,24,27,13,54,12,110,117,18,80,79,48,23,15,31,19,40,32,181,1,1,1,32,1,1,0,5,2,2,10,6,12,47,2,117,77,185,38,20,4,11,64,8,22,9,4,3,2,3,7,6,11,258,5,11,7,57,41,5,395,12,52,14,49,11,45,799,27,43,13,36,10,51,11,5,41,6,21,6,17,2,7,5,9,14,8,5,14,18,10,33,3,38,9,4,16,10,49,81,70,1,23,24,35,7,14,17,4,41,202,4,35,12,2,46,83,31,584,22,44,17,4,51,158,154,9,21,6,14,12,14,18,48,25,33,15,8,27,11,27,224,29,7,1440,25,21,19,31,0,95,70,12,4,32,22,54,6,12,218,137,56,8,137,20,281,33,19,52,103,89,40,17,61,92,0,1,1,0,0,1,0,1,0,1,0,2,6,3,2,6,3,4,6,3,8,2,11,6,1,10,4,29,60,7,5,4,20,4,6,5,26,3,7,11,64,16,9,19,34,56,35,6,0,0,0,0,0,0,0,0,0,0,0,47,10,34,13,14,2,16,10,10,2,13,10,6,2,9,4,1,1,3,53,2,1,4,11,30,44,256,936,76,712,4,58,37,5,23,38,10,70,1,20,6,33,13,8,8,6,8,11,0,0,0,0,0,0,0,0,0,0,1,0,2,12,9,36,1,15,18,7,15,24,2,25,15,4,9,9,23,9,16,47,29,20,13,25,10,8,8,3,17,3,9,11,7,22,4,10,128,33,40,34,12,48,2,135,8,444,85,635,0,0,0,0,1,2,0,0,0,0,0,0,1,1,4,1,3,7,1,2,1,7,2,5,18,3,4,18,5,3,3,25,15,14,4,3,1,2,3,10,2,1,1,6,1,1,1,1,24,13,96,24,27,109,14,7,109,84,44,15,1,1,2,2,1,0,0,2,1,3,1,3,16,49,54,20,19,32,98,27,19,34,4,24,2,2,3,3,0,3,2,2,7,0,1,2,86,890,49,40,67,55,11,20,10,13,68,39,2,2,15,4,2,2,15,1,2,2,81,3,12,12,169,13,71,12,10,61,17,39,14,40,14,3,34,55,0,12,17,45,60,45,14,2,2,7,1,30,2,9,4,25,35,7,66,5,140,11,34,1,45,13,51,2,9,23,14,58,9,69,4,5,4,5,13,3,4,6,5,4,10,11,83,30,23,11,12,3,14,17,22,6,8,2,9,3,32,3,5,5,5,10,7,5,0,0,0,0,0,0,0,0,0,41,63,19,56,11,14,10,8,54,8,24,4,43,11,38,5,69,12,45,27,74,6,17,7,1,1,3,1,6,3,38,6,3,37,4,9,6,351,138,70,86,192,183,60,144,6,109,5,5,48,10,102,11,11,71,4,24,8,2,4,6,4,3,3,1,1,5,5,5,6,23,12,17,12,13,90,8,120,6,10,0,14,16,2,4,33,43,4,1,0,1,1,1,1,4,0,0,0,0,0,0,0,0,0,0,0,25,20,10,0,25,18,12,41,21,13,25,50,11,17,7,5,13,5,10,18,17,16,5,3,0,0,0,0,0,1,1,1,2,0,0,0,2,6,2,13,3,2,2,4,2,2,2,111,28,15,43,6,6,6,5,7,20,17,13,19,13,4,3,3,3,9,15,7,5,6,42,19,7,12,1,24,7,20,16,3,2,5,76,2,4,6,2,4,1,0,4,2,3,6,2,7,7,16,4,2,9,18,16,3,11,35,14,1,0,0,0,22,2,1,0,0,1,0,0,0,0,1,0,0,0,0,1,0,0,1,39,14,19,16,22,36,5,41,6,210,13,200,5,0,6,5,2,3,1,5,2,3,2,1,49,135,547,230,109,145,37,47,40,51,94,23,1,3,3,2,0,1,0,0,2,1,3,1,0,0,0,0,4,1,1,2,2,0,0,0,9,16,6,11,3,306,11,4,5,2,96,3,0,0,0,50,0,7,3,9,0,296,819,10,48,29,1,7,40,19,52,24,28,32,19,15,92,14,142,128,19,11,71,14,8,17,5,1,8,10,3,8,17,10,1,4,7,5,14,13,62,21,78,3,25,45,16,54,22,36,4,1,5,3,8,14,7,6,8,5,4,5,22,46,31,39,37,3,60,122,28,12,7,77,46,45,22,3,3,44,30,0,3,23,21,46,8,240,50,40,44,337,15,104,424,427,182,124,11,24,6,0,1740,2379,447,737,754,1629,650,479,175,382,202,102,5,5,3,6,10,76,2,21,7,50,24,24,0,0,0,0,0,0,0,0,2,26,42,21,28,95,26,39,18,122,329,17,40,311,30,205,437,466,470,10,85,99,2,18,193,220,39,3,11,11,5,57,10,39,16,20,28,63,27,54,6,109,197,41,1041,103,12,52,20,172,16,30,92,12,88,50,245,1,25,10,31,68,15,29,8,15,16,10,11,30,42,14,15,3,11,21,5,1,3,3,9,1,2,3,1,2,1,1,49,6,3,13,10,10,14,68,5,53,0,4,40,34,8,12,13,3,8,6,25,27,12,3,158,11,29,53,20,9,29,11,5,57,203,35,24,423,26,470,58,30,61,74,49,121,38,49,6,143,5,7,654,120,15,0,15,11,46,27,1563,61,52,8,125,143,24,0,20,6,44,26,30,21,25,51,13,8,115,2215,62,24,28,68,4,2,0,3,190,198,108,9,42,6,96,27,24,10,2,7,11,6,28,8,5,3,16,2,30,8,12,25,17,15,10,10,42,8,2,13,162,17,9,23,5,37,48,31,576,57,49,1779,3,0,0,0,0,0,0,0,0,0,0,1,5,1,3,3,4,0,0,1,0,0,1,12,26,2,15,95,26,29,40,11,117,38,17,10,33,43,49,18,4,2,10,79,9,24,40,2,1,1,1,1,14,2,2,14,0,4,4,145,128,100,21,35,38,57,15,86,481,10,25,11,11,7,9,11,4,10,10,2,8,5,3,0,1,0,0,0,0,0,1,0,0,1,1,0,0,0,0,1,0,0,0,0,0,0,0,176,11,5,109,19,28,55,27,4,46,18,17,13,13,15,0,3,5,18,6,9,27,0,5,0,0,0,0,2,0,0,0,0,0,0,0,9,20,2,23,7,16,1,23,15,12,12,5,0,0,0,0,0,0,0,0,92,45,183,25,7,24,19,5,69,388,53,18,345,39,522,8,0,0,2,0,3,0,2,0,2,0,0,0,72,43,38,20,136,24,44,20,19,155,3,1,10,2,10,6,3,1,5,9,3,57,9,1,6,7,10,5,1,31,11,6,6,4,2,8,3,5,14,2,6,10,2,8,9,13,2,1,14,1,7,26,44,99,131,25,74,35,2,29,3,7,0,1,0,1,1,3,4,3,1,4,32,5,13,36,15,121,18,6,5,3,9,5,2,2,2,6,3,4,5,4,3,3,3,8,11,13,5,8,22,35,4,25,4,9,9,3,4,5,5,5,2,2,3,0,3,0,0,0,5,3,9,7,3,1,6,2,0,1,5,1,14,7,3,9,3,4,3,5,2,8,4,10,193,11,4,11,4,6,29,10,66,52,30,10,5,5,11,12,7,20,14,13,18,21,24,21,10,12,12,39,27,5,8,9,21,9,47,12,21,16,116,3,58,157,93,15,11,11,8,57,7,6,44,6,22,43,158,19,17,7,6,10,6,4,4,8,24,7,4,30,7,15,20,4,18,18,39,8,2,20,4,13,27,14,11,9,4,41,14,6,7,5,37,19,8,8,5,357,29,19,1042,64,29,8,34,224,82,31,38,35,11,38,15,27,12,34,31,49,46,113,21,18,308,40,9,17,1,772,52,10,4,4,9,1,28,26,3,21,5,107,9,11,8,15,3,10,11,2,6,3,28,44,40,5,331,129,71,20,18,8,5,39,15,78,30,10,39,26,13,39,38,183,398,125,79,17,4,65,88,26,410,0,6,7676,1340,375,2713,2257,159,128,718,665,79,260,33,52,13,18,1,12,3,89,6,252,37,8,8,2,1141,3,8,15,26,5,2,10,16,34,10,3,10,2,11,101,177,1,55,173,14,20,72,26,35,4,6,3,16,19,3,54,68,21,38,276,11,175,41,192,10,136,29,107,3,2,2,2,5,45,6,4,2,7,2,4,1,4,109,25,26,15,88,136,10,6,27,4,7,9,25,33,11,4,5,35,4,2,5,28,2,3,23,4,2,0,2,2,2,1,1,1,6,1,3,4,3,1,2,2,3,2,2,1,0,0,0,0,0,0,0,0,0,0,0,0,3,2,3,6,3,64,5,7,7,4,4,12,3,3,1,1,1,1,2,0,0,2,2,0,9,8,4,10,11,17,2,3,5,7,7,6,9,0,18,6,10,5,4,5,14,3,15,8,3,5,3,33,7,3,4,15,4,161,9,22,32,263,23,42,109,4,17,12,26,5,4,1,7,6,9,5,2,4,4,6,11,3,1,2,2,4,2,1,2,1,2,1,3,1,2,2,6,7,1,3,3,30,1,1,1,1,2,1,1,2,0,4,3,3,1,2,0,1,3,7,1,3,3,3,5,2,6,1,4,2,1,1,0,0,0,0,1,0,0,0,1,0,1,0,1,1,0,1,1,0,0,3,0,0,4,11,4,3,3,2,6,8,5,7,2,7,7,3,5,3,1,5,4,8,2,3,4,1,9,7,3,6,6,5,23,16,18,3,3,8,8,8,9,4,6,8,4,2,5,8,0,4,2,7,1,2,4,4,3,1,8,2,6,3,3,3,2,4,4,4,2,6,1,12,1,7,3,3,4,1,0,5,2,1,3,1,8,3,0,0,0,0,0,0,0,0,0,0,1,0,0,2,0,0,1,1,1,1,1,1,0,1,0,0,0,0,0,0,0,0,0,1,1,0,1,1,0,0,0,0,0,0,0,0,0,0,2,12,11,25,47,3,6,20,13,13,3,3,0,14,29,1,0,28,26,12,30,1,9,1,1,1,3,4,3,2,1,1,1,1,5,0,2,2,2,2,11,3,2,5,6,21,2,11,51,17,6,4,7,19,10,21,25,9,12,3,1,0,0,0,0,0,2,0,0,0,0,0,525,285,529,206,490,202,112,359,178,210,540,351,167,253,220,106,333,147,94,217,317,218,110,131,848,506,1017,655,820,662,1445,1981,104,1358,1304,418,73,38,52,56,59,35,21,41,200,83,324,13,41,401,198,368,137,142,116,333,193,277,220,111,223,46,340,6,76,201,75,43,53,49,31,237,783,121,312,268,117,215,212,674,165,680,395,188,414,1111,331,941,129,72,179,799,836,453,997,232,20,1220,411,89,110,8,13,82,43,23,64,31,80,0,6512,21,75,4047,16,7,16,30,139,473,79,56,111,34,110,118,46,1097,35,57,173,31,159,359,276,253,78,216,219,105,2685,96,423,94,142,16,212,102,5,210,43,81,35,169,69,970,570,901,876,303,129,286,302,629,292,262,0,62,125,164,1342,314,178,114,47,978,43,30,522,44,101,159,63,874,68,88,243,24,63,27,160,147,37,147,220,129,53,118,29,50,231,306,125,17,38,80,291,4,9,185,138,22,23,8,10,1838,330,1548,531,622,660,1090,2408,1846,497,116,214,193,117,627,105,931,383,134,26,329,401,685,466,64,43,65,26,523,11,16,120,20,63,131,12,514,589,28,237,276,26,742,471,174,22,231,144,92,136,90,213,8,16,144,30,92,9,64,185,15,61,10,15,81,4,188,212,10,60,258,24,53,38,49,28,92,48,228,20,93,39,32,129,22,1005,27,34,2575,5924,5,44,33,183,69,24,22,129,10,129,138,52,6,15,47,52,14,15,415,463,482,224,1813,34,260,99,247,380,44,210,450,43,17,17,95,1112,99,27,126,78,26,137,21,8629,69,441,154,105,17,7,354,74,750,20,108,71,15,47,51,115,96,73,112,52,46,292,44,110,31,37,16,1,52,6,53,38,63,4,14,33,38,20,5,7,21,4,23,34,26,20,65,33,50,11,12,5,72,46,74,42,30,95,34,11,14,40,17,107,358,37,45,19,166,6,20,49,165,78,62,18,54,69,102,5,145,439,44,33,31,165,29,30,172,278,17,126,137,99,242,16,85,9,91,32,239,55,23,10,18,110,8,9,16,10,33,393,34,28,40,17,92,54,34,90,121,245,27,62,15,37,15,57,57,36,77,261,53,68,39,96,20,415,4,989,25,84,25,133,215,15,145,9,11,39,63,28,117,18,40,111,131,195,1106,141,84,19,8,31,22,38,249,2,15,56,28,52,36,92,95,25,52,37,76,134,53,12,171,46,302,95,102,92,39,435,94,216,119,28,154,169,239,106,162,235,285,107,45,13,279,99,12,10,72,99,4,7,97,311,92,39,12,2,24,11,33,28,22,10,6,58,90,50,31,141,29,32,89,138,87,52,318,44,115,206,44,58,536,106,95,89,94,28,14,64,65,4,154,36,95,416,17,93,438,40,32,111,13,136,137,8,178,32,19,14,17,14,25,60,32,130,228,81,91,235,35,31,411,28,48,8,110,365,93,602,589,139,508,137,721,55,59,360,11,2,19,13,41,48,12,50,58,13,72,74,941,1724,527,1213,372,688,16,983,525,620,407,174,169,185,128,4,20,35,72,27,179,49,489,39,8,21,67,12,32,15,40,42,67,102,8,150,51,1225,384,260,382,95,28,634,434,780,526,123,16,54,149,17,28,97,25,62,21,84,8,172,850,166,1883,1375,828,737,19649,1955,4316,676,3809,3137,223,171,22,283,303,86,35,103,9,2692,26,33,1286,241,4675,288,4340,3166,8341,1384,27445,2144,22412,4434,914,561,99,30,2618,76,50,162,271,313,59,22,11580,16976,1893,7106,2709,11123,1560,3326,15117,307,6357,987,17,86,139,23,56,22,22,17,24,62,10,6,71,19,89,3,137,59,19,5,65,4,14,28,173,22,56,49,615,126,32,4598,945,1236,58,386,87,101,8,152,93,7,38,16,27,29,112,52,30,138,55,85,32,42,183,368,689,132,19,18,6,1080,54,183,166,104,135,5660,98,87,2104,177,16,137,16,26,54,27,146,336,30,3,18,45,15,46,50,19,64,15,15,9,148,38,128,38,20,84,240,12,241,12,23,71,88,546,26,1948,8,13,46,11,29,87,15,8,12,93,5,59,137,96,163,11,2,79,10,5590,108,85,406,40,13,11,145,11,161,24,37,12,22,201,26,60,290,114,17,154,59,33,64,149,58,30,57,43,13,33,12,20,126,101,304,59,25,34,61,9,4,14,171,346,23,9,78,35,10,19,10,217,46,125,6,41,14,241,47,37,49,16,8,212,17,188,78,14,56,15,44,180,17,81,54,92,17,283,521,174,16,401,72,69,107,173,5,286,15,75,19,132,40,69,78,14,8,19,7,30,8,196,10,13,61,24,221,52,309,59,35,88,73,25,52,9,130,12,6,81,163,319,125,165,33,18,19,300,21,29,19,48,20,14,27,135,19,101,117,29,3,104,42,75,7,103,17,143,1036,34,46,18,72,1234,13,16,93,245,27,235,26,104,26,86,36,34,15,90,7,54,13,16,21,91,394,91,206,67,11,85,21,8,93,390,14,37,21,33,9,28,4,33,65,45,0,48,97,9,50,183,111,425,17,203,86,125,53,108,53,7,16,34,21,77,88,45,19,29,26,9,40,48,39,89,22,45,196,91,2,48,41,9,86,16,5,26,28,9,43,10,0,16,15,8,4,3,22,56,8,164,11,72,379,6,17,31,48,53,14,39,13,26,0,2,13,23,37,2,62,112,41,43,61,10,40,12,193,81,1,1716,6,14,205,89,113,36,28,14,3,169,31,36]},{\"axis\":{\"matches\":true},\"label\":\"num_lectures\",\"values\":[51,274,51,36,26,25,26,23,38,15,76,17,19,16,42,19,16,52,23,12,25,39,16,23,40,50,42,25,81,37,41,35,80,22,28,68,52,61,138,110,174,103,79,25,227,43,35,42,46,62,53,77,23,20,17,47,33,15,11,19,40,79,38,102,40,76,45,26,26,32,28,30,15,23,45,18,60,15,39,45,54,24,134,33,5,20,10,49,19,14,49,6,108,57,9,11,14,30,60,9,6,25,20,15,20,19,23,24,51,30,16,13,9,8,462,25,5,29,59,8,42,24,284,47,35,39,20,14,17,16,18,14,20,11,28,61,26,15,23,12,55,17,45,16,59,36,34,33,23,13,29,31,34,25,25,46,17,22,43,20,544,66,36,29,43,22,14,29,34,40,13,21,42,13,19,88,10,44,54,11,24,12,10,76,23,26,24,25,27,8,34,48,22,20,5,31,14,90,21,5,7,42,15,37,54,35,9,49,9,24,6,15,97,18,8,45,18,128,19,14,55,9,28,13,23,59,16,63,18,20,11,7,46,21,7,34,12,22,24,53,38,59,25,19,28,38,15,20,9,11,38,9,16,23,19,19,47,45,38,15,51,235,37,15,31,48,52,44,14,211,29,26,24,40,19,42,15,23,10,17,30,55,100,25,12,20,16,13,19,26,5,14,15,62,43,15,82,14,81,30,45,11,16,11,16,8,21,6,18,31,39,27,97,11,22,123,14,27,11,21,23,40,10,11,33,47,43,33,21,10,332,22,9,34,46,15,39,21,272,18,6,31,16,29,6,61,10,19,12,18,69,12,7,129,15,7,316,44,11,27,6,29,19,25,62,23,37,8,28,17,61,5,70,20,17,25,14,30,138,8,13,20,12,105,66,176,32,7,13,91,18,14,29,27,15,11,44,16,41,37,11,53,48,18,21,12,5,55,8,25,19,6,108,12,9,6,7,26,14,5,15,21,15,29,28,14,43,22,17,61,42,6,16,17,12,29,21,47,5,36,9,26,9,64,21,31,17,72,4,23,35,69,11,20,27,7,9,9,15,11,5,16,35,18,21,19,11,35,25,30,58,19,20,18,15,18,19,63,15,26,9,58,6,29,14,72,40,12,23,22,16,24,64,26,16,22,79,12,19,211,11,14,20,11,28,142,14,24,21,27,34,24,8,12,12,6,27,21,28,43,11,25,12,10,8,19,15,395,19,194,63,30,12,19,7,36,14,12,5,27,54,32,41,20,21,88,15,18,22,18,14,20,16,14,25,24,27,25,35,13,527,74,46,9,25,13,15,11,7,15,84,14,14,9,12,20,8,14,57,33,22,23,21,13,12,14,15,17,69,87,18,21,5,15,24,66,13,15,20,17,65,13,15,18,19,21,14,18,28,11,8,13,21,48,7,13,9,8,15,6,12,41,10,33,14,24,61,24,12,37,6,29,29,16,12,42,23,52,13,19,16,15,5,15,22,22,35,20,15,27,53,105,59,16,460,11,101,17,25,14,5,22,10,5,27,24,21,6,50,18,41,54,20,16,23,20,19,52,95,70,51,10,6,5,18,17,42,107,32,16,8,5,50,33,7,29,29,34,50,50,35,17,8,28,50,12,16,20,22,24,6,41,27,30,37,29,25,6,14,15,102,10,11,113,8,39,6,17,12,5,25,8,7,6,30,6,13,17,29,15,41,11,31,8,10,22,7,7,13,32,25,10,26,25,30,69,22,12,12,13,42,49,15,20,27,10,5,71,9,24,19,28,14,15,22,145,12,10,9,10,12,10,9,6,9,10,44,23,6,23,19,23,19,11,38,27,20,8,11,37,24,14,29,44,26,20,13,10,13,12,14,10,8,37,22,20,57,24,5,29,75,25,17,20,41,54,11,22,55,25,19,42,17,55,42,79,6,34,16,20,35,19,17,64,10,16,5,27,28,11,11,15,26,13,12,25,26,27,38,37,5,33,5,17,9,21,444,27,54,17,33,10,24,25,33,27,6,5,33,9,12,12,7,6,10,7,6,9,0,27,10,14,14,21,9,14,34,35,27,64,9,12,35,28,30,6,6,77,12,45,33,37,26,18,37,31,23,10,7,127,6,12,11,59,13,59,13,13,25,14,50,22,16,26,15,17,5,98,54,21,16,286,27,14,23,27,27,10,19,28,9,12,36,8,6,20,15,9,34,34,12,25,74,26,35,13,20,17,24,22,27,120,60,11,35,19,14,12,10,12,79,36,16,19,49,28,58,7,25,6,12,13,29,7,14,18,27,21,25,6,16,27,6,28,27,19,29,5,39,130,48,6,6,7,12,34,24,27,22,7,10,39,25,14,11,24,29,28,33,25,36,21,13,40,45,18,9,49,12,40,29,25,24,13,27,23,7,40,45,73,16,29,38,15,28,52,14,17,14,14,36,49,5,121,27,37,8,13,11,45,20,19,8,6,12,13,10,51,41,11,10,9,42,18,35,46,10,7,27,47,14,9,53,13,9,13,27,7,13,22,5,15,33,14,40,15,39,24,44,44,15,39,37,19,33,11,15,75,11,46,32,12,18,26,17,16,20,32,56,21,27,158,30,16,47,27,18,48,28,59,49,241,17,50,7,29,34,13,24,86,25,22,14,26,14,21,24,17,30,21,36,54,17,11,19,15,27,18,18,60,43,19,18,8,53,72,15,34,15,16,187,11,31,41,10,8,28,23,111,86,27,15,110,15,21,85,20,26,46,9,7,25,18,65,62,150,63,65,42,41,85,79,41,54,57,18,21,33,35,29,10,10,10,35,44,50,9,9,9,29,8,14,10,12,11,21,27,18,22,12,46,42,16,10,29,43,15,21,16,24,20,26,96,134,94,71,80,20,119,33,82,24,13,27,15,25,56,15,35,20,14,55,28,28,27,8,20,12,5,22,9,15,26,8,35,14,12,25,28,78,39,11,14,13,9,24,25,8,11,5,5,7,13,12,12,11,45,10,6,9,27,122,20,5,19,124,43,8,55,12,9,11,9,163,23,19,70,8,49,31,11,63,34,12,10,77,66,20,46,19,41,53,131,36,43,48,25,13,26,44,28,43,8,17,48,12,35,22,9,33,13,10,7,17,37,67,40,25,14,35,82,34,41,16,12,31,31,62,6,56,12,33,98,45,31,79,18,77,15,15,14,12,14,19,42,62,108,19,13,16,9,18,12,77,23,16,36,9,24,15,24,141,25,25,20,20,43,51,21,24,18,29,14,35,24,118,16,26,34,82,7,25,166,37,8,11,13,5,24,36,8,26,23,19,35,36,57,23,6,105,13,18,19,29,45,12,6,7,27,34,13,14,7,8,13,5,21,30,5,44,22,59,49,87,24,66,11,38,14,16,26,22,6,45,37,39,18,74,44,8,16,14,62,88,19,9,18,50,154,29,15,158,18,11,5,7,8,9,30,17,30,9,185,11,37,111,9,54,11,13,30,11,17,12,11,16,6,19,26,9,21,17,57,21,17,24,16,15,11,20,10,37,8,19,23,13,56,23,9,9,5,43,8,8,11,8,9,55,10,34,6,8,29,27,15,33,23,81,98,30,11,41,150,19,11,33,66,25,13,9,55,21,20,19,7,19,63,20,5,14,12,8,29,14,5,10,35,46,34,81,19,26,76,31,12,88,76,28,24,5,9,32,8,5,16,24,29,18,18,11,77,17,24,35,14,11,40,57,14,15,207,12,26,16,28,20,18,12,34,10,46,16,20,49,18,8,39,72,29,15,225,77,20,12,34,61,19,12,78,15,32,103,7,11,202,7,54,8,22,14,10,23,30,13,29,11,25,23,13,15,8,8,11,17,19,9,16,9,26,28,48,13,19,18,30,15,21,52,24,97,56,29,15,61,29,15,16,45,12,26,11,18,15,57,41,17,12,38,44,39,40,90,74,13,52,12,32,38,41,56,7,20,9,115,7,13,20,21,22,57,37,25,47,55,6,14,13,55,14,32,46,21,22,21,41,10,40,26,9,22,69,156,33,24,15,29,13,27,77,10,8,26,16,17,15,27,12,13,13,7,17,86,14,26,8,81,8,13,83,5,7,10,24,13,18,24,9,102,44,39,25,7,28,18,13,9,14,7,20,19,19,15,39,38,18,38,10,108,38,14,19,45,11,11,123,16,11,91,108,77,31,145,88,14,110,32,11,90,13,34,54,99,32,74,77,52,29,43,43,20,5,90,12,11,27,10,13,49,196,25,17,45,26,31,23,13,22,33,46,35,131,21,38,26,10,16,36,14,23,12,21,52,74,62,8,17,12,20,95,33,20,14,33,21,40,9,27,123,13,30,7,30,22,32,6,51,131,49,28,68,12,16,12,32,44,8,41,32,34,63,29,24,5,15,35,25,23,29,27,6,9,12,15,18,14,11,70,26,22,17,13,57,21,52,16,31,56,29,10,46,14,29,162,17,74,59,25,23,19,38,23,36,89,21,62,55,74,10,58,31,23,362,136,32,310,104,291,34,131,23,124,144,99,35,26,17,47,25,18,33,69,16,24,24,56,26,26,17,65,28,25,29,5,30,115,22,30,62,113,17,161,21,22,41,56,224,42,32,26,36,10,24,10,32,42,16,43,20,75,77,85,240,15,42,17,82,15,88,14,21,21,25,13,64,13,11,38,9,29,89,30,14,25,37,10,68,16,53,78,40,33,80,51,15,35,8,27,61,34,10,11,56,12,11,9,24,26,22,6,34,13,18,14,16,34,13,28,8,57,27,15,26,39,39,136,61,19,37,62,48,12,41,14,10,10,11,10,50,7,24,18,12,59,19,23,30,18,25,39,77,51,31,21,30,10,14,22,37,26,46,23,21,10,71,183,27,9,14,6,25,27,17,13,11,23,27,192,46,56,9,101,64,12,15,9,71,39,9,100,24,33,35,9,309,110,34,17,13,48,34,23,20,25,14,42,27,11,18,59,123,215,19,35,46,22,38,30,107,38,95,83,106,97,77,9,24,41,22,30,22,23,53,17,321,32,17,30,34,45,42,10,28,14,6,11,11,10,18,7,27,15,12,106,47,27,71,9,45,63,8,12,69,13,22,151,102,36,13,53,8,39,36,16,25,16,26,9,47,20,39,19,26,38,10,45,11,72,7,5,11,48,24,42,39,321,18,92,77,11,20,12,16,73,26,15,7,43,63,72,25,40,61,13,19,32,104,11,30,82,9,86,6,16,12,12,14,65,35,130,41,12,59,70,17,15,37,18,34,23,40,24,126,18,112,30,16,38,53,196,24,48,7,52,17,24,13,62,15,11,22,5,62,12,13,30,17,28,13,16,38,8,15,9,80,16,10,10,9,28,6,27,16,17,41,17,11,35,28,11,16,14,5,20,11,82,11,5,34,29,4,13,27,43,24,91,11,30,10,38,14,86,69,6,49,14,10,5,6,11,16,6,6,7,28,6,8,13,5,14,6,47,98,22,11,7,34,49,15,32,9,23,9,12,31,20,38,93,83,53,22,24,49,24,10,35,40,36,23,49,52,9,15,43,23,20,27,11,17,19,31,16,26,15,17,16,27,19,25,8,14,11,106,12,91,33,21,64,18,12,23,33,17,31,37,30,7,17,36,23,23,24,125,64,75,58,37,72,65,348,39,67,63,19,82,32,46,55,14,29,53,49,49,402,17,135,120,126,65,77,171,61,89,50,74,26,212,36,52,34,74,27,19,16,27,15,10,43,8,48,28,23,16,77,16,28,16,60,20,95,18,64,31,48,70,25,11,20,59,107,32,20,15,73,75,160,66,65,69,89,93,83,22,53,32,133,110,138,80,66,43,80,251,63,207,90,25,23,16,17,97,19,43,48,48,29,34,82,20,8,11,20,83,12,17,28,19,38,126,31,18,29,24,18,32,32,36,31,20,42,10,8,24,125,99,454,115,40,54,43,123,10,22,281,112,18,73,30,77,30,20,12,12,21,31,14,64,88,221,60,159,89,45,50,77,178,53,68,59,7,75,87,21,32,43,91,8,40,19,11,22,43,15,47,84,17,68,26,20,26,20,50,23,18,24,47,57,26,38,19,38,86,17,84,12,13,40,30,13,36,68,19,29,28,38,12,308,32,197,162,129,41,185,197,80,82,58,174,145,779,66,117,133,43,188,87,136,62,29,132,22,26,109,49,12,39,15,13,25,13,24,71,20,74,12,120,16,33,195,87,118,24,39,54,15,70,19,23,20,17,536,17,143,37,54,24,19,35,37,27,94,59,83,33,12,7,60,25,14,15,13,20,44,39,57,36,37,54,60,126,16,12,60,15,21,30,30,26,40,34,49,17,7,84,65,171,131,30,97,39,28,31,22,32,49,138,48,47,316,25,330,90,93,93,21,110,46,20,23,30,195,21,74,38,33,44,29,10,20,45,21,37,24,31,48,19,17,140,38,126,56,59,24,16,27,78,31,11,15,14,47,38,91,9,35,16,21,7,21,24,60,97,11,12,20,41,7,35,18,24,78,26,36,41,22,24,12,16,16,30,20,14,94,20,11,34,56,135,13,25,29,12,30,123,83,28,22,31,34,32,24,11,157,15,18,12,26,31,26,13,22,92,28,29,13,8,12,44,33,54,58,66,90,24,8,66,32,21,32,57,11,122,9,30,57,64,23,35,22,32,17,28,23,22,25,15,62,39,83,74,62,82,97,7,59,76,25,14,179,28,25,13,28,49,19,44,14,25,12,7,17,13,12,25,55,56,34,13,23,22,34,7,12,8,224,204,44,48,8,36,31,39,9,38,29,7,42,19,36,13,38,21,104,46,52,30,491,74,24,67,19,17,18,49,16,32,94,133,80,65,16,52,125,31,23,21,19,27,66,21,28,35,27,18,27,76,61,77,45,29,10,35,101,10,23,39,7,6,20,72,37,73,64,116,7,33,7,28,16,18,29,84,47,35,12,17,70,38,21,69,43,17,71,38,20,26,73,15,47,28,14,25,25,34,62,33,29,214,49,35,16,13,113,110,69,44,174,41,41,9,36,17,27,14,25,37,13,55,29,18,7,52,22,20,8,25,52,168,19,18,61,108,125,49,36,18,36,79,58,12,19,24,31,29,7,46,45,43,84,43,173,58,38,384,60,77,13,53,98,50,80,62,14,32,12,8,19,25,172,13,103,78,102,24,39,52,46,7,32,14,9,28,53,37,33,15,74,144,91,61,42,32,74,60,61,66,67,41,45,56,102,58,14,70,36,45,18,27,7,147,114,136,191,123,160,115,329,77,286,96,283,44,74,37,19,45,40,29,48,46,72,24,17,16,129,77,329,142,113,111,194,111,342,113,304,246,9,5,38,31,32,26,48,129,26,22,10,353,55,85,56,77,68,98,137,119,150,107,138,114,9,15,12,62,24,12,47,69,16,51,45,9,100,21,9,13,10,34,8,53,98,6,33,48,48,72,71,7,28,64,21,45,21,9,10,30,58,13,22,19,39,16,20,14,8,24,36,26,60,20,26,9,11,78,123,28,60,30,21,8,28,13,9,16,24,81,14,50,154,41,13,48,10,11,51,28,23,20,122,35,47,7,14,13,29,60,106,21,26,30,59,21,90,118,81,16,25,22,18,85,36,12,27,12,53,20,49,53,55,31,37,15,13,124,23,62,16,20,9,103,19,87,22,22,33,47,35,41,18,44,28,84,13,53,161,19,64,19,18,36,19,56,24,67,70,59,10,60,23,34,37,28,96,27,57,26,28,18,21,13,31,119,5,28,7,13,41,25,9,39,19,88,14,12,51,43,113,39,44,24,30,78,8,25,22,15,35,14,18,16,15,18,87,28,20,64,22,48,353,27,27,18,29,16,29,30,9,6,42,14,20,21,101,301,7,15,54,77,49,40,9,23,22,7,17,11,8,30,37,37,23,36,12,18,79,18,85,59,16,36,38,8,20,458,21,11,8,69,12,25,88,7,54,83,8,129,30,57,10,28,32,44,36,116,15,40,20,36,24,31,17,34,10,65,28,215,6,39,79,22,68,65,28,17,46,271,8,13,23,23,27,239,40,45,6,50,20,18,23,7,25,47,17,32,80,39,22,15,23,29,15,177,26,27,37,15,24,16,66,10,84,60,7,46,11,21,21,35,24,29,73,35,34,56,320,72,18,17,29,24,25,36,48,73,23,24,36,9,30,29,32,115,52,358,32,9,12,16,54,60,69,20,60,87,40,44,49,17,8,30,23,16,10,18,45,13,13,131,18,86,12,12,11,29,80,16,27,28,15,106,23,7,74,48,119,21,152,7,8,65,304,18,27,49,48,63,10,22,8,12,8,16,17,22,140,21,42,48,38,20]},{\"axis\":{\"matches\":true},\"label\":\"content_duration\",\"values\":[1.5,39.0,2.5,3.0,2.0,3.0,1.0,2.5,2.5,1.0,5.0,1.0,1.5,2.0,7.0,1.5,1.5,4.0,1.5,0.5833333333333334,2.0,4.0,2.0,1.0,2.0,5.0,4.5,2.0,4.5,3.0,2.5,1.5,6.5,2.0,1.5,10.0,5.5,4.5,7.5,5.5,10.0,6.5,11.5,1.0,16.0,3.0,5.0,5.5,5.0,2.0,2.0,3.0,2.0,1.0,1.5,4.0,5.5,1.0,1.5,1.0,3.5,9.0,4.5,8.5,6.5,5.5,11.0,1.5,3.5,3.0,5.0,2.5,1.0,1.0,3.0,2.0,4.0,1.0,5.0,4.0,1.5,2.0,11.5,1.5,1.0,1.5,1.0,4.5,1.0,1.5,2.5,0.7,9.5,5.0,1.0,0.55,3.0,1.5,5.5,2.0,1.5,1.5,1.5,1.5,1.5,1.0,1.0,1.0,2.0,4.5,5.0,1.5,2.0,1.0,62.0,1.5,0.1333333333333333,0.6833333333333333,2.5,1.5,3.0,4.5,31.5,3.5,2.5,3.0,0.55,1.0,1.5,2.0,1.0,2.5,1.0,1.0,1.5,9.5,1.0,20.0,2.5,1.0,6.0,1.5,4.0,1.5,5.0,2.5,2.5,3.0,1.5,1.0,1.5,1.5,1.0,3.0,3.0,3.5,1.0,2.0,4.5,1.0,46.5,5.0,4.0,2.5,3.0,1.0,1.5,2.0,1.5,4.5,2.0,1.5,2.0,3.0,1.5,5.5,1.5,5.5,10.0,2.0,3.0,0.7,1.0,6.0,1.0,1.5,1.5,2.0,5.0,1.5,4.5,4.5,3.5,1.5,1.0,1.5,0.55,9.0,2.0,1.0,1.0,1.5,1.5,5.5,6.0,2.0,2.0,7.0,1.0,2.0,0.7166666666666667,1.5,10.0,1.5,1.0,2.0,1.5,17.5,1.0,1.0,4.5,1.0,2.0,2.0,1.5,12.0,2.0,3.5,1.0,1.5,1.5,1.5,2.0,2.0,0.6833333333333333,3.0,1.5,4.0,2.5,2.0,4.0,2.0,2.5,2.0,2.5,5.0,3.5,1.0,1.0,0.5333333333333333,4.0,1.0,1.0,4.5,2.5,1.0,2.5,4.5,3.0,2.0,24.0,19.5,3.0,1.5,1.5,2.0,3.5,2.5,4.0,20.5,3.0,1.0,4.0,3.0,3.0,2.0,2.5,3.0,0.5,0.7166666666666667,2.0,10.0,20.5,2.0,1.5,10.5,1.0,1.5,3.0,5.5,0.5166666666666666,1.5,2.0,5.0,4.5,1.0,6.5,1.5,2.5,2.0,6.0,0.6,1.5,2.0,1.5,1.0,1.0,0.7,1.5,4.0,3.0,5.5,7.0,1.0,2.0,5.5,1.5,2.5,0.6833333333333333,2.0,0.5,2.0,2.0,0.6833333333333333,3.5,5.5,8.0,2.5,2.0,2.0,29.0,4.0,1.5,3.0,8.0,3.0,2.5,1.0,26.0,1.5,1.5,2.5,1.5,3.0,0.7,6.0,1.0,2.5,1.0,1.0,10.0,1.0,1.0,11.0,3.5,0.5333333333333333,24.5,3.0,1.5,2.0,1.0,2.5,2.0,2.5,6.0,0.7166666666666667,6.0,1.0,2.0,2.5,2.5,1.5,8.0,1.0,1.0,1.5,1.0,1.5,10.0,1.0,3.0,4.0,1.0,5.5,3.5,5.0,1.5,0.5833333333333334,1.0,13.0,1.0,1.0,2.5,1.5,0.7333333333333333,1.0,3.5,1.0,2.5,1.5,1.5,7.5,6.0,2.0,1.5,2.0,0.6,7.5,1.5,4.0,1.0,1.0,3.5,1.0,0.7166666666666667,0.5666666666666667,2.0,3.5,1.5,1.0,1.5,1.0,1.5,1.5,1.5,1.0,2.5,2.0,1.5,3.0,2.0,1.0,2.0,4.5,1.0,1.5,5.5,12.5,1.0,2.0,1.0,3.5,1.0,12.5,2.0,6.5,1.0,5.5,0.3166666666666666,5.5,11.5,8.0,1.0,0.6166666666666667,1.5,2.5,2.0,2.0,3.5,2.0,1.0,1.0,5.5,2.0,4.0,1.0,0.6666666666666666,2.5,4.5,3.0,4.5,2.0,1.5,1.5,0.6666666666666666,2.0,2.0,6.5,3.5,1.0,2.0,6.0,1.5,4.0,1.5,8.0,4.5,0.6,2.0,2.0,1.5,8.0,3.5,3.5,1.5,2.5,18.0,3.5,1.5,19.5,0.5666666666666667,0.6166666666666667,1.0,1.0,1.0,24.5,1.5,1.5,1.0,6.5,5.5,7.5,1.5,1.5,1.0,0.5666666666666667,2.0,2.5,2.5,1.0,1.0,1.5,0.5666666666666667,0.7166666666666667,1.0,2.0,0.5333333333333333,33.0,3.0,24.5,7.5,3.0,1.0,3.5,1.5,5.0,1.0,0.5333333333333333,1.0,5.0,10.5,2.0,7.0,1.0,3.5,9.0,2.5,3.0,1.5,2.0,1.0,4.5,1.5,1.0,2.5,2.5,1.5,2.5,1.5,2.5,71.5,7.0,3.5,1.0,6.5,1.0,3.0,2.0,0.5833333333333334,1.0,7.0,1.5,3.5,1.5,1.0,2.0,1.0,2.0,3.0,0.6166666666666667,1.5,2.5,1.0,3.0,1.5,1.0,0.5166666666666666,1.5,20.5,47.0,3.0,2.0,1.0,1.0,4.0,14.5,1.5,1.5,3.5,1.5,2.5,2.0,1.5,5.0,1.5,2.0,0.6166666666666667,3.5,3.0,1.0,1.5,2.0,3.0,3.5,0.5666666666666667,0.6833333333333333,1.0,1.0,0.65,1.0,2.5,4.0,2.0,4.0,1.0,5.5,6.0,6.0,1.5,5.5,1.0,14.5,2.0,1.5,2.0,3.0,1.5,2.5,1.0,0.55,1.5,2.0,1.0,2.0,1.5,2.0,2.5,1.0,1.0,3.5,7.0,18.5,2.0,2.5,43.5,0.6,10.0,2.5,5.5,1.5,0.6333333333333333,1.5,2.0,1.0,2.0,4.5,3.5,0.6666666666666666,5.5,1.0,5.0,4.0,1.5,1.5,2.0,5.0,1.0,4.0,14.0,5.0,6.5,1.0,1.5,1.0,1.0,1.5,3.5,14.5,1.0,1.5,1.0,1.0,7.0,5.0,1.0,2.0,3.0,3.0,4.0,2.0,3.0,1.0,0.6333333333333333,3.5,6.0,2.0,1.5,2.5,4.5,5.5,1.0,2.5,2.5,4.0,2.0,4.0,7.5,0.4666666666666667,1.5,2.5,10.0,2.0,5.0,24.0,1.0,9.0,1.0,14.5,1.0,0.6166666666666667,1.5,1.0,1.0,1.0,2.5,0.5333333333333333,1.0,1.0,1.0,1.5,3.5,0.7333333333333333,1.5,0.5166666666666666,1.0,12.5,1.0,1.5,0.5833333333333334,4.5,2.0,1.5,3.5,2.0,1.5,9.0,1.5,0.6833333333333333,2.0,2.0,6.0,5.5,2.5,4.0,3.5,2.0,1.0,3.5,2.0,1.0,1.5,5.0,1.0,2.5,6.0,8.5,0.5166666666666666,1.0,2.0,0.5333333333333333,0.7333333333333333,2.5,1.0,2.0,2.5,2.0,4.0,6.0,1.0,1.0,0.6166666666666667,2.5,2.0,1.5,3.0,1.5,1.5,2.5,0.5666666666666667,6.5,1.5,0.7166666666666667,4.5,5.0,3.0,3.0,1.0,1.0,0.5333333333333333,1.5,1.0,1.5,1.0,3.0,4.0,3.0,3.5,0.7,0.6166666666666667,3.5,3.5,1.5,1.0,3.0,4.0,6.0,1.0,2.0,7.0,5.0,2.5,2.5,1.0,7.5,7.5,5.5,1.0,2.0,2.0,2.0,5.0,3.0,3.0,7.0,1.0,1.0,1.0,4.5,2.5,1.0,3.0,1.0,2.5,5.5,3.0,2.0,3.0,1.0,12.0,7.0,2.0,1.0,1.0,1.0,0.5333333333333333,1.0,45.0,1.5,1.5,2.5,70.0,1.5,4.0,6.0,2.0,4.5,0.6,1.0,6.0,8.0,1.0,0.6333333333333333,0.6166666666666667,0.5333333333333333,2.0,1.5,1.0,1.0,0.0,1.0,1.5,3.0,3.0,2.0,0.7166666666666667,1.5,1.0,2.5,2.0,3.5,2.5,2.5,2.0,1.5,4.5,1.0,1.0,6.0,2.0,2.5,2.0,1.5,1.5,3.5,3.0,7.5,3.0,1.0,1.0,31.5,0.5333333333333333,1.5,1.5,2.0,3.0,4.5,1.5,1.5,4.0,1.0,10.0,1.5,1.0,2.5,0.6333333333333333,1.5,1.0,0.5166666666666666,2.0,3.0,3.0,29.5,2.5,2.0,6.5,1.0,2.0,1.0,2.0,2.5,2.0,1.0,3.0,1.0,1.0,1.0,1.0,1.0,6.0,5.0,3.0,2.0,13.0,1.5,3.0,2.0,3.5,1.0,4.0,2.5,5.0,13.5,2.5,1.0,2.5,0.6833333333333333,3.5,2.5,0.6666666666666666,0.45,3.0,4.5,1.5,1.5,4.0,6.5,5.5,0.5166666666666666,2.5,0.6833333333333333,1.5,1.0,3.0,1.0,0.5666666666666667,1.0,4.5,3.0,2.5,1.5,1.5,5.0,0.6,4.0,2.5,2.0,7.0,1.0,2.5,31.5,5.5,0.5333333333333333,1.0,5.5,2.0,2.5,2.0,3.5,2.0,1.0,1.5,6.5,1.0,1.0,1.0,3.5,2.0,2.0,5.0,1.5,4.5,2.5,1.5,10.5,6.0,1.0,2.0,8.5,0.7333333333333333,8.5,2.0,3.0,0.65,1.5,3.5,2.0,0.6166666666666667,5.5,4.5,5.5,2.0,1.5,3.0,1.5,1.0,5.0,1.0,2.0,1.0,1.0,7.5,4.5,1.0,11.0,1.0,3.5,1.0,1.5,2.0,4.5,2.0,4.0,1.5,0.6666666666666666,1.0,1.0,1.0,5.0,8.5,1.0,2.0,1.0,4.0,1.5,8.5,3.0,2.0,1.5,4.5,5.0,2.0,1.5,7.0,3.5,1.5,2.5,3.0,1.0,3.0,1.0,0.6666666666666666,1.5,1.5,1.0,3.5,1.0,3.5,2.0,8.5,10.5,1.0,2.0,5.5,2.0,2.5,1.5,1.0,12.5,0.6,7.0,14.0,1.0,1.5,1.5,1.5,2.0,2.5,1.5,3.0,2.5,5.5,17.5,3.5,2.5,4.5,8.5,1.0,6.5,2.0,8.0,5.0,17.5,1.5,8.5,2.0,1.5,4.0,1.0,4.5,4.0,2.5,2.0,1.0,3.0,3.0,1.5,0.5666666666666667,8.0,4.0,3.0,1.0,3.5,1.5,0.6333333333333333,2.5,2.5,1.5,0.7166666666666667,1.0,2.0,5.5,2.5,2.5,0.65,3.0,3.0,1.5,1.5,0.6333333333333333,1.5,13.0,0.6166666666666667,6.0,4.0,1.0,0.5666666666666667,5.0,2.0,21.0,12.0,1.5,1.0,7.5,1.0,2.0,62.0,1.5,3.0,2.5,0.5,0.6,3.5,1.0,8.0,11.0,11.5,5.0,68.5,3.5,2.5,6.5,9.0,3.5,3.5,3.0,1.0,1.0,1.5,3.0,3.5,1.0,1.0,0.6,5.0,7.5,3.5,1.0,0.6166666666666667,1.0,6.0,2.0,1.0,1.0,0.5666666666666667,1.0,3.0,1.0,5.0,2.5,1.0,6.5,2.0,2.0,1.0,2.5,2.0,1.5,2.0,1.0,1.0,2.5,1.0,11.0,12.0,17.5,11.0,7.5,3.0,13.0,3.5,12.5,2.5,0.65,2.5,2.5,1.5,5.5,1.5,2.5,1.0,0.6833333333333333,6.0,3.0,2.5,1.5,0.7,1.0,1.0,0.55,2.5,2.0,1.5,4.0,0.5666666666666667,5.0,1.5,0.7,10.0,1.0,11.5,2.5,1.0,1.0,1.0,1.5,2.0,3.5,0.5666666666666667,0.6333333333333333,0.5166666666666666,0.5333333333333333,0.5666666666666667,1.0,1.5,0.6833333333333333,0.6666666666666666,4.5,1.0,0.6666666666666666,0.6833333333333333,2.0,12.0,3.5,0.6833333333333333,3.0,13.5,5.5,1.0,2.5,1.5,0.6,1.5,1.5,10.5,3.5,1.5,14.0,1.0,3.5,2.5,1.5,2.5,6.5,1.0,1.5,4.5,6.5,1.5,9.5,2.0,1.5,12.5,12.5,2.0,9.0,3.0,1.0,0.5166666666666666,2.5,6.5,2.5,3.0,0.65,2.0,4.5,0.6666666666666666,7.0,3.0,0.7,2.5,0.7333333333333333,1.0,0.5,1.5,2.0,8.5,5.5,4.0,1.0,3.0,6.5,4.0,12.0,1.5,2.5,2.5,3.5,7.5,1.0,5.5,2.0,5.0,13.0,7.5,3.0,12.5,1.5,6.5,1.0,1.0,1.0,0.5833333333333334,1.0,3.0,3.5,4.5,10.0,1.0,1.5,1.0,0.7333333333333333,0.5666666666666667,1.0,6.5,1.5,1.0,3.5,0.5666666666666667,1.5,2.5,2.0,8.0,0.6666666666666666,4.0,1.0,0.6333333333333333,1.0,4.5,1.5,2.0,1.0,1.5,1.0,2.0,2.0,8.0,1.5,3.5,1.5,8.0,0.6166666666666667,2.0,10.5,3.0,1.5,1.5,2.0,0.6833333333333333,5.5,3.0,1.0,2.0,2.0,1.0,5.0,1.0,3.5,2.5,1.5,12.5,0.6333333333333333,1.0,1.5,4.5,4.5,0.6666666666666666,1.5,1.0,1.0,1.5,3.5,3.5,0.5666666666666667,1.0,2.5,1.0,2.5,9.5,0.6166666666666667,5.5,2.0,7.0,4.0,8.5,4.5,6.5,1.0,8.5,0.7333333333333333,2.0,2.5,2.5,0.6333333333333333,6.0,2.0,2.5,1.0,7.5,5.0,1.0,1.5,1.5,12.0,7.5,2.5,1.0,1.5,4.5,14.5,1.5,1.0,30.0,2.0,1.0,0.6166666666666667,1.0,0.6166666666666667,1.5,1.0,2.0,2.5,1.0,6.5,2.0,5.0,17.0,1.5,3.0,1.5,0.5333333333333333,4.0,0.6,2.0,0.7,1.0,1.0,0.5833333333333334,1.5,4.0,1.0,4.0,0.7333333333333333,5.5,1.5,1.5,1.5,2.5,3.5,1.5,4.0,1.0,4.0,0.5833333333333334,1.0,2.5,1.5,5.0,2.5,1.0,1.0,0.55,2.5,1.0,1.0,1.0,0.6833333333333333,2.0,4.5,0.6333333333333333,3.5,1.0,0.6166666666666667,2.5,2.5,1.0,20.0,1.5,5.0,16.5,2.0,1.0,4.0,3.5,2.5,1.0,2.5,5.5,2.5,0.7,1.0,3.5,2.5,1.5,1.5,1.0,2.0,7.0,4.5,0.5666666666666667,2.0,0.6,0.6833333333333333,2.5,1.5,1.0,0.65,5.0,4.0,2.0,5.0,3.0,7.5,5.0,2.0,0.6333333333333333,10.5,6.0,3.0,5.5,0.7166666666666667,0.5833333333333334,3.5,0.6,0.6166666666666667,1.5,3.5,2.0,1.0,0.7166666666666667,0.6666666666666666,10.0,3.5,2.5,4.0,1.0,1.0,3.0,15.0,0.5,1.0,20.5,1.5,2.0,1.0,4.5,3.0,2.5,2.0,2.0,1.0,4.5,1.5,1.5,3.0,1.0,2.0,6.5,5.0,2.0,2.0,78.5,7.5,1.0,1.0,1.0,8.0,3.5,1.5,6.0,3.0,4.5,12.0,1.0,1.5,16.0,1.0,3.0,1.0,2.5,2.0,1.0,2.0,2.0,1.0,2.0,4.0,2.0,4.5,1.0,0.5333333333333333,0.7166666666666667,1.0,1.5,1.0,2.0,0.6166666666666667,1.5,1.5,2.0,3.0,9.0,2.0,2.5,2.5,3.0,1.0,1.0,3.0,1.0,11.0,5.5,2.5,1.0,4.5,4.5,1.5,2.0,4.0,1.0,5.0,0.5,2.5,1.5,6.5,3.0,1.5,1.0,2.0,7.0,4.5,4.0,5.0,8.0,1.0,5.5,1.0,2.0,4.0,4.0,8.5,1.0,2.0,1.0,9.5,0.5166666666666666,0.5166666666666666,1.5,5.0,1.0,2.0,1.0,1.0,8.0,6.0,1.0,1.0,1.5,6.0,0.5333333333333333,6.0,9.5,2.5,2.5,2.5,2.0,0.6166666666666667,8.0,1.0,1.5,2.0,3.0,24.0,2.0,2.0,2.5,2.0,1.5,2.5,7.5,2.0,1.0,1.0,1.0,1.0,1.0,1.5,0.65,1.0,0.6333333333333333,1.0,3.0,8.0,1.5,2.0,0.5333333333333333,4.5,1.5,2.0,7.5,0.7,0.6,0.7,1.5,1.5,1.0,1.0,1.5,2.0,3.0,2.0,1.5,0.6333333333333333,1.0,1.5,2.0,2.5,1.0,1.0,3.0,0.5166666666666666,1.0,2.5,3.0,2.5,2.0,2.0,1.0,7.0,3.5,1.0,1.5,3.0,2.0,0.6333333333333333,7.5,1.5,0.7,4.0,7.0,1.5,2.0,7.5,6.0,0.6833333333333333,2.5,3.0,0.5,10.5,0.5166666666666666,2.0,3.0,2.0,3.5,1.5,5.0,2.0,2.5,3.0,0.5,2.0,1.0,2.5,1.0,2.5,2.5,0.6833333333333333,1.0,6.0,5.5,1.5,3.0,1.0,2.0,2.5,2.0,1.0,2.0,2.0,3.5,2.0,8.0,4.5,3.0,2.5,0.7333333333333333,1.5,2.0,1.0,1.5,1.0,3.0,4.5,2.0,3.5,1.0,1.5,1.0,1.0,4.5,2.5,2.0,1.0,4.0,2.0,5.5,1.0,2.5,11.5,2.0,4.0,1.5,3.0,5.0,5.0,1.5,5.5,7.5,4.0,1.5,1.5,0.5,1.0,0.6666666666666666,1.5,4.5,0.6666666666666666,1.5,6.0,1.5,1.5,2.0,1.5,1.0,2.5,1.0,2.5,4.5,4.0,2.5,0.4833333333333333,1.0,1.5,1.5,2.5,0.65,1.0,1.5,1.0,2.0,2.0,0.5666666666666667,1.5,2.0,3.5,1.5,1.0,10.0,1.5,1.0,11.5,1.5,1.0,18.5,1.5,5.0,4.5,1.0,1.5,1.5,1.0,0.6166666666666667,2.0,4.0,1.0,1.5,6.5,8.5,1.0,3.0,1.0,3.5,30.0,9.5,3.0,34.0,5.0,31.0,1.5,15.5,1.5,11.5,8.5,9.0,1.5,1.5,1.0,1.5,3.5,1.0,6.0,1.5,1.0,1.5,2.0,1.5,0.6333333333333333,4.0,1.5,5.0,1.5,1.0,2.5,1.5,1.0,2.5,2.0,1.0,2.5,2.0,1.0,14.0,1.0,1.5,1.0,4.0,28.5,1.0,2.0,1.5,2.5,0.6,1.0,1.0,0.6166666666666667,2.5,3.0,1.0,1.5,5.0,5.5,10.5,23.0,1.5,3.0,1.5,2.5,1.0,7.0,1.5,1.5,0.7333333333333333,1.0,1.0,8.0,4.0,1.0,4.5,0.6666666666666666,1.5,6.0,2.0,2.0,6.0,3.5,1.0,6.5,0.6666666666666666,5.0,5.0,12.5,1.0,4.0,3.0,3.0,3.0,1.0,1.0,4.0,5.0,2.5,0.5833333333333334,3.0,0.5,1.0,0.5833333333333334,3.5,1.0,1.5,0.7333333333333333,1.5,2.0,1.5,1.0,3.0,3.0,1.5,6.5,1.0,7.0,3.5,2.0,3.0,3.0,2.5,8.0,2.5,2.0,4.0,5.5,3.0,2.0,3.0,1.0,1.0,2.0,1.5,1.0,4.0,1.5,1.5,0.7333333333333333,1.0,3.5,2.0,0.6,2.0,1.5,1.5,3.0,2.5,4.5,1.5,3.5,1.5,2.5,1.0,2.5,2.5,3.5,2.0,3.0,1.0,1.5,3.5,2.0,3.0,0.55,1.5,1.5,2.0,4.0,1.5,1.0,1.0,3.0,2.0,6.0,5.0,4.0,0.5333333333333333,4.5,9.5,0.5333333333333333,1.0,1.0,3.5,3.0,1.5,6.0,1.5,2.0,4.0,1.0,38.0,9.0,2.0,1.5,1.5,1.5,0.6166666666666667,3.0,2.0,2.0,1.0,2.0,6.0,0.55,1.5,2.5,7.0,10.5,1.5,1.5,3.5,1.5,2.5,4.0,8.5,3.5,5.0,3.5,8.0,7.0,4.5,0.7166666666666667,1.5,3.0,2.5,2.5,1.0,3.5,3.0,3.0,3.5,6.0,4.0,3.0,2.0,7.0,3.0,0.7333333333333333,2.0,2.0,0.6166666666666667,1.0,1.5,1.0,1.5,1.0,1.0,2.0,1.5,6.5,2.5,2.0,1.5,0.6666666666666666,4.5,5.0,2.0,1.5,3.0,1.0,1.0,2.5,7.5,7.0,1.0,2.5,0.6166666666666667,1.0,3.0,2.0,1.5,4.0,3.0,1.5,3.5,3.0,5.5,3.0,1.5,2.5,1.0,4.5,1.5,2.0,2.0,1.0,2.0,1.0,1.5,6.5,3.0,3.5,1.5,4.0,5.0,2.5,1.5,1.0,1.0,5.5,3.5,1.5,2.5,4.5,5.5,4.0,1.5,3.0,8.0,1.0,1.5,5.5,5.5,1.5,6.0,4.0,1.0,5.5,1.5,2.0,0.7166666666666667,0.6666666666666666,2.0,3.0,2.5,7.0,1.5,0.6333333333333333,2.0,7.5,1.5,2.0,1.5,1.0,1.5,3.5,7.5,4.5,7.5,2.5,3.0,1.5,4.0,1.0,1.5,5.5,1.5,2.0,0.5833333333333334,3.5,0.7166666666666667,2.0,1.0,3.5,1.5,1.0,1.5,1.0,3.0,1.0,1.5,3.5,2.5,4.0,3.0,2.0,2.5,1.0,1.0,1.0,4.0,2.0,1.0,0.6333333333333333,2.0,1.0,2.0,1.0,1.0,1.5,2.5,0.5333333333333333,1.5,2.5,1.0,1.0,1.5,1.0,0.5333333333333333,2.0,1.5,4.0,1.0,0.55,2.5,3.0,0.55,1.5,1.0,2.0,2.0,7.0,1.0,3.5,0.6,3.0,1.0,5.5,1.5,0.5666666666666667,2.5,1.5,1.0,0.5,0.5,0.65,2.0,0.5333333333333333,0.5333333333333333,0.6333333333333333,2.5,0.55,0.5833333333333334,0.5166666666666666,0.5166666666666666,1.0,1.5,0.7333333333333333,10.5,1.0,1.0,1.5,4.0,1.0,1.5,4.5,0.6166666666666667,1.5,1.0,1.0,1.5,1.5,2.0,4.5,5.0,4.0,1.0,1.5,2.5,1.5,0.65,2.5,1.5,2.5,4.0,4.5,3.5,0.5333333333333333,0.6166666666666667,3.0,2.5,1.5,0.7333333333333333,1.5,1.5,2.0,0.7,2.0,2.0,1.0,1.5,4.5,3.0,1.0,2.5,1.0,2.0,1.0,6.0,0.5666666666666667,4.5,6.0,2.0,3.0,2.0,1.0,4.0,3.5,3.0,3.5,0.7,3.0,1.0,3.0,1.0,3.0,3.0,4.0,12.5,4.5,15.5,5.5,4.0,5.5,5.0,19.5,5.5,7.0,6.0,1.5,4.0,3.5,12.0,3.0,1.5,3.0,4.0,5.0,6.0,32.5,1.0,9.5,9.0,7.5,18.5,5.0,19.0,15.0,20.5,3.0,13.5,3.5,37.5,3.5,4.0,1.0,14.5,2.0,2.5,1.5,3.0,1.5,1.0,4.0,1.0,7.0,5.5,3.5,1.5,17.5,1.0,2.5,1.0,10.0,1.0,8.5,2.5,6.5,3.5,8.0,10.5,2.5,1.0,1.5,2.5,10.5,2.0,3.0,1.5,8.0,12.0,25.0,11.0,4.5,4.5,8.5,9.0,20.0,1.5,7.0,5.0,19.5,7.5,25.5,12.0,20.5,3.0,7.5,45.0,11.0,33.0,16.0,1.0,2.0,1.5,3.0,11.0,1.0,3.5,2.5,12.5,4.0,3.5,11.5,2.0,1.5,1.0,3.0,3.0,1.0,1.5,4.0,2.0,2.0,15.0,4.0,1.5,2.5,3.5,2.0,2.5,2.0,3.5,4.5,1.0,4.5,1.0,1.0,3.0,19.5,6.5,60.0,11.5,5.5,10.0,7.0,16.5,2.0,1.5,22.5,13.5,2.0,7.0,4.0,5.5,3.5,2.0,1.0,1.5,2.0,3.0,1.0,10.0,23.0,18.0,6.5,18.5,20.5,6.5,6.0,14.5,13.0,8.5,8.5,5.0,1.0,4.5,17.5,1.5,3.0,6.0,10.0,0.55,3.5,2.5,1.5,1.5,2.0,2.0,3.0,7.5,1.5,5.5,3.5,1.0,2.0,1.5,6.5,3.0,2.0,2.5,4.5,4.5,2.5,6.0,1.5,3.0,14.0,2.0,5.0,1.0,1.0,3.5,1.0,1.0,2.5,16.5,5.0,4.0,2.0,6.5,1.0,29.5,3.0,21.5,31.5,15.5,4.0,12.0,27.5,5.5,9.0,5.0,20.5,14.5,44.5,9.0,14.0,15.5,5.5,22.5,9.0,12.0,12.5,3.5,16.0,2.5,4.5,13.0,3.0,2.5,4.0,0.6,1.0,1.0,2.0,1.0,6.0,1.0,4.0,1.0,19.0,1.5,3.5,18.0,11.5,24.5,4.0,2.0,7.5,1.5,7.0,2.5,2.5,2.0,1.0,25.0,1.0,15.5,6.0,6.0,5.0,4.5,2.5,2.5,3.0,8.5,5.0,5.0,5.0,1.0,0.6666666666666666,11.0,4.0,1.5,1.0,1.5,1.0,2.5,4.0,6.0,4.5,4.5,4.0,7.0,18.5,1.5,1.5,6.5,0.6666666666666666,1.0,3.0,2.5,1.5,3.5,1.5,3.5,1.5,1.0,4.0,4.5,13.0,11.0,8.5,9.0,4.5,3.5,3.0,1.5,2.0,9.0,14.5,3.0,5.5,51.0,2.0,32.5,10.5,12.0,9.5,3.0,13.0,4.0,1.0,1.5,2.0,12.5,1.5,9.5,2.0,4.5,1.5,2.5,1.0,1.0,10.5,1.5,2.5,3.5,3.0,4.5,1.0,2.0,11.0,3.0,13.5,8.0,2.0,3.0,1.5,2.5,6.5,1.5,0.7166666666666667,1.0,2.5,4.0,3.5,7.5,1.0,4.0,3.5,2.0,0.7,3.0,3.0,3.5,13.5,2.5,1.0,0.6166666666666667,3.0,0.5333333333333333,4.0,2.0,1.0,9.0,2.0,1.0,3.0,1.5,1.5,1.0,1.5,2.0,2.5,1.0,2.0,13.0,1.5,2.0,4.0,8.0,6.0,2.0,2.0,3.5,0.5333333333333333,2.0,9.0,10.5,3.5,2.0,4.0,4.0,1.5,1.5,1.0,12.5,1.0,1.0,1.0,1.5,1.5,2.0,1.0,2.5,12.5,2.0,1.5,1.0,1.0,1.0,3.5,3.5,2.5,6.0,3.5,6.5,4.0,1.0,6.0,2.0,1.5,3.0,4.0,0.5666666666666667,19.0,0.5666666666666667,2.0,17.0,7.5,3.0,4.0,1.5,3.5,1.5,3.0,2.0,2.0,3.0,1.5,9.0,2.5,9.0,4.0,11.0,8.0,7.0,0.6833333333333333,3.5,3.5,1.5,1.5,17.5,3.0,2.0,0.5333333333333333,6.5,7.0,1.0,5.5,1.0,2.0,1.5,0.7,0.7,0.6166666666666667,1.0,1.0,7.0,6.0,5.5,1.0,1.5,3.0,8.0,1.0,1.0,0.55,44.5,16.5,5.0,3.0,0.7333333333333333,3.0,3.0,2.0,1.5,4.0,2.0,0.5833333333333334,5.0,2.0,2.0,1.5,3.0,2.5,14.0,9.0,3.5,2.0,57.0,7.5,4.0,5.0,1.0,1.5,1.5,4.0,2.5,3.0,8.0,9.5,8.0,3.0,1.5,2.0,14.0,2.0,2.5,1.0,2.5,6.5,6.0,3.0,3.0,2.0,3.5,1.0,3.5,13.0,4.5,13.0,5.0,3.5,1.0,3.5,9.5,0.5333333333333333,1.5,4.0,0.55,0.6333333333333333,3.5,5.5,4.5,9.0,11.0,10.5,0.5333333333333333,2.5,0.6333333333333333,2.5,1.5,3.5,2.0,8.0,4.5,7.0,1.5,1.5,13.5,4.0,2.0,4.0,3.0,1.5,12.0,2.5,1.5,3.5,5.0,0.65,8.0,2.0,0.65,2.0,6.0,5.5,4.5,4.5,2.5,15.5,5.5,1.5,2.0,1.0,18.5,7.5,7.0,1.5,16.5,3.0,5.0,0.6666666666666666,4.0,1.0,1.5,1.5,3.5,6.5,1.0,7.0,2.0,3.0,0.6666666666666666,6.0,2.5,1.0,0.6,2.0,2.5,10.0,1.0,1.0,14.5,7.5,10.5,3.5,2.0,1.5,5.5,7.5,7.0,2.0,2.5,2.5,0.6666666666666666,3.0,0.5666666666666667,4.5,2.0,4.0,5.5,5.0,16.0,9.0,3.5,76.5,9.0,11.5,1.5,11.5,19.5,9.0,11.0,5.0,1.5,3.5,1.0,2.0,2.0,2.0,11.0,1.5,13.0,7.0,14.5,2.0,2.5,10.5,3.5,1.0,5.0,1.0,2.0,1.5,7.0,2.5,1.5,0.6166666666666667,3.0,20.0,16.5,12.5,4.5,4.0,8.5,5.5,6.0,3.0,10.0,4.0,4.0,5.0,15.5,3.5,1.5,9.0,4.5,5.0,2.0,3.0,0.6333333333333333,20.0,6.0,8.0,31.5,14.5,10.5,12.5,22.0,8.0,30.5,17.0,31.5,3.0,5.0,3.5,2.0,3.5,4.5,2.5,6.5,5.5,6.5,4.5,2.0,1.0,13.5,8.0,18.0,8.0,17.5,8.5,9.5,9.0,43.0,10.0,30.5,32.5,1.0,0.6833333333333333,5.0,3.5,4.5,3.5,5.5,18.5,3.5,1.5,1.0,42.0,7.0,11.5,5.5,12.0,6.5,13.0,7.0,12.0,26.5,6.0,7.5,13.0,0.7333333333333333,1.0,1.0,7.5,1.0,0.6166666666666667,3.5,9.5,2.0,7.5,3.5,0.6333333333333333,5.0,3.0,3.0,1.5,0.5666666666666667,2.0,0.6166666666666667,6.5,5.5,0.5833333333333334,1.0,4.5,7.5,5.5,14.0,0.5833333333333334,1.5,5.5,1.5,6.5,3.0,2.0,1.0,2.0,10.5,1.0,2.0,2.0,6.5,1.0,1.5,1.0,1.0,3.0,2.5,3.0,4.0,2.0,4.0,1.0,1.5,7.5,16.0,2.0,4.5,3.5,2.5,1.0,3.0,1.0,1.0,1.5,2.0,5.5,0.7,6.0,26.0,6.0,3.0,4.0,2.0,1.0,4.0,3.5,3.0,2.0,21.0,2.5,5.5,0.55,0.5,2.0,1.0,6.0,5.0,2.0,3.5,2.0,3.0,1.0,5.0,18.5,7.0,1.5,1.0,1.0,2.0,8.0,5.0,1.5,0.6333333333333333,1.5,5.0,4.0,2.5,3.0,4.5,1.5,3.0,1.0,1.5,22.0,3.0,4.5,1.0,1.5,1.0,6.5,2.0,17.5,1.0,2.0,4.0,13.0,3.5,8.5,1.0,2.0,3.5,5.5,1.5,3.5,26.0,1.0,4.5,2.5,1.5,3.0,1.5,7.0,2.5,7.0,8.5,7.5,1.0,13.5,1.5,3.5,3.0,4.0,12.5,2.0,7.5,3.5,2.5,1.5,2.0,0.6166666666666667,4.5,8.5,1.0,2.0,0.6333333333333333,1.0,6.0,2.0,1.0,2.0,2.0,6.5,3.0,1.5,4.5,5.5,5.5,3.0,3.0,5.5,1.5,14.0,0.5666666666666667,4.0,2.5,1.0,4.0,1.0,2.0,0.5666666666666667,0.5666666666666667,1.5,5.0,2.5,2.0,6.5,1.0,4.5,48.5,2.5,6.0,1.5,2.0,1.5,1.5,1.5,1.0,0.5,7.5,2.0,1.5,3.0,8.0,25.5,0.5833333333333334,1.5,2.5,6.0,3.0,2.0,0.5166666666666666,5.5,1.5,1.0,1.0,1.0,1.0,4.0,4.0,2.0,1.5,2.5,1.5,1.0,15.0,1.5,6.0,5.0,3.0,1.5,5.5,0.5666666666666667,2.5,22.5,0.7166666666666667,0.65,1.0,5.0,0.5166666666666666,2.0,7.0,1.0,10.0,5.0,1.0,20.5,3.0,8.0,1.0,3.0,3.5,3.5,2.5,16.0,2.5,3.5,0.6166666666666667,4.0,1.0,5.0,0.7333333333333333,3.5,0.5666666666666667,4.5,3.0,7.0,0.6833333333333333,2.0,6.5,1.5,5.0,5.5,3.0,1.0,2.5,22.5,0.65,1.5,2.0,1.5,3.5,25.5,2.5,7.0,0.6,3.0,2.0,2.5,2.0,0.5833333333333334,1.5,5.0,2.0,4.0,9.5,3.0,3.5,1.5,1.5,2.5,2.0,16.5,3.0,3.5,2.5,3.0,1.5,2.0,12.5,1.0,8.0,3.5,0.7,6.5,1.0,1.5,2.0,1.5,2.0,3.5,7.5,4.0,6.5,11.0,23.5,7.0,1.5,2.5,1.5,2.0,2.0,2.0,3.5,6.5,2.0,2.5,6.5,0.5166666666666666,5.0,2.0,2.5,6.5,3.5,66.5,3.0,1.0,1.0,1.0,11.5,8.5,12.5,2.0,5.0,10.0,4.5,2.0,6.5,0.6333333333333333,0.6333333333333333,1.5,1.0,1.0,1.0,1.0,5.0,1.0,0.5333333333333333,19.5,1.0,6.5,2.5,1.5,0.55,5.0,6.5,1.5,3.0,2.5,0.6,9.5,2.0,0.5166666666666666,14.0,4.5,10.0,1.5,5.5,0.6166666666666667,1.0,2.5,15.5,2.0,1.5,3.5,3.5,8.5,1.0,2.0,0.6166666666666667,0.5,0.5833333333333334,2.5,1.0,1.5,15.5,2.0,3.5,3.5,3.0,2.0]}],\"hovertemplate\":\"%{xaxis.title.text}=%{x}<br>%{yaxis.title.text}=%{y}<br>price=%{marker.color}<extra></extra>\",\"legendgroup\":\"\",\"marker\":{\"color\":[200,75,45,95,200,150,65,95,195,200,200,200,30,195,200,75,20,200,50,95,200,200,75,50,45,150,200,175,150,140,95,200,45,200,200,195,195,200,195,195,195,195,195,115,200,150,95,200,190,150,200,95,125,30,200,60,200,145,20,200,105,60,155,200,185,150,180,125,200,185,125,95,200,20,60,200,200,120,150,25,200,160,20,95,50,200,20,200,195,200,20,20,95,150,40,0,20,100,75,20,40,20,25,0,50,200,0,195,0,20,150,95,0,20,150,20,25,150,50,0,50,180,50,100,25,200,20,90,0,20,35,50,100,50,20,200,200,60,150,20,105,20,150,0,100,60,200,200,20,30,95,95,60,20,20,200,125,200,200,35,200,200,120,195,125,200,25,200,20,195,20,50,200,120,200,200,45,50,80,0,200,20,50,200,120,145,195,200,45,20,200,75,20,0,20,20,150,20,200,45,60,20,20,50,50,50,0,50,60,0,60,40,45,0,200,95,20,50,200,95,40,20,20,200,20,20,60,75,20,20,20,200,20,20,20,30,95,50,65,95,50,95,50,105,120,40,35,20,0,0,50,20,200,0,125,35,20,75,50,30,50,100,150,20,200,95,200,95,30,25,125,35,30,50,200,35,25,50,20,20,20,20,125,0,20,20,60,60,0,50,0,0,60,60,115,25,120,0,150,0,50,0,35,20,200,20,20,80,70,50,20,75,90,40,30,200,20,75,25,20,20,50,20,20,25,20,50,200,200,60,180,50,200,30,50,40,50,20,150,95,0,20,200,20,60,195,0,0,0,45,100,20,20,200,0,0,180,75,25,50,0,95,40,100,145,30,50,20,20,20,95,90,20,75,0,50,20,145,100,60,45,200,200,150,200,25,20,25,125,50,20,20,200,150,200,20,160,200,30,20,40,50,200,200,100,50,20,50,200,50,30,20,20,25,45,200,50,40,25,20,60,20,20,20,20,0,20,40,30,30,35,20,0,0,30,200,50,190,95,35,30,195,60,195,200,0,20,20,20,50,50,80,25,20,20,20,50,50,20,50,95,100,40,40,50,55,0,20,95,200,55,50,25,20,20,50,95,40,55,50,50,20,20,0,125,50,50,120,200,20,0,0,95,0,20,165,200,25,195,200,20,0,20,40,95,195,95,20,35,195,200,105,20,30,20,20,20,30,20,20,40,105,20,100,20,200,95,180,100,150,50,200,60,20,25,95,20,200,50,50,20,20,50,0,50,75,50,50,75,20,195,50,55,20,50,100,40,40,30,50,190,195,50,40,100,20,20,200,60,0,95,0,20,50,25,95,50,50,50,20,20,20,55,20,20,20,200,20,0,50,40,20,20,20,200,100,20,25,80,20,95,70,20,25,40,20,20,45,20,20,25,20,20,50,20,200,20,20,150,20,195,20,0,200,0,50,95,50,0,200,60,50,30,200,20,25,20,200,145,30,45,40,20,20,145,30,50,200,95,45,45,95,95,200,180,50,100,40,50,20,50,50,20,20,0,40,30,60,200,0,130,35,95,20,90,50,35,20,145,40,150,20,20,20,20,20,35,180,50,40,0,20,125,20,0,50,75,95,50,95,80,195,25,200,50,20,95,40,50,20,50,25,25,30,200,50,20,20,40,0,50,30,50,50,0,50,0,30,35,25,20,60,50,20,20,40,20,45,100,50,90,0,100,20,20,50,0,40,20,200,40,30,195,95,0,0,20,50,20,20,50,50,200,0,50,40,20,20,0,20,20,95,40,50,85,0,20,25,50,20,35,20,100,50,75,60,200,145,60,20,50,200,200,60,20,20,140,120,200,50,170,50,200,150,150,60,20,50,20,200,20,20,100,45,50,0,50,50,0,50,25,150,0,0,25,50,0,0,50,0,20,0,25,20,50,25,0,125,200,120,20,50,195,20,60,20,50,20,50,95,150,20,20,50,20,50,50,40,30,50,0,35,0,20,20,30,150,75,50,100,20,0,90,20,0,25,20,50,60,20,90,20,20,50,200,100,160,20,20,25,50,60,60,150,20,20,25,200,30,50,20,200,0,20,20,0,20,75,30,20,20,20,145,200,30,20,30,25,45,35,20,20,20,20,20,95,20,35,30,35,50,60,30,20,20,20,20,50,0,25,20,180,95,20,20,20,200,0,30,20,50,50,50,20,50,20,95,100,20,20,20,0,45,200,40,30,50,20,20,40,20,50,50,0,20,50,50,20,35,20,95,20,35,40,110,20,20,95,135,50,30,70,200,20,40,195,50,50,115,20,20,50,0,25,50,150,20,20,200,35,40,50,20,20,45,25,20,50,50,35,30,170,20,20,30,30,20,35,195,150,0,20,0,85,75,45,25,20,80,200,150,20,85,20,45,25,30,200,115,30,45,130,140,30,20,140,20,85,20,20,25,40,20,100,175,40,20,25,20,195,200,20,50,50,35,25,20,30,30,55,200,20,30,125,25,35,0,20,20,85,25,0,70,100,50,75,0,0,0,0,0,0,25,20,195,45,65,20,95,30,0,40,50,40,200,195,200,50,20,25,195,200,200,0,100,20,200,115,200,200,50,150,20,50,20,50,35,40,20,20,35,180,50,40,50,95,40,40,50,20,200,20,20,25,20,200,20,50,65,50,50,195,20,0,20,30,50,20,20,40,100,85,90,25,55,40,0,35,20,25,180,20,50,20,20,25,50,20,150,95,150,20,200,200,180,65,25,20,200,195,0,0,0,200,150,200,200,95,75,30,200,150,95,200,150,195,20,30,20,50,20,25,20,50,150,30,25,20,30,25,20,20,20,20,20,0,0,0,0,185,20,100,50,30,200,25,20,20,20,200,200,20,150,150,200,45,45,30,80,0,60,0,0,190,20,95,200,75,45,120,20,95,25,0,30,40,0,0,50,0,20,100,40,0,105,30,25,40,95,95,95,0,40,20,20,20,70,50,30,20,200,65,200,20,40,0,75,50,0,50,20,30,70,20,20,20,80,200,125,50,20,20,20,50,45,20,40,20,20,45,0,100,20,60,25,150,70,30,20,30,100,135,80,60,30,30,20,0,200,20,80,195,0,20,200,20,50,25,35,95,0,30,0,0,200,145,95,40,20,100,165,30,30,100,100,0,25,120,135,35,20,20,70,0,145,25,195,0,0,20,50,30,30,30,135,75,140,20,20,95,20,0,0,25,95,50,70,20,90,45,100,50,95,30,85,20,75,195,20,45,20,20,55,20,115,20,20,20,50,150,25,45,20,35,20,185,20,20,30,20,20,95,20,25,200,100,30,55,20,200,95,0,95,20,0,25,20,20,20,40,20,20,20,20,40,20,35,20,20,20,20,20,65,195,30,65,200,50,90,195,95,100,50,20,155,20,45,90,45,20,75,40,20,40,40,30,30,150,20,100,20,150,20,20,20,50,20,20,50,20,85,20,30,20,40,200,200,200,200,180,195,20,25,20,50,20,25,20,20,20,20,20,100,20,95,35,200,25,25,50,55,30,20,20,70,20,20,40,20,20,20,30,80,50,25,20,45,30,20,30,20,20,25,180,20,75,95,195,175,100,35,125,90,195,20,135,20,100,20,20,20,30,60,20,20,20,40,50,20,25,200,25,35,20,30,20,50,20,20,50,30,50,20,20,20,50,100,50,45,20,25,20,20,20,20,35,150,20,40,20,100,20,125,20,100,35,50,150,50,20,35,195,55,20,50,30,30,25,35,95,40,40,20,50,20,30,200,195,200,100,50,200,20,20,35,165,20,100,20,20,50,105,200,35,100,120,20,0,95,65,20,30,20,20,50,20,45,20,35,20,40,20,30,25,55,100,25,20,50,20,20,20,50,40,95,80,20,200,100,150,195,105,25,195,20,50,20,30,20,95,20,40,50,50,20,35,50,20,30,85,25,20,35,0,30,20,35,20,20,120,20,20,25,65,20,20,45,100,20,20,40,40,20,20,20,20,25,50,25,20,200,35,20,20,85,40,25,195,35,0,20,195,200,75,40,20,20,20,195,25,25,20,35,20,20,30,20,25,20,20,20,40,20,20,30,20,20,20,20,20,0,20,150,30,0,0,50,80,50,25,40,20,70,30,0,20,40,0,35,20,30,45,40,95,50,20,55,50,20,20,40,35,45,20,50,30,20,100,50,50,95,50,50,50,95,80,100,20,0,50,120,80,40,50,50,100,50,100,75,50,20,55,40,40,75,0,40,45,40,30,50,60,40,70,0,40,200,115,50,55,50,45,35,50,20,0,40,40,40,100,20,65,60,40,40,0,50,20,0,40,0,40,70,0,120,30,175,75,20,35,50,120,70,50,0,200,85,150,20,35,0,50,20,45,95,0,50,20,200,50,50,0,0,40,70,200,85,0,25,20,20,40,40,95,45,100,50,50,20,35,0,50,0,70,120,50,45,50,30,30,40,0,60,50,50,150,65,50,25,0,0,40,20,20,50,200,25,55,0,50,0,200,200,50,145,50,200,50,200,50,200,200,150,45,45,200,75,50,35,200,50,50,100,50,50,60,0,40,60,55,45,40,50,70,95,0,40,95,95,45,145,50,20,75,200,200,50,20,50,50,25,50,40,75,30,95,75,25,100,60,115,95,50,100,55,20,45,200,75,50,65,65,30,20,20,0,25,20,40,50,35,30,50,20,0,20,20,85,30,125,70,75,50,0,150,45,20,45,45,40,40,75,25,40,20,0,20,20,0,60,30,40,75,30,95,20,50,50,50,25,35,20,60,195,50,50,40,65,20,50,30,95,35,50,30,20,50,95,35,75,50,25,100,55,25,20,30,0,20,20,25,20,50,50,50,35,50,50,20,20,50,20,70,50,20,50,35,20,20,50,195,95,20,40,65,45,50,20,40,20,75,20,20,20,50,100,80,40,50,20,30,40,20,50,50,50,25,50,20,0,35,90,20,0,20,25,0,40,75,35,85,55,40,45,20,25,70,50,30,50,20,50,50,50,20,100,100,50,85,200,50,20,50,50,55,35,65,195,50,95,20,40,35,0,20,40,40,20,20,40,35,35,50,20,40,50,100,95,50,20,20,20,40,25,25,50,50,40,50,35,50,25,30,50,50,50,30,20,50,50,50,40,20,20,100,40,20,25,20,25,20,20,50,95,50,20,105,50,20,40,20,50,50,20,35,20,30,60,20,50,25,50,20,35,50,115,35,50,50,20,50,20,20,20,80,45,50,25,50,60,40,35,195,40,45,50,40,20,40,50,45,50,175,45,50,40,55,20,40,40,20,20,35,40,50,20,20,35,20,40,30,50,20,35,40,20,40,180,35,80,40,40,0,50,35,20,20,50,20,20,20,75,50,95,20,60,20,20,60,40,20,25,50,40,50,40,30,95,40,35,30,20,50,30,50,20,40,20,40,30,95,20,20,20,20,20,135,135,25,25,130,20,125,20,20,20,35,20,40,20,40,85,0,20,35,25,50,45,40,20,20,0,0,0,0,20,170,85,100,50,60,50,40,20,95,20,0,200,25,30,20,20,95,40,40,20,40,50,195,30,35,40,20,25,25,20,0,45,20,40,40,50,30,180,20,200,20,50,20,50,50,50,50,55,50,20,50,20,50,20,75,50,50,60,20,40,50,150,200,40,195,25,200,20,95,40,20,20,40,50,100,40,200,200,190,120,110,165,60,65,200,150,85,60,200,195,195,100,20,195,60,95,150,100,20,20,120,20,175,60,70,20,50,100,100,100,75,80,75,195,150,125,145,50,100,20,115,75,20,50,200,135,95,200,150,195,200,80,150,120,195,65,20,20,200,25,200,50,200,80,150,195,100,60,50,0,0,0,0,100,0,20,30,20,40,50,75,20,65,20,0,200,195,0,20,50,20,40,40,0,20,50,50,120,195,95,50,0,50,50,0,200,200,150,200,100,50,60,95,30,30,150,200,20,50,200,195,195,195,95,55,195,200,100,20,35,60,200,20,195,195,195,195,40,195,175,40,95,115,50,0,0,200,20,200,0,20,195,0,85,200,20,150,195,95,150,95,95,50,75,195,20,95,50,30,195,20,100,200,100,35,20,150,25,75,40,20,95,140,50,0,70,100,30,25,150,115,190,85,200,195,100,120,50,200,100,200,200,200,195,195,50,40,200,30,50,150,100,100,0,0,50,60,0,30,45,0,25,0,0,20,200,100,50,40,20,50,20,30,200,200,40,35,20,30,45,25,20,200,200,100,50,200,195,195,30,200,200,20,200,35,100,75,20,30,60,20,40,40,100,100,20,20,45,195,180,200,50,200,20,0,25,50,0,0,20,20,120,20,20,20,25,35,150,200,20,50,20,95,20,100,20,50,100,100,60,165,195,195,65,100,50,50,35,195,195,35,200,40,145,20,50,70,50,100,200,75,20,0,25,0,0,60,20,115,0,125,0,195,50,95,80,20,75,100,195,20,50,30,200,70,95,0,40,25,200,35,0,20,50,100,40,20,20,50,0,60,65,25,125,35,40,95,95,35,20,45,65,20,25,50,50,20,20,115,50,40,20,20,30,95,20,30,50,20,195,20,20,95,120,50,100,200,195,150,75,200,200,115,20,125,150,40,20,65,40,75,170,20,125,45,200,195,0,200,0,20,20,50,0,100,35,35,195,20,50,95,40,25,20,75,20,50,200,200,80,125,20,20,60,30,20,20,55,200,195,75,35,50,20,0,60,120,25,75,40,0,45,0,20,0,30,100,175,95,40,20,20,50,185,20,50,45,200,200,100,20,0,100,40,40,20,50,65,35,95,25,95,20,20,75,110,30,145,95,200,50,50,100,20,25,50,195,50,20,20,100,200,70,20,20,200,200,145,100,20,195,200,150,100,140,40,20,0,150,200,50,20,40,20,95,50,0,0,95,45,40,50,200,40,100,200,50,35,200,45,100,75,95,75,195,95,75,20,40,95,20,80,20,100,150,120,200,75,195,170,150,20,75,20,90,50,110,50,75,50,145,100,20,20,20,85,50,115,200,45,55,30,55,20,20,50,25,145,40,0,20,0,0,20,100,0,0,20,75,140,40,95,200,95,150,100,105,20,200,95,150,95,20,50,200,20,75,20,75,40,20,20,35,110,100,195,200,150,195,70,75,150,60,50,195,20,100,20,25,80,100,200,90,175,50,120,95,195,25,50,30,40,35,40,20,50,35,0,0,20,195,60,195,195,40,200,90,75,195,195,30,195,30,50,100,40,30,120,50,50,20,85,50,110,145,200,50,190,110,190,145,200,100,195,30,55,50,35,95,50,45,30,45,150,0,50,40,150,50,190,160,195,150,150,140,200,75,200,200,0,0,195,125,0,100,145,145,0,0,35,200,175,175,75,195,80,195,110,140,180,120,190,150,0,0,20,195,20,30,35,175,95,50,50,40,0,20,30,120,0,85,20,200,60,40,35,145,200,200,120,20,0,35,20,0,0,0,75,0,100,0,60,0,30,35,60,45,65,55,0,0,20,0,55,30,0,30,20,0,0,0,50,0,200,0,0,0,0,95,0,0,195,95,0,125,0,0,175,85,75,20,0,0,165,35,80,50,0,100,80,0,20,20,145,100,85,195,30,25,200,50,0,200,0,20,25,0,50,0,55,0,200,30,95,20,20,200,30,25,35,0,30,120,0,60,0,20,200,60,100,0,0,0,0,75,20,100,195,45,75,35,95,100,25,195,95,50,20,195,200,50,90,90,120,200,195,120,50,55,85,55,195,20,40,50,0,85,20,25,40,20,45,95,0,0,0,25,125,50,80,45,25,0,200,50,45,0,150,0,45,50,200,200,40,0,65,45,35,195,95,20,200,20,40,50,200,40,60,0,0,0,30,0,200,145,50,200,40,0,20,95,50,50,20,40,50,20,35,20,35,25,195,100,200,200,25,100,50,150,100,195,20,75,95,30,75,40,35,40,65,0,0,0,100,0,50,30,20,0,20,200,95,85,20,55,25,50,50,85,0,120,20,40,0,125,50,75,50,200,0,100,40,120,50,0,50,20,20,200,20,0,20,0,125,95,105,100,20,50,20,40,25,0,95,195,20,200,30,150,60,200,20,195,50,200,20,40,50,50,95,95,100,50,35,95,35,60,65,200,20,200,20,20,20,20,20,200,200,50,20,20,30,25,50,20,85,20,75,20,40,50,20,50,20,85,65,50,0,0,20,55,40,50,145,95,200,40,95,100,95,50,30,120,20,20,45,20,25,0,30,150,40,90,0,20,20,30,200,0,75,95,50,185,20,40,25,0,200,125,200,35,45,20,20,25,20,100,30,150,45,0,40,30,0,50,20,20,150,100,25,40,50,45],\"coloraxis\":\"coloraxis\",\"symbol\":\"circle\"},\"name\":\"\",\"showlegend\":false,\"type\":\"splom\"}],                        {\"template\":{\"data\":{\"bar\":[{\"error_x\":{\"color\":\"#2a3f5f\"},\"error_y\":{\"color\":\"#2a3f5f\"},\"marker\":{\"line\":{\"color\":\"#E5ECF6\",\"width\":0.5},\"pattern\":{\"fillmode\":\"overlay\",\"size\":10,\"solidity\":0.2}},\"type\":\"bar\"}],\"barpolar\":[{\"marker\":{\"line\":{\"color\":\"#E5ECF6\",\"width\":0.5},\"pattern\":{\"fillmode\":\"overlay\",\"size\":10,\"solidity\":0.2}},\"type\":\"barpolar\"}],\"carpet\":[{\"aaxis\":{\"endlinecolor\":\"#2a3f5f\",\"gridcolor\":\"white\",\"linecolor\":\"white\",\"minorgridcolor\":\"white\",\"startlinecolor\":\"#2a3f5f\"},\"baxis\":{\"endlinecolor\":\"#2a3f5f\",\"gridcolor\":\"white\",\"linecolor\":\"white\",\"minorgridcolor\":\"white\",\"startlinecolor\":\"#2a3f5f\"},\"type\":\"carpet\"}],\"choropleth\":[{\"colorbar\":{\"outlinewidth\":0,\"ticks\":\"\"},\"type\":\"choropleth\"}],\"contour\":[{\"colorbar\":{\"outlinewidth\":0,\"ticks\":\"\"},\"colorscale\":[[0.0,\"#0d0887\"],[0.1111111111111111,\"#46039f\"],[0.2222222222222222,\"#7201a8\"],[0.3333333333333333,\"#9c179e\"],[0.4444444444444444,\"#bd3786\"],[0.5555555555555556,\"#d8576b\"],[0.6666666666666666,\"#ed7953\"],[0.7777777777777778,\"#fb9f3a\"],[0.8888888888888888,\"#fdca26\"],[1.0,\"#f0f921\"]],\"type\":\"contour\"}],\"contourcarpet\":[{\"colorbar\":{\"outlinewidth\":0,\"ticks\":\"\"},\"type\":\"contourcarpet\"}],\"heatmap\":[{\"colorbar\":{\"outlinewidth\":0,\"ticks\":\"\"},\"colorscale\":[[0.0,\"#0d0887\"],[0.1111111111111111,\"#46039f\"],[0.2222222222222222,\"#7201a8\"],[0.3333333333333333,\"#9c179e\"],[0.4444444444444444,\"#bd3786\"],[0.5555555555555556,\"#d8576b\"],[0.6666666666666666,\"#ed7953\"],[0.7777777777777778,\"#fb9f3a\"],[0.8888888888888888,\"#fdca26\"],[1.0,\"#f0f921\"]],\"type\":\"heatmap\"}],\"heatmapgl\":[{\"colorbar\":{\"outlinewidth\":0,\"ticks\":\"\"},\"colorscale\":[[0.0,\"#0d0887\"],[0.1111111111111111,\"#46039f\"],[0.2222222222222222,\"#7201a8\"],[0.3333333333333333,\"#9c179e\"],[0.4444444444444444,\"#bd3786\"],[0.5555555555555556,\"#d8576b\"],[0.6666666666666666,\"#ed7953\"],[0.7777777777777778,\"#fb9f3a\"],[0.8888888888888888,\"#fdca26\"],[1.0,\"#f0f921\"]],\"type\":\"heatmapgl\"}],\"histogram\":[{\"marker\":{\"pattern\":{\"fillmode\":\"overlay\",\"size\":10,\"solidity\":0.2}},\"type\":\"histogram\"}],\"histogram2d\":[{\"colorbar\":{\"outlinewidth\":0,\"ticks\":\"\"},\"colorscale\":[[0.0,\"#0d0887\"],[0.1111111111111111,\"#46039f\"],[0.2222222222222222,\"#7201a8\"],[0.3333333333333333,\"#9c179e\"],[0.4444444444444444,\"#bd3786\"],[0.5555555555555556,\"#d8576b\"],[0.6666666666666666,\"#ed7953\"],[0.7777777777777778,\"#fb9f3a\"],[0.8888888888888888,\"#fdca26\"],[1.0,\"#f0f921\"]],\"type\":\"histogram2d\"}],\"histogram2dcontour\":[{\"colorbar\":{\"outlinewidth\":0,\"ticks\":\"\"},\"colorscale\":[[0.0,\"#0d0887\"],[0.1111111111111111,\"#46039f\"],[0.2222222222222222,\"#7201a8\"],[0.3333333333333333,\"#9c179e\"],[0.4444444444444444,\"#bd3786\"],[0.5555555555555556,\"#d8576b\"],[0.6666666666666666,\"#ed7953\"],[0.7777777777777778,\"#fb9f3a\"],[0.8888888888888888,\"#fdca26\"],[1.0,\"#f0f921\"]],\"type\":\"histogram2dcontour\"}],\"mesh3d\":[{\"colorbar\":{\"outlinewidth\":0,\"ticks\":\"\"},\"type\":\"mesh3d\"}],\"parcoords\":[{\"line\":{\"colorbar\":{\"outlinewidth\":0,\"ticks\":\"\"}},\"type\":\"parcoords\"}],\"pie\":[{\"automargin\":true,\"type\":\"pie\"}],\"scatter\":[{\"marker\":{\"colorbar\":{\"outlinewidth\":0,\"ticks\":\"\"}},\"type\":\"scatter\"}],\"scatter3d\":[{\"line\":{\"colorbar\":{\"outlinewidth\":0,\"ticks\":\"\"}},\"marker\":{\"colorbar\":{\"outlinewidth\":0,\"ticks\":\"\"}},\"type\":\"scatter3d\"}],\"scattercarpet\":[{\"marker\":{\"colorbar\":{\"outlinewidth\":0,\"ticks\":\"\"}},\"type\":\"scattercarpet\"}],\"scattergeo\":[{\"marker\":{\"colorbar\":{\"outlinewidth\":0,\"ticks\":\"\"}},\"type\":\"scattergeo\"}],\"scattergl\":[{\"marker\":{\"colorbar\":{\"outlinewidth\":0,\"ticks\":\"\"}},\"type\":\"scattergl\"}],\"scattermapbox\":[{\"marker\":{\"colorbar\":{\"outlinewidth\":0,\"ticks\":\"\"}},\"type\":\"scattermapbox\"}],\"scatterpolar\":[{\"marker\":{\"colorbar\":{\"outlinewidth\":0,\"ticks\":\"\"}},\"type\":\"scatterpolar\"}],\"scatterpolargl\":[{\"marker\":{\"colorbar\":{\"outlinewidth\":0,\"ticks\":\"\"}},\"type\":\"scatterpolargl\"}],\"scatterternary\":[{\"marker\":{\"colorbar\":{\"outlinewidth\":0,\"ticks\":\"\"}},\"type\":\"scatterternary\"}],\"surface\":[{\"colorbar\":{\"outlinewidth\":0,\"ticks\":\"\"},\"colorscale\":[[0.0,\"#0d0887\"],[0.1111111111111111,\"#46039f\"],[0.2222222222222222,\"#7201a8\"],[0.3333333333333333,\"#9c179e\"],[0.4444444444444444,\"#bd3786\"],[0.5555555555555556,\"#d8576b\"],[0.6666666666666666,\"#ed7953\"],[0.7777777777777778,\"#fb9f3a\"],[0.8888888888888888,\"#fdca26\"],[1.0,\"#f0f921\"]],\"type\":\"surface\"}],\"table\":[{\"cells\":{\"fill\":{\"color\":\"#EBF0F8\"},\"line\":{\"color\":\"white\"}},\"header\":{\"fill\":{\"color\":\"#C8D4E3\"},\"line\":{\"color\":\"white\"}},\"type\":\"table\"}]},\"layout\":{\"annotationdefaults\":{\"arrowcolor\":\"#2a3f5f\",\"arrowhead\":0,\"arrowwidth\":1},\"autotypenumbers\":\"strict\",\"coloraxis\":{\"colorbar\":{\"outlinewidth\":0,\"ticks\":\"\"}},\"colorscale\":{\"diverging\":[[0,\"#8e0152\"],[0.1,\"#c51b7d\"],[0.2,\"#de77ae\"],[0.3,\"#f1b6da\"],[0.4,\"#fde0ef\"],[0.5,\"#f7f7f7\"],[0.6,\"#e6f5d0\"],[0.7,\"#b8e186\"],[0.8,\"#7fbc41\"],[0.9,\"#4d9221\"],[1,\"#276419\"]],\"sequential\":[[0.0,\"#0d0887\"],[0.1111111111111111,\"#46039f\"],[0.2222222222222222,\"#7201a8\"],[0.3333333333333333,\"#9c179e\"],[0.4444444444444444,\"#bd3786\"],[0.5555555555555556,\"#d8576b\"],[0.6666666666666666,\"#ed7953\"],[0.7777777777777778,\"#fb9f3a\"],[0.8888888888888888,\"#fdca26\"],[1.0,\"#f0f921\"]],\"sequentialminus\":[[0.0,\"#0d0887\"],[0.1111111111111111,\"#46039f\"],[0.2222222222222222,\"#7201a8\"],[0.3333333333333333,\"#9c179e\"],[0.4444444444444444,\"#bd3786\"],[0.5555555555555556,\"#d8576b\"],[0.6666666666666666,\"#ed7953\"],[0.7777777777777778,\"#fb9f3a\"],[0.8888888888888888,\"#fdca26\"],[1.0,\"#f0f921\"]]},\"colorway\":[\"#636efa\",\"#EF553B\",\"#00cc96\",\"#ab63fa\",\"#FFA15A\",\"#19d3f3\",\"#FF6692\",\"#B6E880\",\"#FF97FF\",\"#FECB52\"],\"font\":{\"color\":\"#2a3f5f\"},\"geo\":{\"bgcolor\":\"white\",\"lakecolor\":\"white\",\"landcolor\":\"#E5ECF6\",\"showlakes\":true,\"showland\":true,\"subunitcolor\":\"white\"},\"hoverlabel\":{\"align\":\"left\"},\"hovermode\":\"closest\",\"mapbox\":{\"style\":\"light\"},\"paper_bgcolor\":\"white\",\"plot_bgcolor\":\"#E5ECF6\",\"polar\":{\"angularaxis\":{\"gridcolor\":\"white\",\"linecolor\":\"white\",\"ticks\":\"\"},\"bgcolor\":\"#E5ECF6\",\"radialaxis\":{\"gridcolor\":\"white\",\"linecolor\":\"white\",\"ticks\":\"\"}},\"scene\":{\"xaxis\":{\"backgroundcolor\":\"#E5ECF6\",\"gridcolor\":\"white\",\"gridwidth\":2,\"linecolor\":\"white\",\"showbackground\":true,\"ticks\":\"\",\"zerolinecolor\":\"white\"},\"yaxis\":{\"backgroundcolor\":\"#E5ECF6\",\"gridcolor\":\"white\",\"gridwidth\":2,\"linecolor\":\"white\",\"showbackground\":true,\"ticks\":\"\",\"zerolinecolor\":\"white\"},\"zaxis\":{\"backgroundcolor\":\"#E5ECF6\",\"gridcolor\":\"white\",\"gridwidth\":2,\"linecolor\":\"white\",\"showbackground\":true,\"ticks\":\"\",\"zerolinecolor\":\"white\"}},\"shapedefaults\":{\"line\":{\"color\":\"#2a3f5f\"}},\"ternary\":{\"aaxis\":{\"gridcolor\":\"white\",\"linecolor\":\"white\",\"ticks\":\"\"},\"baxis\":{\"gridcolor\":\"white\",\"linecolor\":\"white\",\"ticks\":\"\"},\"bgcolor\":\"#E5ECF6\",\"caxis\":{\"gridcolor\":\"white\",\"linecolor\":\"white\",\"ticks\":\"\"}},\"title\":{\"x\":0.05},\"xaxis\":{\"automargin\":true,\"gridcolor\":\"white\",\"linecolor\":\"white\",\"ticks\":\"\",\"title\":{\"standoff\":15},\"zerolinecolor\":\"white\",\"zerolinewidth\":2},\"yaxis\":{\"automargin\":true,\"gridcolor\":\"white\",\"linecolor\":\"white\",\"ticks\":\"\",\"title\":{\"standoff\":15},\"zerolinecolor\":\"white\",\"zerolinewidth\":2}}},\"coloraxis\":{\"colorbar\":{\"title\":{\"text\":\"price\"}},\"colorscale\":[[0.0,\"#0d0887\"],[0.1111111111111111,\"#46039f\"],[0.2222222222222222,\"#7201a8\"],[0.3333333333333333,\"#9c179e\"],[0.4444444444444444,\"#bd3786\"],[0.5555555555555556,\"#d8576b\"],[0.6666666666666666,\"#ed7953\"],[0.7777777777777778,\"#fb9f3a\"],[0.8888888888888888,\"#fdca26\"],[1.0,\"#f0f921\"]]},\"legend\":{\"tracegroupgap\":0},\"title\":{\"text\":\"Scatter Matrix\"},\"dragmode\":\"select\",\"height\":900},                        {\"responsive\": true}                    ).then(function(){\n",
              "                            \n",
              "var gd = document.getElementById('4d050040-da8d-489b-8aa1-af1de8946814');\n",
              "var x = new MutationObserver(function (mutations, observer) {{\n",
              "        var display = window.getComputedStyle(gd).display;\n",
              "        if (!display || display === 'none') {{\n",
              "            console.log([gd, 'removed!']);\n",
              "            Plotly.purge(gd);\n",
              "            observer.disconnect();\n",
              "        }}\n",
              "}});\n",
              "\n",
              "// Listen for the removal of the full notebook cells\n",
              "var notebookContainer = gd.closest('#notebook-container');\n",
              "if (notebookContainer) {{\n",
              "    x.observe(notebookContainer, {childList: true});\n",
              "}}\n",
              "\n",
              "// Listen for the clearing of the current output cell\n",
              "var outputEl = gd.closest('.output');\n",
              "if (outputEl) {{\n",
              "    x.observe(outputEl, {childList: true});\n",
              "}}\n",
              "\n",
              "                        })                };                            </script>        </div>\n",
              "</body>\n",
              "</html>"
            ]
          },
          "metadata": {}
        }
      ],
      "source": [
        "px.scatter_matrix(df, dimensions=['price', 'num_subscribers', 'num_reviews',\n",
        "       'num_lectures', 'content_duration'], color='price', title='Scatter Matrix', height=900)"
      ]
    },
    {
      "cell_type": "markdown",
      "metadata": {
        "id": "8hMJrpvauJbD"
      },
      "source": [
        "Testing features combinations"
      ]
    },
    {
      "cell_type": "code",
      "execution_count": 24,
      "metadata": {
        "id": "rdqpZ2wHOODA"
      },
      "outputs": [],
      "source": [
        "df['durationbylect'] = df['content_duration']//df['num_lectures']\n",
        "df['reviewpersubs'] = df['num_reviews']//df['num_subscribers']\n",
        "df.corrwith(df['price']) \n",
        "#There is not any relevant combination, dropping these columns\n",
        "df.drop(['durationbylect', 'reviewpersubs'], axis=1, inplace=True)"
      ]
    },
    {
      "cell_type": "markdown",
      "metadata": {
        "id": "wuZU-B8MzcLF"
      },
      "source": [
        "Removing Outliers"
      ]
    },
    {
      "cell_type": "code",
      "execution_count": 25,
      "metadata": {
        "colab": {
          "base_uri": "https://localhost:8080/",
          "height": 424
        },
        "id": "3JFC7gyozh52",
        "outputId": "bdbb4fc7-c7d4-4757-b5b2-31033aed6195"
      },
      "outputs": [
        {
          "output_type": "execute_result",
          "data": {
            "text/plain": [
              "      price  num_subscribers  num_reviews  num_lectures               level  \\\n",
              "2        45             2174           74            51  Intermediate Level   \n",
              "12       30             3607           21            19          All Levels   \n",
              "23       50             1916           38            23      Beginner Level   \n",
              "24       45             2507          333            40          All Levels   \n",
              "58       20              936            6            11  Intermediate Level   \n",
              "...     ...              ...          ...           ...                 ...   \n",
              "3671     20              436           36            22  Intermediate Level   \n",
              "3674     25              306            3            42      Beginner Level   \n",
              "3675     40              513          169            48          All Levels   \n",
              "3676     50              300           31            38          All Levels   \n",
              "3677     45              901           36            20      Beginner Level   \n",
              "\n",
              "      content_duration           subject  \n",
              "2                  2.5  Business Finance  \n",
              "12                 1.5  Business Finance  \n",
              "23                 1.0  Business Finance  \n",
              "24                 2.0  Business Finance  \n",
              "58                 1.5  Business Finance  \n",
              "...                ...               ...  \n",
              "3671               1.5   Web Development  \n",
              "3674               3.5   Web Development  \n",
              "3675               3.5   Web Development  \n",
              "3676               3.0   Web Development  \n",
              "3677               2.0   Web Development  \n",
              "\n",
              "[2026 rows x 7 columns]"
            ],
            "text/html": [
              "\n",
              "  <div id=\"df-2bda4f5c-cb8a-493f-a79b-ed9ae2d5e306\">\n",
              "    <div class=\"colab-df-container\">\n",
              "      <div>\n",
              "<style scoped>\n",
              "    .dataframe tbody tr th:only-of-type {\n",
              "        vertical-align: middle;\n",
              "    }\n",
              "\n",
              "    .dataframe tbody tr th {\n",
              "        vertical-align: top;\n",
              "    }\n",
              "\n",
              "    .dataframe thead th {\n",
              "        text-align: right;\n",
              "    }\n",
              "</style>\n",
              "<table border=\"1\" class=\"dataframe\">\n",
              "  <thead>\n",
              "    <tr style=\"text-align: right;\">\n",
              "      <th></th>\n",
              "      <th>price</th>\n",
              "      <th>num_subscribers</th>\n",
              "      <th>num_reviews</th>\n",
              "      <th>num_lectures</th>\n",
              "      <th>level</th>\n",
              "      <th>content_duration</th>\n",
              "      <th>subject</th>\n",
              "    </tr>\n",
              "  </thead>\n",
              "  <tbody>\n",
              "    <tr>\n",
              "      <th>2</th>\n",
              "      <td>45</td>\n",
              "      <td>2174</td>\n",
              "      <td>74</td>\n",
              "      <td>51</td>\n",
              "      <td>Intermediate Level</td>\n",
              "      <td>2.5</td>\n",
              "      <td>Business Finance</td>\n",
              "    </tr>\n",
              "    <tr>\n",
              "      <th>12</th>\n",
              "      <td>30</td>\n",
              "      <td>3607</td>\n",
              "      <td>21</td>\n",
              "      <td>19</td>\n",
              "      <td>All Levels</td>\n",
              "      <td>1.5</td>\n",
              "      <td>Business Finance</td>\n",
              "    </tr>\n",
              "    <tr>\n",
              "      <th>23</th>\n",
              "      <td>50</td>\n",
              "      <td>1916</td>\n",
              "      <td>38</td>\n",
              "      <td>23</td>\n",
              "      <td>Beginner Level</td>\n",
              "      <td>1.0</td>\n",
              "      <td>Business Finance</td>\n",
              "    </tr>\n",
              "    <tr>\n",
              "      <th>24</th>\n",
              "      <td>45</td>\n",
              "      <td>2507</td>\n",
              "      <td>333</td>\n",
              "      <td>40</td>\n",
              "      <td>All Levels</td>\n",
              "      <td>2.0</td>\n",
              "      <td>Business Finance</td>\n",
              "    </tr>\n",
              "    <tr>\n",
              "      <th>58</th>\n",
              "      <td>20</td>\n",
              "      <td>936</td>\n",
              "      <td>6</td>\n",
              "      <td>11</td>\n",
              "      <td>Intermediate Level</td>\n",
              "      <td>1.5</td>\n",
              "      <td>Business Finance</td>\n",
              "    </tr>\n",
              "    <tr>\n",
              "      <th>...</th>\n",
              "      <td>...</td>\n",
              "      <td>...</td>\n",
              "      <td>...</td>\n",
              "      <td>...</td>\n",
              "      <td>...</td>\n",
              "      <td>...</td>\n",
              "      <td>...</td>\n",
              "    </tr>\n",
              "    <tr>\n",
              "      <th>3671</th>\n",
              "      <td>20</td>\n",
              "      <td>436</td>\n",
              "      <td>36</td>\n",
              "      <td>22</td>\n",
              "      <td>Intermediate Level</td>\n",
              "      <td>1.5</td>\n",
              "      <td>Web Development</td>\n",
              "    </tr>\n",
              "    <tr>\n",
              "      <th>3674</th>\n",
              "      <td>25</td>\n",
              "      <td>306</td>\n",
              "      <td>3</td>\n",
              "      <td>42</td>\n",
              "      <td>Beginner Level</td>\n",
              "      <td>3.5</td>\n",
              "      <td>Web Development</td>\n",
              "    </tr>\n",
              "    <tr>\n",
              "      <th>3675</th>\n",
              "      <td>40</td>\n",
              "      <td>513</td>\n",
              "      <td>169</td>\n",
              "      <td>48</td>\n",
              "      <td>All Levels</td>\n",
              "      <td>3.5</td>\n",
              "      <td>Web Development</td>\n",
              "    </tr>\n",
              "    <tr>\n",
              "      <th>3676</th>\n",
              "      <td>50</td>\n",
              "      <td>300</td>\n",
              "      <td>31</td>\n",
              "      <td>38</td>\n",
              "      <td>All Levels</td>\n",
              "      <td>3.0</td>\n",
              "      <td>Web Development</td>\n",
              "    </tr>\n",
              "    <tr>\n",
              "      <th>3677</th>\n",
              "      <td>45</td>\n",
              "      <td>901</td>\n",
              "      <td>36</td>\n",
              "      <td>20</td>\n",
              "      <td>Beginner Level</td>\n",
              "      <td>2.0</td>\n",
              "      <td>Web Development</td>\n",
              "    </tr>\n",
              "  </tbody>\n",
              "</table>\n",
              "<p>2026 rows × 7 columns</p>\n",
              "</div>\n",
              "      <button class=\"colab-df-convert\" onclick=\"convertToInteractive('df-2bda4f5c-cb8a-493f-a79b-ed9ae2d5e306')\"\n",
              "              title=\"Convert this dataframe to an interactive table.\"\n",
              "              style=\"display:none;\">\n",
              "        \n",
              "  <svg xmlns=\"http://www.w3.org/2000/svg\" height=\"24px\"viewBox=\"0 0 24 24\"\n",
              "       width=\"24px\">\n",
              "    <path d=\"M0 0h24v24H0V0z\" fill=\"none\"/>\n",
              "    <path d=\"M18.56 5.44l.94 2.06.94-2.06 2.06-.94-2.06-.94-.94-2.06-.94 2.06-2.06.94zm-11 1L8.5 8.5l.94-2.06 2.06-.94-2.06-.94L8.5 2.5l-.94 2.06-2.06.94zm10 10l.94 2.06.94-2.06 2.06-.94-2.06-.94-.94-2.06-.94 2.06-2.06.94z\"/><path d=\"M17.41 7.96l-1.37-1.37c-.4-.4-.92-.59-1.43-.59-.52 0-1.04.2-1.43.59L10.3 9.45l-7.72 7.72c-.78.78-.78 2.05 0 2.83L4 21.41c.39.39.9.59 1.41.59.51 0 1.02-.2 1.41-.59l7.78-7.78 2.81-2.81c.8-.78.8-2.07 0-2.86zM5.41 20L4 18.59l7.72-7.72 1.47 1.35L5.41 20z\"/>\n",
              "  </svg>\n",
              "      </button>\n",
              "      \n",
              "  <style>\n",
              "    .colab-df-container {\n",
              "      display:flex;\n",
              "      flex-wrap:wrap;\n",
              "      gap: 12px;\n",
              "    }\n",
              "\n",
              "    .colab-df-convert {\n",
              "      background-color: #E8F0FE;\n",
              "      border: none;\n",
              "      border-radius: 50%;\n",
              "      cursor: pointer;\n",
              "      display: none;\n",
              "      fill: #1967D2;\n",
              "      height: 32px;\n",
              "      padding: 0 0 0 0;\n",
              "      width: 32px;\n",
              "    }\n",
              "\n",
              "    .colab-df-convert:hover {\n",
              "      background-color: #E2EBFA;\n",
              "      box-shadow: 0px 1px 2px rgba(60, 64, 67, 0.3), 0px 1px 3px 1px rgba(60, 64, 67, 0.15);\n",
              "      fill: #174EA6;\n",
              "    }\n",
              "\n",
              "    [theme=dark] .colab-df-convert {\n",
              "      background-color: #3B4455;\n",
              "      fill: #D2E3FC;\n",
              "    }\n",
              "\n",
              "    [theme=dark] .colab-df-convert:hover {\n",
              "      background-color: #434B5C;\n",
              "      box-shadow: 0px 1px 3px 1px rgba(0, 0, 0, 0.15);\n",
              "      filter: drop-shadow(0px 1px 2px rgba(0, 0, 0, 0.3));\n",
              "      fill: #FFFFFF;\n",
              "    }\n",
              "  </style>\n",
              "\n",
              "      <script>\n",
              "        const buttonEl =\n",
              "          document.querySelector('#df-2bda4f5c-cb8a-493f-a79b-ed9ae2d5e306 button.colab-df-convert');\n",
              "        buttonEl.style.display =\n",
              "          google.colab.kernel.accessAllowed ? 'block' : 'none';\n",
              "\n",
              "        async function convertToInteractive(key) {\n",
              "          const element = document.querySelector('#df-2bda4f5c-cb8a-493f-a79b-ed9ae2d5e306');\n",
              "          const dataTable =\n",
              "            await google.colab.kernel.invokeFunction('convertToInteractive',\n",
              "                                                     [key], {});\n",
              "          if (!dataTable) return;\n",
              "\n",
              "          const docLinkHtml = 'Like what you see? Visit the ' +\n",
              "            '<a target=\"_blank\" href=https://colab.research.google.com/notebooks/data_table.ipynb>data table notebook</a>'\n",
              "            + ' to learn more about interactive tables.';\n",
              "          element.innerHTML = '';\n",
              "          dataTable['output_type'] = 'display_data';\n",
              "          await google.colab.output.renderOutput(dataTable, element);\n",
              "          const docLink = document.createElement('div');\n",
              "          docLink.innerHTML = docLinkHtml;\n",
              "          element.appendChild(docLink);\n",
              "        }\n",
              "      </script>\n",
              "    </div>\n",
              "  </div>\n",
              "  "
            ]
          },
          "metadata": {},
          "execution_count": 25
        }
      ],
      "source": [
        "df = df[(df['price'] < 60) & (df['price'] < 60) & (df['num_subscribers'] < 4000)]\n",
        "df"
      ]
    },
    {
      "cell_type": "markdown",
      "source": [
        "Our deviation was reduced, mainly in the price, but we have reduced our degrees of freedom. There is fewer observations now."
      ],
      "metadata": {
        "id": "KRqbZY6aXVnW"
      }
    },
    {
      "cell_type": "code",
      "source": [
        "df.describe()"
      ],
      "metadata": {
        "colab": {
          "base_uri": "https://localhost:8080/",
          "height": 300
        },
        "id": "eNrosbZ8XVJF",
        "outputId": "e392a133-906c-49d0-f9ce-9adf5527ed0c"
      },
      "execution_count": 26,
      "outputs": [
        {
          "output_type": "execute_result",
          "data": {
            "text/plain": [
              "             price  num_subscribers  num_reviews  num_lectures  \\\n",
              "count  2026.000000      2026.000000  2026.000000   2026.000000   \n",
              "mean     30.419546       801.853899    25.853406     29.924482   \n",
              "std      14.526152       971.190800    47.940979     32.289473   \n",
              "min       0.000000         0.000000     0.000000      0.000000   \n",
              "25%      20.000000        46.250000     2.000000     12.000000   \n",
              "50%      25.000000       353.500000     9.000000     21.000000   \n",
              "75%      45.000000      1289.500000    27.000000     35.000000   \n",
              "max      55.000000      3960.000000   529.000000    458.000000   \n",
              "\n",
              "       content_duration  \n",
              "count       2026.000000  \n",
              "mean           2.998659  \n",
              "std            4.206825  \n",
              "min            0.000000  \n",
              "25%            1.000000  \n",
              "50%            2.000000  \n",
              "75%            3.500000  \n",
              "max           78.500000  "
            ],
            "text/html": [
              "\n",
              "  <div id=\"df-ad6aae5c-d483-4cd8-8a0c-303d0a20599d\">\n",
              "    <div class=\"colab-df-container\">\n",
              "      <div>\n",
              "<style scoped>\n",
              "    .dataframe tbody tr th:only-of-type {\n",
              "        vertical-align: middle;\n",
              "    }\n",
              "\n",
              "    .dataframe tbody tr th {\n",
              "        vertical-align: top;\n",
              "    }\n",
              "\n",
              "    .dataframe thead th {\n",
              "        text-align: right;\n",
              "    }\n",
              "</style>\n",
              "<table border=\"1\" class=\"dataframe\">\n",
              "  <thead>\n",
              "    <tr style=\"text-align: right;\">\n",
              "      <th></th>\n",
              "      <th>price</th>\n",
              "      <th>num_subscribers</th>\n",
              "      <th>num_reviews</th>\n",
              "      <th>num_lectures</th>\n",
              "      <th>content_duration</th>\n",
              "    </tr>\n",
              "  </thead>\n",
              "  <tbody>\n",
              "    <tr>\n",
              "      <th>count</th>\n",
              "      <td>2026.000000</td>\n",
              "      <td>2026.000000</td>\n",
              "      <td>2026.000000</td>\n",
              "      <td>2026.000000</td>\n",
              "      <td>2026.000000</td>\n",
              "    </tr>\n",
              "    <tr>\n",
              "      <th>mean</th>\n",
              "      <td>30.419546</td>\n",
              "      <td>801.853899</td>\n",
              "      <td>25.853406</td>\n",
              "      <td>29.924482</td>\n",
              "      <td>2.998659</td>\n",
              "    </tr>\n",
              "    <tr>\n",
              "      <th>std</th>\n",
              "      <td>14.526152</td>\n",
              "      <td>971.190800</td>\n",
              "      <td>47.940979</td>\n",
              "      <td>32.289473</td>\n",
              "      <td>4.206825</td>\n",
              "    </tr>\n",
              "    <tr>\n",
              "      <th>min</th>\n",
              "      <td>0.000000</td>\n",
              "      <td>0.000000</td>\n",
              "      <td>0.000000</td>\n",
              "      <td>0.000000</td>\n",
              "      <td>0.000000</td>\n",
              "    </tr>\n",
              "    <tr>\n",
              "      <th>25%</th>\n",
              "      <td>20.000000</td>\n",
              "      <td>46.250000</td>\n",
              "      <td>2.000000</td>\n",
              "      <td>12.000000</td>\n",
              "      <td>1.000000</td>\n",
              "    </tr>\n",
              "    <tr>\n",
              "      <th>50%</th>\n",
              "      <td>25.000000</td>\n",
              "      <td>353.500000</td>\n",
              "      <td>9.000000</td>\n",
              "      <td>21.000000</td>\n",
              "      <td>2.000000</td>\n",
              "    </tr>\n",
              "    <tr>\n",
              "      <th>75%</th>\n",
              "      <td>45.000000</td>\n",
              "      <td>1289.500000</td>\n",
              "      <td>27.000000</td>\n",
              "      <td>35.000000</td>\n",
              "      <td>3.500000</td>\n",
              "    </tr>\n",
              "    <tr>\n",
              "      <th>max</th>\n",
              "      <td>55.000000</td>\n",
              "      <td>3960.000000</td>\n",
              "      <td>529.000000</td>\n",
              "      <td>458.000000</td>\n",
              "      <td>78.500000</td>\n",
              "    </tr>\n",
              "  </tbody>\n",
              "</table>\n",
              "</div>\n",
              "      <button class=\"colab-df-convert\" onclick=\"convertToInteractive('df-ad6aae5c-d483-4cd8-8a0c-303d0a20599d')\"\n",
              "              title=\"Convert this dataframe to an interactive table.\"\n",
              "              style=\"display:none;\">\n",
              "        \n",
              "  <svg xmlns=\"http://www.w3.org/2000/svg\" height=\"24px\"viewBox=\"0 0 24 24\"\n",
              "       width=\"24px\">\n",
              "    <path d=\"M0 0h24v24H0V0z\" fill=\"none\"/>\n",
              "    <path d=\"M18.56 5.44l.94 2.06.94-2.06 2.06-.94-2.06-.94-.94-2.06-.94 2.06-2.06.94zm-11 1L8.5 8.5l.94-2.06 2.06-.94-2.06-.94L8.5 2.5l-.94 2.06-2.06.94zm10 10l.94 2.06.94-2.06 2.06-.94-2.06-.94-.94-2.06-.94 2.06-2.06.94z\"/><path d=\"M17.41 7.96l-1.37-1.37c-.4-.4-.92-.59-1.43-.59-.52 0-1.04.2-1.43.59L10.3 9.45l-7.72 7.72c-.78.78-.78 2.05 0 2.83L4 21.41c.39.39.9.59 1.41.59.51 0 1.02-.2 1.41-.59l7.78-7.78 2.81-2.81c.8-.78.8-2.07 0-2.86zM5.41 20L4 18.59l7.72-7.72 1.47 1.35L5.41 20z\"/>\n",
              "  </svg>\n",
              "      </button>\n",
              "      \n",
              "  <style>\n",
              "    .colab-df-container {\n",
              "      display:flex;\n",
              "      flex-wrap:wrap;\n",
              "      gap: 12px;\n",
              "    }\n",
              "\n",
              "    .colab-df-convert {\n",
              "      background-color: #E8F0FE;\n",
              "      border: none;\n",
              "      border-radius: 50%;\n",
              "      cursor: pointer;\n",
              "      display: none;\n",
              "      fill: #1967D2;\n",
              "      height: 32px;\n",
              "      padding: 0 0 0 0;\n",
              "      width: 32px;\n",
              "    }\n",
              "\n",
              "    .colab-df-convert:hover {\n",
              "      background-color: #E2EBFA;\n",
              "      box-shadow: 0px 1px 2px rgba(60, 64, 67, 0.3), 0px 1px 3px 1px rgba(60, 64, 67, 0.15);\n",
              "      fill: #174EA6;\n",
              "    }\n",
              "\n",
              "    [theme=dark] .colab-df-convert {\n",
              "      background-color: #3B4455;\n",
              "      fill: #D2E3FC;\n",
              "    }\n",
              "\n",
              "    [theme=dark] .colab-df-convert:hover {\n",
              "      background-color: #434B5C;\n",
              "      box-shadow: 0px 1px 3px 1px rgba(0, 0, 0, 0.15);\n",
              "      filter: drop-shadow(0px 1px 2px rgba(0, 0, 0, 0.3));\n",
              "      fill: #FFFFFF;\n",
              "    }\n",
              "  </style>\n",
              "\n",
              "      <script>\n",
              "        const buttonEl =\n",
              "          document.querySelector('#df-ad6aae5c-d483-4cd8-8a0c-303d0a20599d button.colab-df-convert');\n",
              "        buttonEl.style.display =\n",
              "          google.colab.kernel.accessAllowed ? 'block' : 'none';\n",
              "\n",
              "        async function convertToInteractive(key) {\n",
              "          const element = document.querySelector('#df-ad6aae5c-d483-4cd8-8a0c-303d0a20599d');\n",
              "          const dataTable =\n",
              "            await google.colab.kernel.invokeFunction('convertToInteractive',\n",
              "                                                     [key], {});\n",
              "          if (!dataTable) return;\n",
              "\n",
              "          const docLinkHtml = 'Like what you see? Visit the ' +\n",
              "            '<a target=\"_blank\" href=https://colab.research.google.com/notebooks/data_table.ipynb>data table notebook</a>'\n",
              "            + ' to learn more about interactive tables.';\n",
              "          element.innerHTML = '';\n",
              "          dataTable['output_type'] = 'display_data';\n",
              "          await google.colab.output.renderOutput(dataTable, element);\n",
              "          const docLink = document.createElement('div');\n",
              "          docLink.innerHTML = docLinkHtml;\n",
              "          element.appendChild(docLink);\n",
              "        }\n",
              "      </script>\n",
              "    </div>\n",
              "  </div>\n",
              "  "
            ]
          },
          "metadata": {},
          "execution_count": 26
        }
      ]
    },
    {
      "cell_type": "markdown",
      "metadata": {
        "id": "PmuEh6FBK1JD"
      },
      "source": [
        "## Transformation Pipeline"
      ]
    },
    {
      "cell_type": "markdown",
      "metadata": {
        "id": "GJxRkkFDWYVi"
      },
      "source": [
        "* I am going to use a teste size of 0.10. We do not have too much data to train. If I am in a situation that the project is a must, I would priorize our train size set.\n",
        "\n",
        "* After this brief view, let's split our train and test dataset before do any data transformation. I will use the random sample and I will let the seed, because I will restart this notebook several times."
      ]
    },
    {
      "cell_type": "code",
      "execution_count": 27,
      "metadata": {
        "id": "Vu3QxppS1L1z"
      },
      "outputs": [],
      "source": [
        "# Splitting the data\n",
        "\n",
        "x = df.drop('price', axis=1)\n",
        "y = df['price']\n",
        "x_train, x_test, y_train, y_test = train_test_split(x, y, test_size=0.10, random_state=42)"
      ]
    },
    {
      "cell_type": "code",
      "execution_count": 28,
      "metadata": {
        "id": "mzwvLmRj11BR"
      },
      "outputs": [],
      "source": [
        "# Splitting by categories\n",
        "\n",
        "x_train_num = x_train.select_dtypes(include=[np.number])\n",
        "x_train_cat = x_train.select_dtypes(exclude=[np.number, 'bool'])\n",
        "x_train_binary = x_train.select_dtypes(include='bool')"
      ]
    },
    {
      "cell_type": "code",
      "execution_count": 29,
      "metadata": {
        "colab": {
          "base_uri": "https://localhost:8080/"
        },
        "id": "qG882lj-2x-v",
        "outputId": "7d548472-6cfc-4b0c-daa8-a1c4b79777ce"
      },
      "outputs": [
        {
          "output_type": "stream",
          "name": "stdout",
          "text": [
            "['level_All Levels' 'level_Beginner Level' 'level_Expert Level'\n",
            " 'level_Intermediate Level' 'subject_Business Finance'\n",
            " 'subject_Graphic Design' 'subject_Musical Instruments'\n",
            " 'subject_Web Development']\n"
          ]
        }
      ],
      "source": [
        "# Manually checking if everything fits perfectly\n",
        "encoder = OneHotEncoder()\n",
        "x_train_cat_tr = encoder.fit_transform(x_train_cat[['level', 'subject']])\n",
        "print(encoder.get_feature_names_out())"
      ]
    },
    {
      "cell_type": "markdown",
      "metadata": {
        "id": "C88A4A9jhRDV"
      },
      "source": [
        "I need to create a custom class for the \"LabelBinarizer\" beucase he does not handle more than 2 arguments"
      ]
    },
    {
      "cell_type": "code",
      "execution_count": 30,
      "metadata": {
        "id": "aXm3leywH1iZ"
      },
      "outputs": [],
      "source": [
        "# Would be used to fit \"is_paid\" in the pipeline.\n",
        "# I am going to keep it, might be useful afterwards.\n",
        "class binarytransformer(BaseEstimator, TransformerMixin):\n",
        "  def __init__(self, sparse_output=False):\n",
        "    self.sparse_output = sparse_output\n",
        "  def fit(self, X, y=None):\n",
        "    return self\n",
        "  def transform(self, X, y=None):\n",
        "    binarizer = LabelBinarizer(sparse_output=self.sparse_output)\n",
        "    return binarizer.fit_transform(X)"
      ]
    },
    {
      "cell_type": "markdown",
      "metadata": {
        "id": "SNBS4QaR3PKj"
      },
      "source": [
        "### Pipeline"
      ]
    },
    {
      "cell_type": "markdown",
      "metadata": {
        "id": "Rn50b2e5InDi"
      },
      "source": [
        "Manually would be"
      ]
    },
    {
      "cell_type": "code",
      "execution_count": 31,
      "metadata": {
        "colab": {
          "base_uri": "https://localhost:8080/",
          "height": 485
        },
        "id": "8xmoXz7OsvVs",
        "outputId": "9b94763d-1ffa-42a9-932c-cd6f08f8bda4"
      },
      "outputs": [
        {
          "output_type": "execute_result",
          "data": {
            "text/plain": [
              "      num_subscribers  num_reviews  num_lectures  content_duration  \\\n",
              "1831              122            9            11          0.633333   \n",
              "474               911            2            18          1.500000   \n",
              "3664              944            1            10          1.000000   \n",
              "2423             1981           28            38          2.000000   \n",
              "509                83            8            21          1.000000   \n",
              "...               ...          ...           ...               ...   \n",
              "1851              886           43            74          1.500000   \n",
              "2121                5            2            19          2.000000   \n",
              "1478               13            3            22          2.000000   \n",
              "2315              245            8            34          1.500000   \n",
              "1845              922           57            90         10.500000   \n",
              "\n",
              "      All Levels  Beginner Level  Expert Level  Intermediate Level  \\\n",
              "1831           0               1             0                   0   \n",
              "474            1               0             0                   0   \n",
              "3664           1               0             0                   0   \n",
              "2423           0               1             0                   0   \n",
              "509            1               0             0                   0   \n",
              "...          ...             ...           ...                 ...   \n",
              "1851           0               0             0                   1   \n",
              "2121           0               0             0                   1   \n",
              "1478           0               1             0                   0   \n",
              "2315           0               0             0                   1   \n",
              "1845           0               1             0                   0   \n",
              "\n",
              "      Business Finance  Graphic Design  Musical Instruments  Web Development  \n",
              "1831                 0               0                    1                0  \n",
              "474                  1               0                    0                0  \n",
              "3664                 0               0                    0                1  \n",
              "2423                 0               0                    1                0  \n",
              "509                  1               0                    0                0  \n",
              "...                ...             ...                  ...              ...  \n",
              "1851                 0               0                    1                0  \n",
              "2121                 0               0                    1                0  \n",
              "1478                 0               1                    0                0  \n",
              "2315                 0               0                    1                0  \n",
              "1845                 0               0                    1                0  \n",
              "\n",
              "[1823 rows x 12 columns]"
            ],
            "text/html": [
              "\n",
              "  <div id=\"df-3c5bb13c-ea53-4bb3-8e5b-b775dec6ba90\">\n",
              "    <div class=\"colab-df-container\">\n",
              "      <div>\n",
              "<style scoped>\n",
              "    .dataframe tbody tr th:only-of-type {\n",
              "        vertical-align: middle;\n",
              "    }\n",
              "\n",
              "    .dataframe tbody tr th {\n",
              "        vertical-align: top;\n",
              "    }\n",
              "\n",
              "    .dataframe thead th {\n",
              "        text-align: right;\n",
              "    }\n",
              "</style>\n",
              "<table border=\"1\" class=\"dataframe\">\n",
              "  <thead>\n",
              "    <tr style=\"text-align: right;\">\n",
              "      <th></th>\n",
              "      <th>num_subscribers</th>\n",
              "      <th>num_reviews</th>\n",
              "      <th>num_lectures</th>\n",
              "      <th>content_duration</th>\n",
              "      <th>All Levels</th>\n",
              "      <th>Beginner Level</th>\n",
              "      <th>Expert Level</th>\n",
              "      <th>Intermediate Level</th>\n",
              "      <th>Business Finance</th>\n",
              "      <th>Graphic Design</th>\n",
              "      <th>Musical Instruments</th>\n",
              "      <th>Web Development</th>\n",
              "    </tr>\n",
              "  </thead>\n",
              "  <tbody>\n",
              "    <tr>\n",
              "      <th>1831</th>\n",
              "      <td>122</td>\n",
              "      <td>9</td>\n",
              "      <td>11</td>\n",
              "      <td>0.633333</td>\n",
              "      <td>0</td>\n",
              "      <td>1</td>\n",
              "      <td>0</td>\n",
              "      <td>0</td>\n",
              "      <td>0</td>\n",
              "      <td>0</td>\n",
              "      <td>1</td>\n",
              "      <td>0</td>\n",
              "    </tr>\n",
              "    <tr>\n",
              "      <th>474</th>\n",
              "      <td>911</td>\n",
              "      <td>2</td>\n",
              "      <td>18</td>\n",
              "      <td>1.500000</td>\n",
              "      <td>1</td>\n",
              "      <td>0</td>\n",
              "      <td>0</td>\n",
              "      <td>0</td>\n",
              "      <td>1</td>\n",
              "      <td>0</td>\n",
              "      <td>0</td>\n",
              "      <td>0</td>\n",
              "    </tr>\n",
              "    <tr>\n",
              "      <th>3664</th>\n",
              "      <td>944</td>\n",
              "      <td>1</td>\n",
              "      <td>10</td>\n",
              "      <td>1.000000</td>\n",
              "      <td>1</td>\n",
              "      <td>0</td>\n",
              "      <td>0</td>\n",
              "      <td>0</td>\n",
              "      <td>0</td>\n",
              "      <td>0</td>\n",
              "      <td>0</td>\n",
              "      <td>1</td>\n",
              "    </tr>\n",
              "    <tr>\n",
              "      <th>2423</th>\n",
              "      <td>1981</td>\n",
              "      <td>28</td>\n",
              "      <td>38</td>\n",
              "      <td>2.000000</td>\n",
              "      <td>0</td>\n",
              "      <td>1</td>\n",
              "      <td>0</td>\n",
              "      <td>0</td>\n",
              "      <td>0</td>\n",
              "      <td>0</td>\n",
              "      <td>1</td>\n",
              "      <td>0</td>\n",
              "    </tr>\n",
              "    <tr>\n",
              "      <th>509</th>\n",
              "      <td>83</td>\n",
              "      <td>8</td>\n",
              "      <td>21</td>\n",
              "      <td>1.000000</td>\n",
              "      <td>1</td>\n",
              "      <td>0</td>\n",
              "      <td>0</td>\n",
              "      <td>0</td>\n",
              "      <td>1</td>\n",
              "      <td>0</td>\n",
              "      <td>0</td>\n",
              "      <td>0</td>\n",
              "    </tr>\n",
              "    <tr>\n",
              "      <th>...</th>\n",
              "      <td>...</td>\n",
              "      <td>...</td>\n",
              "      <td>...</td>\n",
              "      <td>...</td>\n",
              "      <td>...</td>\n",
              "      <td>...</td>\n",
              "      <td>...</td>\n",
              "      <td>...</td>\n",
              "      <td>...</td>\n",
              "      <td>...</td>\n",
              "      <td>...</td>\n",
              "      <td>...</td>\n",
              "    </tr>\n",
              "    <tr>\n",
              "      <th>1851</th>\n",
              "      <td>886</td>\n",
              "      <td>43</td>\n",
              "      <td>74</td>\n",
              "      <td>1.500000</td>\n",
              "      <td>0</td>\n",
              "      <td>0</td>\n",
              "      <td>0</td>\n",
              "      <td>1</td>\n",
              "      <td>0</td>\n",
              "      <td>0</td>\n",
              "      <td>1</td>\n",
              "      <td>0</td>\n",
              "    </tr>\n",
              "    <tr>\n",
              "      <th>2121</th>\n",
              "      <td>5</td>\n",
              "      <td>2</td>\n",
              "      <td>19</td>\n",
              "      <td>2.000000</td>\n",
              "      <td>0</td>\n",
              "      <td>0</td>\n",
              "      <td>0</td>\n",
              "      <td>1</td>\n",
              "      <td>0</td>\n",
              "      <td>0</td>\n",
              "      <td>1</td>\n",
              "      <td>0</td>\n",
              "    </tr>\n",
              "    <tr>\n",
              "      <th>1478</th>\n",
              "      <td>13</td>\n",
              "      <td>3</td>\n",
              "      <td>22</td>\n",
              "      <td>2.000000</td>\n",
              "      <td>0</td>\n",
              "      <td>1</td>\n",
              "      <td>0</td>\n",
              "      <td>0</td>\n",
              "      <td>0</td>\n",
              "      <td>1</td>\n",
              "      <td>0</td>\n",
              "      <td>0</td>\n",
              "    </tr>\n",
              "    <tr>\n",
              "      <th>2315</th>\n",
              "      <td>245</td>\n",
              "      <td>8</td>\n",
              "      <td>34</td>\n",
              "      <td>1.500000</td>\n",
              "      <td>0</td>\n",
              "      <td>0</td>\n",
              "      <td>0</td>\n",
              "      <td>1</td>\n",
              "      <td>0</td>\n",
              "      <td>0</td>\n",
              "      <td>1</td>\n",
              "      <td>0</td>\n",
              "    </tr>\n",
              "    <tr>\n",
              "      <th>1845</th>\n",
              "      <td>922</td>\n",
              "      <td>57</td>\n",
              "      <td>90</td>\n",
              "      <td>10.500000</td>\n",
              "      <td>0</td>\n",
              "      <td>1</td>\n",
              "      <td>0</td>\n",
              "      <td>0</td>\n",
              "      <td>0</td>\n",
              "      <td>0</td>\n",
              "      <td>1</td>\n",
              "      <td>0</td>\n",
              "    </tr>\n",
              "  </tbody>\n",
              "</table>\n",
              "<p>1823 rows × 12 columns</p>\n",
              "</div>\n",
              "      <button class=\"colab-df-convert\" onclick=\"convertToInteractive('df-3c5bb13c-ea53-4bb3-8e5b-b775dec6ba90')\"\n",
              "              title=\"Convert this dataframe to an interactive table.\"\n",
              "              style=\"display:none;\">\n",
              "        \n",
              "  <svg xmlns=\"http://www.w3.org/2000/svg\" height=\"24px\"viewBox=\"0 0 24 24\"\n",
              "       width=\"24px\">\n",
              "    <path d=\"M0 0h24v24H0V0z\" fill=\"none\"/>\n",
              "    <path d=\"M18.56 5.44l.94 2.06.94-2.06 2.06-.94-2.06-.94-.94-2.06-.94 2.06-2.06.94zm-11 1L8.5 8.5l.94-2.06 2.06-.94-2.06-.94L8.5 2.5l-.94 2.06-2.06.94zm10 10l.94 2.06.94-2.06 2.06-.94-2.06-.94-.94-2.06-.94 2.06-2.06.94z\"/><path d=\"M17.41 7.96l-1.37-1.37c-.4-.4-.92-.59-1.43-.59-.52 0-1.04.2-1.43.59L10.3 9.45l-7.72 7.72c-.78.78-.78 2.05 0 2.83L4 21.41c.39.39.9.59 1.41.59.51 0 1.02-.2 1.41-.59l7.78-7.78 2.81-2.81c.8-.78.8-2.07 0-2.86zM5.41 20L4 18.59l7.72-7.72 1.47 1.35L5.41 20z\"/>\n",
              "  </svg>\n",
              "      </button>\n",
              "      \n",
              "  <style>\n",
              "    .colab-df-container {\n",
              "      display:flex;\n",
              "      flex-wrap:wrap;\n",
              "      gap: 12px;\n",
              "    }\n",
              "\n",
              "    .colab-df-convert {\n",
              "      background-color: #E8F0FE;\n",
              "      border: none;\n",
              "      border-radius: 50%;\n",
              "      cursor: pointer;\n",
              "      display: none;\n",
              "      fill: #1967D2;\n",
              "      height: 32px;\n",
              "      padding: 0 0 0 0;\n",
              "      width: 32px;\n",
              "    }\n",
              "\n",
              "    .colab-df-convert:hover {\n",
              "      background-color: #E2EBFA;\n",
              "      box-shadow: 0px 1px 2px rgba(60, 64, 67, 0.3), 0px 1px 3px 1px rgba(60, 64, 67, 0.15);\n",
              "      fill: #174EA6;\n",
              "    }\n",
              "\n",
              "    [theme=dark] .colab-df-convert {\n",
              "      background-color: #3B4455;\n",
              "      fill: #D2E3FC;\n",
              "    }\n",
              "\n",
              "    [theme=dark] .colab-df-convert:hover {\n",
              "      background-color: #434B5C;\n",
              "      box-shadow: 0px 1px 3px 1px rgba(0, 0, 0, 0.15);\n",
              "      filter: drop-shadow(0px 1px 2px rgba(0, 0, 0, 0.3));\n",
              "      fill: #FFFFFF;\n",
              "    }\n",
              "  </style>\n",
              "\n",
              "      <script>\n",
              "        const buttonEl =\n",
              "          document.querySelector('#df-3c5bb13c-ea53-4bb3-8e5b-b775dec6ba90 button.colab-df-convert');\n",
              "        buttonEl.style.display =\n",
              "          google.colab.kernel.accessAllowed ? 'block' : 'none';\n",
              "\n",
              "        async function convertToInteractive(key) {\n",
              "          const element = document.querySelector('#df-3c5bb13c-ea53-4bb3-8e5b-b775dec6ba90');\n",
              "          const dataTable =\n",
              "            await google.colab.kernel.invokeFunction('convertToInteractive',\n",
              "                                                     [key], {});\n",
              "          if (!dataTable) return;\n",
              "\n",
              "          const docLinkHtml = 'Like what you see? Visit the ' +\n",
              "            '<a target=\"_blank\" href=https://colab.research.google.com/notebooks/data_table.ipynb>data table notebook</a>'\n",
              "            + ' to learn more about interactive tables.';\n",
              "          element.innerHTML = '';\n",
              "          dataTable['output_type'] = 'display_data';\n",
              "          await google.colab.output.renderOutput(dataTable, element);\n",
              "          const docLink = document.createElement('div');\n",
              "          docLink.innerHTML = docLinkHtml;\n",
              "          element.appendChild(docLink);\n",
              "        }\n",
              "      </script>\n",
              "    </div>\n",
              "  </div>\n",
              "  "
            ]
          },
          "metadata": {},
          "execution_count": 31
        }
      ],
      "source": [
        "# Creating the dummy for \"is_paid\"\n",
        "#x_train['is_paid'] = x_train['is_paid'].apply(lambda x: 1 if x == True else 0)\n",
        "\n",
        "# Creating dummy variables for \"level\"\n",
        "dummy_level = pd.get_dummies(x_train.level)\n",
        "concat_df = pd.concat([x_train, dummy_level], axis=1)\n",
        "\n",
        "#Creating dummy variables for \"subject\"\n",
        "dummy_subject = pd.get_dummies(x_train.subject)\n",
        "subject_df = pd.concat([concat_df, dummy_subject], axis=1)\n",
        "\n",
        "#The final DataFrame\n",
        "datam = subject_df.drop(['level', 'subject'], axis=1)\n",
        "datam"
      ]
    },
    {
      "cell_type": "markdown",
      "source": [
        "It is totally reasonable a higher negative correlation between the courses - and positive between contend_duration and num_lectures"
      ],
      "metadata": {
        "id": "jpg61TxKY1pQ"
      }
    },
    {
      "cell_type": "code",
      "execution_count": 32,
      "metadata": {
        "colab": {
          "base_uri": "https://localhost:8080/",
          "height": 1000
        },
        "id": "WmYCkZoLtBak",
        "outputId": "0e0ab5a4-817c-4fc6-c925-86839a12d0d9"
      },
      "outputs": [
        {
          "output_type": "display_data",
          "data": {
            "text/html": [
              "<html>\n",
              "<head><meta charset=\"utf-8\" /></head>\n",
              "<body>\n",
              "    <div>            <script src=\"https://cdnjs.cloudflare.com/ajax/libs/mathjax/2.7.5/MathJax.js?config=TeX-AMS-MML_SVG\"></script><script type=\"text/javascript\">if (window.MathJax) {MathJax.Hub.Config({SVG: {font: \"STIX-Web\"}});}</script>                <script type=\"text/javascript\">window.PlotlyConfig = {MathJaxConfig: 'local'};</script>\n",
              "        <script src=\"https://cdn.plot.ly/plotly-2.8.3.min.js\"></script>                <div id=\"6d239e56-80ff-492c-9370-304ba11b38f6\" class=\"plotly-graph-div\" style=\"height:1000px; width:1400px;\"></div>            <script type=\"text/javascript\">                                    window.PLOTLYENV=window.PLOTLYENV || {};                                    if (document.getElementById(\"6d239e56-80ff-492c-9370-304ba11b38f6\")) {                    Plotly.newPlot(                        \"6d239e56-80ff-492c-9370-304ba11b38f6\",                        [{\"coloraxis\":\"coloraxis\",\"name\":\"0\",\"texttemplate\":\"%{z}\",\"x\":[\"num_subscribers\",\"num_reviews\",\"num_lectures\",\"content_duration\",\"All Levels\",\"Beginner Level\",\"Expert Level\",\"Intermediate Level\",\"Business Finance\",\"Graphic Design\",\"Musical Instruments\",\"Web Development\"],\"y\":[\"num_subscribers\",\"num_reviews\",\"num_lectures\",\"content_duration\",\"All Levels\",\"Beginner Level\",\"Expert Level\",\"Intermediate Level\",\"Business Finance\",\"Graphic Design\",\"Musical Instruments\",\"Web Development\"],\"z\":[[1.0,0.47312775716484484,0.056168437402630306,0.030581516112065193,0.01960988478869037,0.026745274766111753,-0.029210250916570916,-0.06077900359249188,-0.05449774137628542,-0.1151411951246966,-0.21999366518283847,0.409284715492336],[0.47312775716484484,1.0,0.19617169376792196,0.18185507099829934,0.030640153029080963,-0.026159492506092934,-0.02749076806736466,-3.4455828325465278e-06,-0.08521102817535689,-0.07449262128871205,-0.15803366898626217,0.33997186671884955],[0.056168437402630306,0.19617169376792196,1.0,0.6346793505719848,0.07161214430395546,-0.06747717516755124,-0.002534938779131723,-0.009370135973772191,-0.09865786948348365,-0.06033382225047096,0.06480086147954225,0.10504029821865374],[0.030581516112065193,0.18185507099829934,0.6346793505719848,1.0,0.08784026866877272,-0.08863524351491289,-0.015145316872871559,0.0008348798369320011,0.012016041883064765,-0.01979140710431952,-0.07213973141930052,0.08181896648483442],[0.01960988478869037,0.030640153029080963,0.07161214430395546,0.08784026866877272,1.0,-0.7650345535028457,-0.10057607899160198,-0.3731140732566642,0.08804749161302074,-0.03826343163499896,-0.09664328429105026,0.036764338832360015],[0.026745274766111753,-0.026159492506092934,-0.06747717516755124,-0.08863524351491289,-0.7650345535028457,1.0,-0.075854552281469,-0.28140290674050566,-0.07011678549594466,0.06809371194759674,0.06190344709499566,-0.04971399047156275],[-0.029210250916570916,-0.02749076806736466,-0.002534938779131723,-0.015145316872871559,-0.10057607899160198,-0.075854552281469,1.0,-0.036994931597810886,0.020146135487249757,-0.020623108891951653,0.019323826330850707,-0.024152605888528272],[-0.06077900359249188,-3.4455828325465278e-06,-0.009370135973772191,0.0008348798369320011,-0.3731140732566642,-0.28140290674050566,-0.036994931597810886,1.0,-0.03757728552187488,-0.03569787828250309,0.0509350095292778,0.024412318088104276],[-0.05449774137628542,-0.08521102817535689,-0.09865786948348365,0.012016041883064765,0.08804749161302074,-0.07011678549594466,0.020146135487249757,-0.03757728552187488,1.0,-0.3570082856292069,-0.42163950223927577,-0.37642489104816895],[-0.1151411951246966,-0.07449262128871205,-0.06033382225047096,-0.01979140710431952,-0.03826343163499896,0.06809371194759674,-0.020623108891951653,-0.03569787828250309,-0.3570082856292069,1.0,-0.2816192275077461,-0.25141972340986757],[-0.21999366518283847,-0.15803366898626217,0.06480086147954225,-0.07213973141930052,-0.09664328429105026,0.06190344709499566,0.019323826330850707,0.0509350095292778,-0.42163950223927577,-0.2816192275077461,1.0,-0.2969356491120059],[0.409284715492336,0.33997186671884955,0.10504029821865374,0.08181896648483442,0.036764338832360015,-0.04971399047156275,-0.024152605888528272,0.024412318088104276,-0.37642489104816895,-0.25141972340986757,-0.2969356491120059,1.0]],\"type\":\"heatmap\",\"xaxis\":\"x\",\"yaxis\":\"y\",\"hovertemplate\":\"x: %{x}<br>y: %{y}<br>color: %{z}<extra></extra>\"}],                        {\"template\":{\"data\":{\"barpolar\":[{\"marker\":{\"line\":{\"color\":\"rgb(237,237,237)\",\"width\":0.5},\"pattern\":{\"fillmode\":\"overlay\",\"size\":10,\"solidity\":0.2}},\"type\":\"barpolar\"}],\"bar\":[{\"error_x\":{\"color\":\"rgb(51,51,51)\"},\"error_y\":{\"color\":\"rgb(51,51,51)\"},\"marker\":{\"line\":{\"color\":\"rgb(237,237,237)\",\"width\":0.5},\"pattern\":{\"fillmode\":\"overlay\",\"size\":10,\"solidity\":0.2}},\"type\":\"bar\"}],\"carpet\":[{\"aaxis\":{\"endlinecolor\":\"rgb(51,51,51)\",\"gridcolor\":\"white\",\"linecolor\":\"white\",\"minorgridcolor\":\"white\",\"startlinecolor\":\"rgb(51,51,51)\"},\"baxis\":{\"endlinecolor\":\"rgb(51,51,51)\",\"gridcolor\":\"white\",\"linecolor\":\"white\",\"minorgridcolor\":\"white\",\"startlinecolor\":\"rgb(51,51,51)\"},\"type\":\"carpet\"}],\"choropleth\":[{\"colorbar\":{\"outlinewidth\":0,\"tickcolor\":\"rgb(237,237,237)\",\"ticklen\":6,\"ticks\":\"inside\"},\"type\":\"choropleth\"}],\"contourcarpet\":[{\"colorbar\":{\"outlinewidth\":0,\"tickcolor\":\"rgb(237,237,237)\",\"ticklen\":6,\"ticks\":\"inside\"},\"type\":\"contourcarpet\"}],\"contour\":[{\"colorbar\":{\"outlinewidth\":0,\"tickcolor\":\"rgb(237,237,237)\",\"ticklen\":6,\"ticks\":\"inside\"},\"colorscale\":[[0,\"rgb(20,44,66)\"],[1,\"rgb(90,179,244)\"]],\"type\":\"contour\"}],\"heatmapgl\":[{\"colorbar\":{\"outlinewidth\":0,\"tickcolor\":\"rgb(237,237,237)\",\"ticklen\":6,\"ticks\":\"inside\"},\"colorscale\":[[0,\"rgb(20,44,66)\"],[1,\"rgb(90,179,244)\"]],\"type\":\"heatmapgl\"}],\"heatmap\":[{\"colorbar\":{\"outlinewidth\":0,\"tickcolor\":\"rgb(237,237,237)\",\"ticklen\":6,\"ticks\":\"inside\"},\"colorscale\":[[0,\"rgb(20,44,66)\"],[1,\"rgb(90,179,244)\"]],\"type\":\"heatmap\"}],\"histogram2dcontour\":[{\"colorbar\":{\"outlinewidth\":0,\"tickcolor\":\"rgb(237,237,237)\",\"ticklen\":6,\"ticks\":\"inside\"},\"colorscale\":[[0,\"rgb(20,44,66)\"],[1,\"rgb(90,179,244)\"]],\"type\":\"histogram2dcontour\"}],\"histogram2d\":[{\"colorbar\":{\"outlinewidth\":0,\"tickcolor\":\"rgb(237,237,237)\",\"ticklen\":6,\"ticks\":\"inside\"},\"colorscale\":[[0,\"rgb(20,44,66)\"],[1,\"rgb(90,179,244)\"]],\"type\":\"histogram2d\"}],\"histogram\":[{\"marker\":{\"pattern\":{\"fillmode\":\"overlay\",\"size\":10,\"solidity\":0.2}},\"type\":\"histogram\"}],\"mesh3d\":[{\"colorbar\":{\"outlinewidth\":0,\"tickcolor\":\"rgb(237,237,237)\",\"ticklen\":6,\"ticks\":\"inside\"},\"type\":\"mesh3d\"}],\"parcoords\":[{\"line\":{\"colorbar\":{\"outlinewidth\":0,\"tickcolor\":\"rgb(237,237,237)\",\"ticklen\":6,\"ticks\":\"inside\"}},\"type\":\"parcoords\"}],\"pie\":[{\"automargin\":true,\"type\":\"pie\"}],\"scatter3d\":[{\"line\":{\"colorbar\":{\"outlinewidth\":0,\"tickcolor\":\"rgb(237,237,237)\",\"ticklen\":6,\"ticks\":\"inside\"}},\"marker\":{\"colorbar\":{\"outlinewidth\":0,\"tickcolor\":\"rgb(237,237,237)\",\"ticklen\":6,\"ticks\":\"inside\"}},\"type\":\"scatter3d\"}],\"scattercarpet\":[{\"marker\":{\"colorbar\":{\"outlinewidth\":0,\"tickcolor\":\"rgb(237,237,237)\",\"ticklen\":6,\"ticks\":\"inside\"}},\"type\":\"scattercarpet\"}],\"scattergeo\":[{\"marker\":{\"colorbar\":{\"outlinewidth\":0,\"tickcolor\":\"rgb(237,237,237)\",\"ticklen\":6,\"ticks\":\"inside\"}},\"type\":\"scattergeo\"}],\"scattergl\":[{\"marker\":{\"colorbar\":{\"outlinewidth\":0,\"tickcolor\":\"rgb(237,237,237)\",\"ticklen\":6,\"ticks\":\"inside\"}},\"type\":\"scattergl\"}],\"scattermapbox\":[{\"marker\":{\"colorbar\":{\"outlinewidth\":0,\"tickcolor\":\"rgb(237,237,237)\",\"ticklen\":6,\"ticks\":\"inside\"}},\"type\":\"scattermapbox\"}],\"scatterpolargl\":[{\"marker\":{\"colorbar\":{\"outlinewidth\":0,\"tickcolor\":\"rgb(237,237,237)\",\"ticklen\":6,\"ticks\":\"inside\"}},\"type\":\"scatterpolargl\"}],\"scatterpolar\":[{\"marker\":{\"colorbar\":{\"outlinewidth\":0,\"tickcolor\":\"rgb(237,237,237)\",\"ticklen\":6,\"ticks\":\"inside\"}},\"type\":\"scatterpolar\"}],\"scatter\":[{\"marker\":{\"colorbar\":{\"outlinewidth\":0,\"tickcolor\":\"rgb(237,237,237)\",\"ticklen\":6,\"ticks\":\"inside\"}},\"type\":\"scatter\"}],\"scatterternary\":[{\"marker\":{\"colorbar\":{\"outlinewidth\":0,\"tickcolor\":\"rgb(237,237,237)\",\"ticklen\":6,\"ticks\":\"inside\"}},\"type\":\"scatterternary\"}],\"surface\":[{\"colorbar\":{\"outlinewidth\":0,\"tickcolor\":\"rgb(237,237,237)\",\"ticklen\":6,\"ticks\":\"inside\"},\"colorscale\":[[0,\"rgb(20,44,66)\"],[1,\"rgb(90,179,244)\"]],\"type\":\"surface\"}],\"table\":[{\"cells\":{\"fill\":{\"color\":\"rgb(237,237,237)\"},\"line\":{\"color\":\"white\"}},\"header\":{\"fill\":{\"color\":\"rgb(217,217,217)\"},\"line\":{\"color\":\"white\"}},\"type\":\"table\"}]},\"layout\":{\"annotationdefaults\":{\"arrowhead\":0,\"arrowwidth\":1},\"autotypenumbers\":\"strict\",\"coloraxis\":{\"colorbar\":{\"outlinewidth\":0,\"tickcolor\":\"rgb(237,237,237)\",\"ticklen\":6,\"ticks\":\"inside\"}},\"colorscale\":{\"sequential\":[[0,\"rgb(20,44,66)\"],[1,\"rgb(90,179,244)\"]],\"sequentialminus\":[[0,\"rgb(20,44,66)\"],[1,\"rgb(90,179,244)\"]]},\"colorway\":[\"#F8766D\",\"#A3A500\",\"#00BF7D\",\"#00B0F6\",\"#E76BF3\"],\"font\":{\"color\":\"rgb(51,51,51)\"},\"geo\":{\"bgcolor\":\"white\",\"lakecolor\":\"white\",\"landcolor\":\"rgb(237,237,237)\",\"showlakes\":true,\"showland\":true,\"subunitcolor\":\"white\"},\"hoverlabel\":{\"align\":\"left\"},\"hovermode\":\"closest\",\"paper_bgcolor\":\"white\",\"plot_bgcolor\":\"rgb(237,237,237)\",\"polar\":{\"angularaxis\":{\"gridcolor\":\"white\",\"linecolor\":\"white\",\"showgrid\":true,\"tickcolor\":\"rgb(51,51,51)\",\"ticks\":\"outside\"},\"bgcolor\":\"rgb(237,237,237)\",\"radialaxis\":{\"gridcolor\":\"white\",\"linecolor\":\"white\",\"showgrid\":true,\"tickcolor\":\"rgb(51,51,51)\",\"ticks\":\"outside\"}},\"scene\":{\"xaxis\":{\"backgroundcolor\":\"rgb(237,237,237)\",\"gridcolor\":\"white\",\"gridwidth\":2,\"linecolor\":\"white\",\"showbackground\":true,\"showgrid\":true,\"tickcolor\":\"rgb(51,51,51)\",\"ticks\":\"outside\",\"zerolinecolor\":\"white\"},\"yaxis\":{\"backgroundcolor\":\"rgb(237,237,237)\",\"gridcolor\":\"white\",\"gridwidth\":2,\"linecolor\":\"white\",\"showbackground\":true,\"showgrid\":true,\"tickcolor\":\"rgb(51,51,51)\",\"ticks\":\"outside\",\"zerolinecolor\":\"white\"},\"zaxis\":{\"backgroundcolor\":\"rgb(237,237,237)\",\"gridcolor\":\"white\",\"gridwidth\":2,\"linecolor\":\"white\",\"showbackground\":true,\"showgrid\":true,\"tickcolor\":\"rgb(51,51,51)\",\"ticks\":\"outside\",\"zerolinecolor\":\"white\"}},\"shapedefaults\":{\"fillcolor\":\"black\",\"line\":{\"width\":0},\"opacity\":0.3},\"ternary\":{\"aaxis\":{\"gridcolor\":\"white\",\"linecolor\":\"white\",\"showgrid\":true,\"tickcolor\":\"rgb(51,51,51)\",\"ticks\":\"outside\"},\"baxis\":{\"gridcolor\":\"white\",\"linecolor\":\"white\",\"showgrid\":true,\"tickcolor\":\"rgb(51,51,51)\",\"ticks\":\"outside\"},\"bgcolor\":\"rgb(237,237,237)\",\"caxis\":{\"gridcolor\":\"white\",\"linecolor\":\"white\",\"showgrid\":true,\"tickcolor\":\"rgb(51,51,51)\",\"ticks\":\"outside\"}},\"xaxis\":{\"automargin\":true,\"gridcolor\":\"white\",\"linecolor\":\"white\",\"showgrid\":true,\"tickcolor\":\"rgb(51,51,51)\",\"ticks\":\"outside\",\"title\":{\"standoff\":15},\"zerolinecolor\":\"white\"},\"yaxis\":{\"automargin\":true,\"gridcolor\":\"white\",\"linecolor\":\"white\",\"showgrid\":true,\"tickcolor\":\"rgb(51,51,51)\",\"ticks\":\"outside\",\"title\":{\"standoff\":15},\"zerolinecolor\":\"white\"}}},\"xaxis\":{\"anchor\":\"y\",\"domain\":[0.0,1.0],\"scaleanchor\":\"y\",\"constrain\":\"domain\"},\"yaxis\":{\"anchor\":\"x\",\"domain\":[0.0,1.0],\"autorange\":\"reversed\",\"constrain\":\"domain\"},\"coloraxis\":{\"colorscale\":[[0.0,\"rgb(20,44,66)\"],[1.0,\"rgb(90,179,244)\"]]},\"margin\":{\"t\":60},\"height\":1000,\"width\":1400},                        {\"responsive\": true}                    ).then(function(){\n",
              "                            \n",
              "var gd = document.getElementById('6d239e56-80ff-492c-9370-304ba11b38f6');\n",
              "var x = new MutationObserver(function (mutations, observer) {{\n",
              "        var display = window.getComputedStyle(gd).display;\n",
              "        if (!display || display === 'none') {{\n",
              "            console.log([gd, 'removed!']);\n",
              "            Plotly.purge(gd);\n",
              "            observer.disconnect();\n",
              "        }}\n",
              "}});\n",
              "\n",
              "// Listen for the removal of the full notebook cells\n",
              "var notebookContainer = gd.closest('#notebook-container');\n",
              "if (notebookContainer) {{\n",
              "    x.observe(notebookContainer, {childList: true});\n",
              "}}\n",
              "\n",
              "// Listen for the clearing of the current output cell\n",
              "var outputEl = gd.closest('.output');\n",
              "if (outputEl) {{\n",
              "    x.observe(outputEl, {childList: true});\n",
              "}}\n",
              "\n",
              "                        })                };                            </script>        </div>\n",
              "</body>\n",
              "</html>"
            ]
          },
          "metadata": {}
        }
      ],
      "source": [
        "px.imshow(datam.corr(), text_auto=True, width=1400, height=1000, template='ggplot2')"
      ]
    },
    {
      "cell_type": "markdown",
      "source": [
        "* The distribution has a high variability, thus I have chosen the median and not the mean as \"imputer\"\n",
        "\n",
        "* There are a lot of outliers in this data set, thus I used the StandardScaler()"
      ],
      "metadata": {
        "id": "D3Xf9-wTZzvJ"
      }
    },
    {
      "cell_type": "code",
      "execution_count": 33,
      "metadata": {
        "id": "NNyLmGlcFvdC"
      },
      "outputs": [],
      "source": [
        "# Defining the numerical Pipeline\n",
        "\n",
        "pipeline_num = Pipeline([\n",
        "    ('imputer', SimpleImputer(strategy='median')),\n",
        "    ('std_scaler', StandardScaler()),\n",
        "  ])\n",
        "\n",
        "# Putting all together in the Transformer\n",
        "\n",
        "final_pipeline = ColumnTransformer([\n",
        "    ('numerical', pipeline_num, list(x_train_num)),\n",
        "    ('categorical', OneHotEncoder(sparse=False), list(x_train_cat)),\n",
        "    #('binarizer', binarytransformer(), ['is_paid'])\n",
        "  ])\n",
        "\n",
        "# Fitting and Transforming the specified columns\n",
        "\n",
        "x_train_tr = final_pipeline.fit_transform(x_train)"
      ]
    },
    {
      "cell_type": "code",
      "execution_count": 34,
      "metadata": {
        "colab": {
          "base_uri": "https://localhost:8080/",
          "height": 485
        },
        "id": "fv-px_llQLE4",
        "outputId": "07f8646a-ae08-4fd7-fb9e-33e8e7e2b1de"
      },
      "outputs": [
        {
          "output_type": "execute_result",
          "data": {
            "text/plain": [
              "      num_subscribers  num_reviews  num_lectures  content_duration  \\\n",
              "1831        -0.698830    -0.352716     -0.579047         -0.549285   \n",
              "474          0.114960    -0.496184     -0.367648         -0.349835   \n",
              "3664         0.148997    -0.516679     -0.609246         -0.464902   \n",
              "2423         1.218578     0.036696      0.236347         -0.234768   \n",
              "509         -0.739055    -0.373212     -0.277049         -0.464902   \n",
              "...               ...          ...           ...               ...   \n",
              "1851         0.089174     0.344127      1.323537         -0.349835   \n",
              "2121        -0.819506    -0.496184     -0.337449         -0.234768   \n",
              "1478        -0.811254    -0.475689     -0.246849         -0.234768   \n",
              "2315        -0.571965    -0.373212      0.115548         -0.349835   \n",
              "1845         0.126306     0.631062      1.806733          1.721376   \n",
              "\n",
              "      All Levels  Beginner Level  Expert Level  Intermediate Level  \\\n",
              "1831         0.0             1.0           0.0                 0.0   \n",
              "474          1.0             0.0           0.0                 0.0   \n",
              "3664         1.0             0.0           0.0                 0.0   \n",
              "2423         0.0             1.0           0.0                 0.0   \n",
              "509          1.0             0.0           0.0                 0.0   \n",
              "...          ...             ...           ...                 ...   \n",
              "1851         0.0             0.0           0.0                 1.0   \n",
              "2121         0.0             0.0           0.0                 1.0   \n",
              "1478         0.0             1.0           0.0                 0.0   \n",
              "2315         0.0             0.0           0.0                 1.0   \n",
              "1845         0.0             1.0           0.0                 0.0   \n",
              "\n",
              "      Business Finance  Graphic Design  Musical Instruments  Web Development  \n",
              "1831               0.0             0.0                  1.0              0.0  \n",
              "474                1.0             0.0                  0.0              0.0  \n",
              "3664               0.0             0.0                  0.0              1.0  \n",
              "2423               0.0             0.0                  1.0              0.0  \n",
              "509                1.0             0.0                  0.0              0.0  \n",
              "...                ...             ...                  ...              ...  \n",
              "1851               0.0             0.0                  1.0              0.0  \n",
              "2121               0.0             0.0                  1.0              0.0  \n",
              "1478               0.0             1.0                  0.0              0.0  \n",
              "2315               0.0             0.0                  1.0              0.0  \n",
              "1845               0.0             0.0                  1.0              0.0  \n",
              "\n",
              "[1823 rows x 12 columns]"
            ],
            "text/html": [
              "\n",
              "  <div id=\"df-c16bfc84-606a-4803-bf91-481bb4e1136a\">\n",
              "    <div class=\"colab-df-container\">\n",
              "      <div>\n",
              "<style scoped>\n",
              "    .dataframe tbody tr th:only-of-type {\n",
              "        vertical-align: middle;\n",
              "    }\n",
              "\n",
              "    .dataframe tbody tr th {\n",
              "        vertical-align: top;\n",
              "    }\n",
              "\n",
              "    .dataframe thead th {\n",
              "        text-align: right;\n",
              "    }\n",
              "</style>\n",
              "<table border=\"1\" class=\"dataframe\">\n",
              "  <thead>\n",
              "    <tr style=\"text-align: right;\">\n",
              "      <th></th>\n",
              "      <th>num_subscribers</th>\n",
              "      <th>num_reviews</th>\n",
              "      <th>num_lectures</th>\n",
              "      <th>content_duration</th>\n",
              "      <th>All Levels</th>\n",
              "      <th>Beginner Level</th>\n",
              "      <th>Expert Level</th>\n",
              "      <th>Intermediate Level</th>\n",
              "      <th>Business Finance</th>\n",
              "      <th>Graphic Design</th>\n",
              "      <th>Musical Instruments</th>\n",
              "      <th>Web Development</th>\n",
              "    </tr>\n",
              "  </thead>\n",
              "  <tbody>\n",
              "    <tr>\n",
              "      <th>1831</th>\n",
              "      <td>-0.698830</td>\n",
              "      <td>-0.352716</td>\n",
              "      <td>-0.579047</td>\n",
              "      <td>-0.549285</td>\n",
              "      <td>0.0</td>\n",
              "      <td>1.0</td>\n",
              "      <td>0.0</td>\n",
              "      <td>0.0</td>\n",
              "      <td>0.0</td>\n",
              "      <td>0.0</td>\n",
              "      <td>1.0</td>\n",
              "      <td>0.0</td>\n",
              "    </tr>\n",
              "    <tr>\n",
              "      <th>474</th>\n",
              "      <td>0.114960</td>\n",
              "      <td>-0.496184</td>\n",
              "      <td>-0.367648</td>\n",
              "      <td>-0.349835</td>\n",
              "      <td>1.0</td>\n",
              "      <td>0.0</td>\n",
              "      <td>0.0</td>\n",
              "      <td>0.0</td>\n",
              "      <td>1.0</td>\n",
              "      <td>0.0</td>\n",
              "      <td>0.0</td>\n",
              "      <td>0.0</td>\n",
              "    </tr>\n",
              "    <tr>\n",
              "      <th>3664</th>\n",
              "      <td>0.148997</td>\n",
              "      <td>-0.516679</td>\n",
              "      <td>-0.609246</td>\n",
              "      <td>-0.464902</td>\n",
              "      <td>1.0</td>\n",
              "      <td>0.0</td>\n",
              "      <td>0.0</td>\n",
              "      <td>0.0</td>\n",
              "      <td>0.0</td>\n",
              "      <td>0.0</td>\n",
              "      <td>0.0</td>\n",
              "      <td>1.0</td>\n",
              "    </tr>\n",
              "    <tr>\n",
              "      <th>2423</th>\n",
              "      <td>1.218578</td>\n",
              "      <td>0.036696</td>\n",
              "      <td>0.236347</td>\n",
              "      <td>-0.234768</td>\n",
              "      <td>0.0</td>\n",
              "      <td>1.0</td>\n",
              "      <td>0.0</td>\n",
              "      <td>0.0</td>\n",
              "      <td>0.0</td>\n",
              "      <td>0.0</td>\n",
              "      <td>1.0</td>\n",
              "      <td>0.0</td>\n",
              "    </tr>\n",
              "    <tr>\n",
              "      <th>509</th>\n",
              "      <td>-0.739055</td>\n",
              "      <td>-0.373212</td>\n",
              "      <td>-0.277049</td>\n",
              "      <td>-0.464902</td>\n",
              "      <td>1.0</td>\n",
              "      <td>0.0</td>\n",
              "      <td>0.0</td>\n",
              "      <td>0.0</td>\n",
              "      <td>1.0</td>\n",
              "      <td>0.0</td>\n",
              "      <td>0.0</td>\n",
              "      <td>0.0</td>\n",
              "    </tr>\n",
              "    <tr>\n",
              "      <th>...</th>\n",
              "      <td>...</td>\n",
              "      <td>...</td>\n",
              "      <td>...</td>\n",
              "      <td>...</td>\n",
              "      <td>...</td>\n",
              "      <td>...</td>\n",
              "      <td>...</td>\n",
              "      <td>...</td>\n",
              "      <td>...</td>\n",
              "      <td>...</td>\n",
              "      <td>...</td>\n",
              "      <td>...</td>\n",
              "    </tr>\n",
              "    <tr>\n",
              "      <th>1851</th>\n",
              "      <td>0.089174</td>\n",
              "      <td>0.344127</td>\n",
              "      <td>1.323537</td>\n",
              "      <td>-0.349835</td>\n",
              "      <td>0.0</td>\n",
              "      <td>0.0</td>\n",
              "      <td>0.0</td>\n",
              "      <td>1.0</td>\n",
              "      <td>0.0</td>\n",
              "      <td>0.0</td>\n",
              "      <td>1.0</td>\n",
              "      <td>0.0</td>\n",
              "    </tr>\n",
              "    <tr>\n",
              "      <th>2121</th>\n",
              "      <td>-0.819506</td>\n",
              "      <td>-0.496184</td>\n",
              "      <td>-0.337449</td>\n",
              "      <td>-0.234768</td>\n",
              "      <td>0.0</td>\n",
              "      <td>0.0</td>\n",
              "      <td>0.0</td>\n",
              "      <td>1.0</td>\n",
              "      <td>0.0</td>\n",
              "      <td>0.0</td>\n",
              "      <td>1.0</td>\n",
              "      <td>0.0</td>\n",
              "    </tr>\n",
              "    <tr>\n",
              "      <th>1478</th>\n",
              "      <td>-0.811254</td>\n",
              "      <td>-0.475689</td>\n",
              "      <td>-0.246849</td>\n",
              "      <td>-0.234768</td>\n",
              "      <td>0.0</td>\n",
              "      <td>1.0</td>\n",
              "      <td>0.0</td>\n",
              "      <td>0.0</td>\n",
              "      <td>0.0</td>\n",
              "      <td>1.0</td>\n",
              "      <td>0.0</td>\n",
              "      <td>0.0</td>\n",
              "    </tr>\n",
              "    <tr>\n",
              "      <th>2315</th>\n",
              "      <td>-0.571965</td>\n",
              "      <td>-0.373212</td>\n",
              "      <td>0.115548</td>\n",
              "      <td>-0.349835</td>\n",
              "      <td>0.0</td>\n",
              "      <td>0.0</td>\n",
              "      <td>0.0</td>\n",
              "      <td>1.0</td>\n",
              "      <td>0.0</td>\n",
              "      <td>0.0</td>\n",
              "      <td>1.0</td>\n",
              "      <td>0.0</td>\n",
              "    </tr>\n",
              "    <tr>\n",
              "      <th>1845</th>\n",
              "      <td>0.126306</td>\n",
              "      <td>0.631062</td>\n",
              "      <td>1.806733</td>\n",
              "      <td>1.721376</td>\n",
              "      <td>0.0</td>\n",
              "      <td>1.0</td>\n",
              "      <td>0.0</td>\n",
              "      <td>0.0</td>\n",
              "      <td>0.0</td>\n",
              "      <td>0.0</td>\n",
              "      <td>1.0</td>\n",
              "      <td>0.0</td>\n",
              "    </tr>\n",
              "  </tbody>\n",
              "</table>\n",
              "<p>1823 rows × 12 columns</p>\n",
              "</div>\n",
              "      <button class=\"colab-df-convert\" onclick=\"convertToInteractive('df-c16bfc84-606a-4803-bf91-481bb4e1136a')\"\n",
              "              title=\"Convert this dataframe to an interactive table.\"\n",
              "              style=\"display:none;\">\n",
              "        \n",
              "  <svg xmlns=\"http://www.w3.org/2000/svg\" height=\"24px\"viewBox=\"0 0 24 24\"\n",
              "       width=\"24px\">\n",
              "    <path d=\"M0 0h24v24H0V0z\" fill=\"none\"/>\n",
              "    <path d=\"M18.56 5.44l.94 2.06.94-2.06 2.06-.94-2.06-.94-.94-2.06-.94 2.06-2.06.94zm-11 1L8.5 8.5l.94-2.06 2.06-.94-2.06-.94L8.5 2.5l-.94 2.06-2.06.94zm10 10l.94 2.06.94-2.06 2.06-.94-2.06-.94-.94-2.06-.94 2.06-2.06.94z\"/><path d=\"M17.41 7.96l-1.37-1.37c-.4-.4-.92-.59-1.43-.59-.52 0-1.04.2-1.43.59L10.3 9.45l-7.72 7.72c-.78.78-.78 2.05 0 2.83L4 21.41c.39.39.9.59 1.41.59.51 0 1.02-.2 1.41-.59l7.78-7.78 2.81-2.81c.8-.78.8-2.07 0-2.86zM5.41 20L4 18.59l7.72-7.72 1.47 1.35L5.41 20z\"/>\n",
              "  </svg>\n",
              "      </button>\n",
              "      \n",
              "  <style>\n",
              "    .colab-df-container {\n",
              "      display:flex;\n",
              "      flex-wrap:wrap;\n",
              "      gap: 12px;\n",
              "    }\n",
              "\n",
              "    .colab-df-convert {\n",
              "      background-color: #E8F0FE;\n",
              "      border: none;\n",
              "      border-radius: 50%;\n",
              "      cursor: pointer;\n",
              "      display: none;\n",
              "      fill: #1967D2;\n",
              "      height: 32px;\n",
              "      padding: 0 0 0 0;\n",
              "      width: 32px;\n",
              "    }\n",
              "\n",
              "    .colab-df-convert:hover {\n",
              "      background-color: #E2EBFA;\n",
              "      box-shadow: 0px 1px 2px rgba(60, 64, 67, 0.3), 0px 1px 3px 1px rgba(60, 64, 67, 0.15);\n",
              "      fill: #174EA6;\n",
              "    }\n",
              "\n",
              "    [theme=dark] .colab-df-convert {\n",
              "      background-color: #3B4455;\n",
              "      fill: #D2E3FC;\n",
              "    }\n",
              "\n",
              "    [theme=dark] .colab-df-convert:hover {\n",
              "      background-color: #434B5C;\n",
              "      box-shadow: 0px 1px 3px 1px rgba(0, 0, 0, 0.15);\n",
              "      filter: drop-shadow(0px 1px 2px rgba(0, 0, 0, 0.3));\n",
              "      fill: #FFFFFF;\n",
              "    }\n",
              "  </style>\n",
              "\n",
              "      <script>\n",
              "        const buttonEl =\n",
              "          document.querySelector('#df-c16bfc84-606a-4803-bf91-481bb4e1136a button.colab-df-convert');\n",
              "        buttonEl.style.display =\n",
              "          google.colab.kernel.accessAllowed ? 'block' : 'none';\n",
              "\n",
              "        async function convertToInteractive(key) {\n",
              "          const element = document.querySelector('#df-c16bfc84-606a-4803-bf91-481bb4e1136a');\n",
              "          const dataTable =\n",
              "            await google.colab.kernel.invokeFunction('convertToInteractive',\n",
              "                                                     [key], {});\n",
              "          if (!dataTable) return;\n",
              "\n",
              "          const docLinkHtml = 'Like what you see? Visit the ' +\n",
              "            '<a target=\"_blank\" href=https://colab.research.google.com/notebooks/data_table.ipynb>data table notebook</a>'\n",
              "            + ' to learn more about interactive tables.';\n",
              "          element.innerHTML = '';\n",
              "          dataTable['output_type'] = 'display_data';\n",
              "          await google.colab.output.renderOutput(dataTable, element);\n",
              "          const docLink = document.createElement('div');\n",
              "          docLink.innerHTML = docLinkHtml;\n",
              "          element.appendChild(docLink);\n",
              "        }\n",
              "      </script>\n",
              "    </div>\n",
              "  </div>\n",
              "  "
            ]
          },
          "metadata": {},
          "execution_count": 34
        }
      ],
      "source": [
        "dataf = pd.DataFrame(x_train_tr, columns=list(x_train_num.columns) + list(encoder.get_feature_names_out()), index = x_train.index)\n",
        "dataf.columns = dataf.columns.str.replace('/|(level_)|(subject_)|/', '', regex=True)\n",
        "dataf"
      ]
    },
    {
      "cell_type": "markdown",
      "metadata": {
        "id": "egSQNE3xKbxe"
      },
      "source": [
        "## Model selection and training"
      ]
    },
    {
      "cell_type": "markdown",
      "source": [
        "* We have an overfitting with the Decision Tree\n",
        "* We expected the Random Forest as the best predictor"
      ],
      "metadata": {
        "id": "1s6vR93qRXKJ"
      }
    },
    {
      "cell_type": "code",
      "execution_count": 61,
      "metadata": {
        "colab": {
          "base_uri": "https://localhost:8080/"
        },
        "id": "sxnMQXd8-0UV",
        "outputId": "acdc833f-18eb-48c6-d9a0-3e3c89402063"
      },
      "outputs": [
        {
          "output_type": "stream",
          "name": "stdout",
          "text": [
            "Name: Polynomial Regression\n",
            "RMSE: 13.157438874569577\n",
            "MAE: 10.951621057025843\n",
            "Name: Decision Tree\n",
            "RMSE: 0.4968358466083553\n",
            "MAE: 0.016456390565002744\n",
            "Name: Random Forest\n",
            "RMSE: 5.157952509515824\n",
            "MAE: 4.114468693676044\n",
            "Name: SVR\n",
            "RMSE: 12.502542274127741\n",
            "MAE: 8.778355484466259\n",
            "Name: KNN\n",
            "RMSE: 11.696800412049434\n",
            "MAE: 9.206801974766869\n"
          ]
        }
      ],
      "source": [
        "def display_errors(labels, predictions):\n",
        "  print('RMSE:', mean_squared_error(labels, predictions, squared=False))\n",
        "  print('MAE:', mean_absolute_error(labels, predictions))\n",
        "\n",
        "def dispaly_accuracy(labels, predictions):\n",
        "  errors = abs(labels - predictions)\n",
        "  mape = 100 * np.mean(errors / labels)\n",
        "  accuracy = 100 - mape\n",
        "  print(f\"Accuracy: {accuracy:5.2f} %\")\n",
        "\n",
        "lnreg_pipeline = Pipeline([\n",
        "    ('transformation', final_pipeline),\n",
        "    ('polyfeatures', PolynomialFeatures()),\n",
        "    ('lnreg', LinearRegression()),\n",
        "  ])\n",
        "\n",
        "tree_pipeline = Pipeline([\n",
        "    ('transformation', final_pipeline),\n",
        "    ('tree', DecisionTreeRegressor()),\n",
        "  ])\n",
        "\n",
        "forest_pipeline = Pipeline([\n",
        "    ('transformation', final_pipeline),\n",
        "    ('forest', RandomForestRegressor()),\n",
        "  ])\n",
        "\n",
        "svr_pipeline = Pipeline([\n",
        "    ('transformation', final_pipeline),\n",
        "    ('svr', SVR(kernel='rbf', C=100)),\n",
        "  ])\n",
        "\n",
        "knn_pipeline = Pipeline([\n",
        "    ('transformation', final_pipeline),\n",
        "    ('knn', KNeighborsRegressor()),\n",
        "  ])\n",
        "\n",
        "pipes = [lnreg_pipeline, tree_pipeline, forest_pipeline, svr_pipeline, knn_pipeline]\n",
        "\n",
        "names = ['Polynomial Regression', 'Decision Tree', 'Random Forest', 'SVR', 'KNN']\n",
        "\n",
        "\n",
        "for i, pipe in zip(names, pipes):\n",
        "  pipe.fit(x_train, y_train)\n",
        "  predictions = pipe.predict(x_train)\n",
        "  print('Name:', i)\n",
        "  display_errors(y_train, predictions)"
      ]
    },
    {
      "cell_type": "markdown",
      "source": [
        "### Cross-validation "
      ],
      "metadata": {
        "id": "ZaKpf6SpN9JA"
      }
    },
    {
      "cell_type": "markdown",
      "source": [
        "Random Forest was the best model"
      ],
      "metadata": {
        "id": "CQdQj41nSt4f"
      }
    },
    {
      "cell_type": "code",
      "execution_count": 62,
      "metadata": {
        "colab": {
          "base_uri": "https://localhost:8080/"
        },
        "id": "QrgaoDpd_r_U",
        "outputId": "84b50a99-2b9d-427d-d739-b24df025d62c"
      },
      "outputs": [
        {
          "output_type": "stream",
          "name": "stdout",
          "text": [
            "Model: Polynomial Regression\n",
            "13.75216998908571\n",
            "-----------------------\n",
            "Model: Decision Tree\n",
            "18.454186073869405\n",
            "-----------------------\n",
            "Model: Random Forest\n",
            "13.640272193981454\n",
            "-----------------------\n",
            "Model: SVR\n",
            "14.476825405978357\n",
            "-----------------------\n",
            "Model: KNN\n",
            "14.230570720754509\n",
            "-----------------------\n"
          ]
        }
      ],
      "source": [
        "# Using k-fold\n",
        "\n",
        "for i, model in zip(names, pipes):\n",
        "  print('Model:', i)\n",
        "  scores = cross_val_score(model, x_train, y_train,\n",
        "                               scoring='neg_mean_squared_error', cv=5)\n",
        "  rmse_scores = np.sqrt(-scores)\n",
        "  print(np.mean(rmse_scores))\n",
        "  print('-----------------------')"
      ]
    },
    {
      "cell_type": "markdown",
      "metadata": {
        "id": "uc9OT2-VU3hl"
      },
      "source": [
        "### Model Boosting"
      ]
    },
    {
      "cell_type": "markdown",
      "source": [
        "Since I just have a few models to try and I just want to test different hiperparamters, I used randomized search.\n",
        "\n",
        "\n"
      ],
      "metadata": {
        "id": "2Mk9bKS7OH7W"
      }
    },
    {
      "cell_type": "code",
      "execution_count": 37,
      "metadata": {
        "colab": {
          "base_uri": "https://localhost:8080/"
        },
        "id": "RKuQ8z9HNeqc",
        "outputId": "1f1457d6-d70e-4eba-c4dc-69299fecf49e"
      },
      "outputs": [
        {
          "output_type": "stream",
          "name": "stdout",
          "text": [
            "Fitting 4 folds for each of 100 candidates, totalling 400 fits\n"
          ]
        },
        {
          "output_type": "execute_result",
          "data": {
            "text/plain": [
              "RandomizedSearchCV(cv=4, estimator=RandomForestRegressor(), n_iter=100,\n",
              "                   n_jobs=-1,\n",
              "                   param_distributions={'bootstrap': [True, False],\n",
              "                                        'max_depth': [10, 20, 30, 40, 50, 60,\n",
              "                                                      70, 80, 90, 100, 110,\n",
              "                                                      None],\n",
              "                                        'max_features': ['auto', 'sqrt'],\n",
              "                                        'min_samples_leaf': [1, 2, 4],\n",
              "                                        'min_samples_split': [2, 5, 10],\n",
              "                                        'n_estimators': [200, 400, 600, 800,\n",
              "                                                         1000, 1200, 1400, 1600,\n",
              "                                                         1800, 2000]},\n",
              "                   random_state=42, scoring='neg_mean_squared_error',\n",
              "                   verbose=2)"
            ]
          },
          "metadata": {},
          "execution_count": 37
        }
      ],
      "source": [
        "n_estimators = [int(x) for x in np.linspace(start = 200, stop = 2000, num = 10)]\n",
        "max_features = ['auto', 'sqrt']\n",
        "max_depth = [int(x) for x in np.linspace(10, 110, num = 11)]\n",
        "max_depth.append(None)\n",
        "min_samples_split = [2, 5, 10]\n",
        "min_samples_leaf = [1, 2, 4]\n",
        "bootstrap = [True, False]\n",
        "random_grid = {'n_estimators': n_estimators,\n",
        "               'max_features': max_features,\n",
        "               'max_depth': max_depth,\n",
        "               'min_samples_split': min_samples_split,\n",
        "               'min_samples_leaf': min_samples_leaf,\n",
        "               'bootstrap': bootstrap}\n",
        "\n",
        "\n",
        "model = RandomForestRegressor()\n",
        "rand_search = RandomizedSearchCV(model, n_iter=100, cv=4,\n",
        "                                 param_distributions=random_grid,\n",
        "                                 scoring='neg_mean_squared_error',\n",
        "                                 verbose=2, n_jobs=-1, random_state=42)\n",
        "\n",
        "rand_search.fit(x_train_tr, y_train)"
      ]
    },
    {
      "cell_type": "code",
      "execution_count": 38,
      "metadata": {
        "colab": {
          "base_uri": "https://localhost:8080/"
        },
        "id": "Yyy5ogYDZb27",
        "outputId": "985fdcf5-1d46-4f3d-b938-c9e688d3be5e"
      },
      "outputs": [
        {
          "output_type": "stream",
          "name": "stdout",
          "text": [
            "[(0.2625524557391591, 'num_subscribers'), (0.21382985296724658, 'num_lectures'), (0.18149882515436824, 'content_duration'), (0.16902447946030347, 'num_reviews'), (0.03317792347877378, 'Graphic Design'), (0.031221481065131337, 'Musical Instruments'), (0.031057507522714436, 'Beginner Level'), (0.02330548128438969, 'Business Finance'), (0.021181379304860925, 'All Levels'), (0.01931236880382591, 'Web Development'), (0.01264502133414857, 'Intermediate Level'), (0.001193223885077925, 'Expert Level')]\n",
            "\n",
            "Best Score Error: 13.27605606378501\n"
          ]
        }
      ],
      "source": [
        "f_importance = rand_search.best_estimator_.feature_importances_\n",
        "attributes = dataf.columns\n",
        "print(sorted(zip(f_importance, attributes), reverse=True))\n",
        "print('\\nBest Score Error:', np.sqrt(-rand_search.best_score_))"
      ]
    },
    {
      "cell_type": "markdown",
      "metadata": {
        "id": "VH05GsLRaI0f"
      },
      "source": [
        "## Testing in the test_set"
      ]
    },
    {
      "cell_type": "code",
      "execution_count": 41,
      "metadata": {
        "colab": {
          "base_uri": "https://localhost:8080/"
        },
        "id": "9oIhtUJZZhos",
        "outputId": "3673fbae-3485-4c5c-9ef7-d8f0f97c87c7"
      },
      "outputs": [
        {
          "output_type": "stream",
          "name": "stdout",
          "text": [
            "RMSE: 13.230795124698638\n",
            "MAE: 10.891758828742079\n"
          ]
        }
      ],
      "source": [
        "final_model = rand_search.best_estimator_\n",
        "x_test_tr = final_pipeline.transform(x_test)\n",
        "final_predictions = final_model.predict(x_test_tr)\n",
        "display_errors(y_test, final_predictions)"
      ]
    },
    {
      "cell_type": "markdown",
      "source": [
        "## Conclusions"
      ],
      "metadata": {
        "id": "zSv3r3aoPYKU"
      }
    }
  ],
  "metadata": {
    "colab": {
      "collapsed_sections": [],
      "provenance": [],
      "authorship_tag": "ABX9TyPtSM+RGQUz+ZZnXJGhMMPF",
      "include_colab_link": true
    },
    "kernelspec": {
      "display_name": "Python 3",
      "name": "python3"
    },
    "language_info": {
      "name": "python"
    }
  },
  "nbformat": 4,
  "nbformat_minor": 0
}